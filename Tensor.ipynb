{
  "nbformat": 4,
  "nbformat_minor": 0,
  "metadata": {
    "colab": {
      "name": "Tensor",
      "provenance": [],
      "collapsed_sections": [],
      "authorship_tag": "ABX9TyMJKZAx/RBk2XKWUTFMwM6k",
      "include_colab_link": true
    },
    "kernelspec": {
      "name": "python3",
      "display_name": "Python 3"
    }
  },
  "cells": [
    {
      "cell_type": "markdown",
      "metadata": {
        "id": "view-in-github",
        "colab_type": "text"
      },
      "source": [
        "<a href=\"https://colab.research.google.com/github/dreamjh20/Artificial-Intelligence-Study/blob/main/Tensor.ipynb\" target=\"_parent\"><img src=\"https://colab.research.google.com/assets/colab-badge.svg\" alt=\"Open In Colab\"/></a>"
      ]
    },
    {
      "cell_type": "code",
      "metadata": {
        "colab": {
          "base_uri": "https://localhost:8080/"
        },
        "id": "ljXmKbc1BrVb",
        "outputId": "b37008d9-f4a1-4b32-c745-e4ac07ee7828"
      },
      "source": [
        "import torch\r\n",
        "\r\n",
        "scalar1 = torch.tensor([1.])\r\n",
        "print(scalar1)\r\n"
      ],
      "execution_count": 15,
      "outputs": [
        {
          "output_type": "stream",
          "text": [
            "tensor([1.])\n"
          ],
          "name": "stdout"
        }
      ]
    },
    {
      "cell_type": "code",
      "metadata": {
        "colab": {
          "base_uri": "https://localhost:8080/"
        },
        "id": "foaBmsr4TEj7",
        "outputId": "627db033-2bb3-4ab2-8956-93baa110ade4"
      },
      "source": [
        "scalar2 = torch.tensor([2.])\r\n",
        "print(scalar2)\r\n"
      ],
      "execution_count": 16,
      "outputs": [
        {
          "output_type": "stream",
          "text": [
            "tensor([2.])\n"
          ],
          "name": "stdout"
        }
      ]
    },
    {
      "cell_type": "code",
      "metadata": {
        "colab": {
          "base_uri": "https://localhost:8080/"
        },
        "id": "dD_AfO-BW8Th",
        "outputId": "34d6d028-93a7-4d72-98a5-dc2fd71707e9"
      },
      "source": [
        "added_scalar = scalar1+scalar2\r\n",
        "print(added_scalar)"
      ],
      "execution_count": 18,
      "outputs": [
        {
          "output_type": "stream",
          "text": [
            "tensor([3.])\n"
          ],
          "name": "stdout"
        }
      ]
    },
    {
      "cell_type": "code",
      "metadata": {
        "colab": {
          "base_uri": "https://localhost:8080/"
        },
        "id": "d4HsNfIcXLxv",
        "outputId": "033f3c7b-f960-4ac0-fccc-e6320268028a"
      },
      "source": [
        "dived_scalar = scalar1 / scalar2\r\n",
        "print(dived_scalar)"
      ],
      "execution_count": 19,
      "outputs": [
        {
          "output_type": "stream",
          "text": [
            "tensor([0.5000])\n"
          ],
          "name": "stdout"
        }
      ]
    },
    {
      "cell_type": "code",
      "metadata": {
        "colab": {
          "base_uri": "https://localhost:8080/"
        },
        "id": "6FquP4tkYwz0",
        "outputId": "c4a250a1-cf69-4e0e-891c-9f6dda47f831"
      },
      "source": [
        "torch.add(scalar1, scalar2)"
      ],
      "execution_count": 20,
      "outputs": [
        {
          "output_type": "execute_result",
          "data": {
            "text/plain": [
              "tensor([3.])"
            ]
          },
          "metadata": {
            "tags": []
          },
          "execution_count": 20
        }
      ]
    },
    {
      "cell_type": "code",
      "metadata": {
        "colab": {
          "base_uri": "https://localhost:8080/"
        },
        "id": "8BjR8JBUY8PW",
        "outputId": "662e77c4-a11b-4240-8e63-eca8154a10ed"
      },
      "source": [
        "torch.sub(scalar1, scalar2)"
      ],
      "execution_count": 21,
      "outputs": [
        {
          "output_type": "execute_result",
          "data": {
            "text/plain": [
              "tensor([-1.])"
            ]
          },
          "metadata": {
            "tags": []
          },
          "execution_count": 21
        }
      ]
    },
    {
      "cell_type": "code",
      "metadata": {
        "colab": {
          "base_uri": "https://localhost:8080/"
        },
        "id": "_ppKDmPDZHeA",
        "outputId": "dbaed8be-661a-4198-a352-fc6715f69db5"
      },
      "source": [
        "torch.mul(scalar1, scalar2)"
      ],
      "execution_count": 22,
      "outputs": [
        {
          "output_type": "execute_result",
          "data": {
            "text/plain": [
              "tensor([2.])"
            ]
          },
          "metadata": {
            "tags": []
          },
          "execution_count": 22
        }
      ]
    },
    {
      "cell_type": "code",
      "metadata": {
        "colab": {
          "base_uri": "https://localhost:8080/"
        },
        "id": "G1E4eDc-ZKUB",
        "outputId": "f1a7a065-272f-4732-af7d-93cfc3b1eacf"
      },
      "source": [
        "torch.div(scalar1, scalar2)"
      ],
      "execution_count": 23,
      "outputs": [
        {
          "output_type": "execute_result",
          "data": {
            "text/plain": [
              "tensor([0.5000])"
            ]
          },
          "metadata": {
            "tags": []
          },
          "execution_count": 23
        }
      ]
    }
  ]
}