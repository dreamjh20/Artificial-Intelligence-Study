{
  "nbformat": 4,
  "nbformat_minor": 0,
  "metadata": {
    "colab": {
      "name": "Matrix",
      "provenance": [],
      "collapsed_sections": [],
      "authorship_tag": "ABX9TyMf7ZOxtyivbsvQkIdMIT6U",
      "include_colab_link": true
    },
    "kernelspec": {
      "name": "python3",
      "display_name": "Python 3"
    }
  },
  "cells": [
    {
      "cell_type": "markdown",
      "metadata": {
        "id": "view-in-github",
        "colab_type": "text"
      },
      "source": [
        "<a href=\"https://colab.research.google.com/github/dreamjh20/Artificial-Intelligence-Study/blob/main/Matrix.ipynb\" target=\"_parent\"><img src=\"https://colab.research.google.com/assets/colab-badge.svg\" alt=\"Open In Colab\"/></a>"
      ]
    },
    {
      "cell_type": "code",
      "metadata": {
        "colab": {
          "base_uri": "https://localhost:8080/"
        },
        "id": "zrILsXmtnlzG",
        "outputId": "eca7b6c6-00dc-4cd5-cd24-6bcadb088558"
      },
      "source": [
        "import torch\r\n",
        "\r\n",
        "matrix1 = torch.tensor([[1., 2.], [3., 4.]])\r\n",
        "print(matrix1)"
      ],
      "execution_count": 1,
      "outputs": [
        {
          "output_type": "stream",
          "text": [
            "tensor([[1., 2.],\n",
            "        [3., 4.]])\n"
          ],
          "name": "stdout"
        }
      ]
    },
    {
      "cell_type": "code",
      "metadata": {
        "colab": {
          "base_uri": "https://localhost:8080/"
        },
        "id": "t10NXuh5pMZR",
        "outputId": "06bf50da-4da8-4acc-cb37-082f6adbea8b"
      },
      "source": [
        "matrix2 = torch.tensor([[5., 6.], [7., 8.]])\r\n",
        "print(matrix2)"
      ],
      "execution_count": 2,
      "outputs": [
        {
          "output_type": "stream",
          "text": [
            "tensor([[5., 6.],\n",
            "        [7., 8.]])\n"
          ],
          "name": "stdout"
        }
      ]
    },
    {
      "cell_type": "code",
      "metadata": {
        "colab": {
          "base_uri": "https://localhost:8080/"
        },
        "id": "6KwA-fKcH_k1",
        "outputId": "d0171676-948a-48a1-d1df-3d9cae529e48"
      },
      "source": [
        "added_matrix = matrix1 + matrix2\r\n",
        "print(added_matrix)"
      ],
      "execution_count": 3,
      "outputs": [
        {
          "output_type": "stream",
          "text": [
            "tensor([[ 6.,  8.],\n",
            "        [10., 12.]])\n"
          ],
          "name": "stdout"
        }
      ]
    },
    {
      "cell_type": "code",
      "metadata": {
        "colab": {
          "base_uri": "https://localhost:8080/"
        },
        "id": "b7x0p30RIvsT",
        "outputId": "b5ac5ca0-3f62-4845-afb3-f49431873c07"
      },
      "source": [
        "sub_matrix = matrix1 - matrix2\r\n",
        "print(sub_matrix)"
      ],
      "execution_count": 4,
      "outputs": [
        {
          "output_type": "stream",
          "text": [
            "tensor([[-4., -4.],\n",
            "        [-4., -4.]])\n"
          ],
          "name": "stdout"
        }
      ]
    },
    {
      "cell_type": "code",
      "metadata": {
        "colab": {
          "base_uri": "https://localhost:8080/"
        },
        "id": "ShAnRs3QI438",
        "outputId": "865423d7-2e2d-4099-d6a4-d7701f047882"
      },
      "source": [
        "mult_matrix = matrix1 * matrix2\r\n",
        "print(mult_matrix)"
      ],
      "execution_count": 5,
      "outputs": [
        {
          "output_type": "stream",
          "text": [
            "tensor([[ 5., 12.],\n",
            "        [21., 32.]])\n"
          ],
          "name": "stdout"
        }
      ]
    },
    {
      "cell_type": "code",
      "metadata": {
        "colab": {
          "base_uri": "https://localhost:8080/"
        },
        "id": "LsMiWlDVJTps",
        "outputId": "3190305d-2198-465d-ce5c-30d177344ff2"
      },
      "source": [
        "div_matrix = matrix1 / matrix2\r\n",
        "print(div_matrix)"
      ],
      "execution_count": 6,
      "outputs": [
        {
          "output_type": "stream",
          "text": [
            "tensor([[0.2000, 0.3333],\n",
            "        [0.4286, 0.5000]])\n"
          ],
          "name": "stdout"
        }
      ]
    },
    {
      "cell_type": "code",
      "metadata": {
        "colab": {
          "base_uri": "https://localhost:8080/"
        },
        "id": "-cQxVoH7K10z",
        "outputId": "c7471c16-2acf-4ab4-970e-9a39a9efc3a4"
      },
      "source": [
        "#나머지\r\n",
        "rem_matrix = matrix1 % matrix2\r\n",
        "print(rem_matrix)"
      ],
      "execution_count": 7,
      "outputs": [
        {
          "output_type": "stream",
          "text": [
            "tensor([[1., 2.],\n",
            "        [3., 4.]])\n"
          ],
          "name": "stdout"
        }
      ]
    },
    {
      "cell_type": "code",
      "metadata": {
        "colab": {
          "base_uri": "https://localhost:8080/"
        },
        "id": "PxXud5G-MySM",
        "outputId": "46aec37c-b55e-4d3d-9915-db0729a04823"
      },
      "source": [
        "torch.add(matrix1, matrix2)"
      ],
      "execution_count": 8,
      "outputs": [
        {
          "output_type": "execute_result",
          "data": {
            "text/plain": [
              "tensor([[ 6.,  8.],\n",
              "        [10., 12.]])"
            ]
          },
          "metadata": {
            "tags": []
          },
          "execution_count": 8
        }
      ]
    },
    {
      "cell_type": "code",
      "metadata": {
        "colab": {
          "base_uri": "https://localhost:8080/"
        },
        "id": "lvgRBQr5tZeZ",
        "outputId": "06fbb5ef-0170-4264-ccd6-c4921b8fd5cb"
      },
      "source": [
        "torch.mul(matrix1, matrix2)"
      ],
      "execution_count": 9,
      "outputs": [
        {
          "output_type": "execute_result",
          "data": {
            "text/plain": [
              "tensor([[ 5., 12.],\n",
              "        [21., 32.]])"
            ]
          },
          "metadata": {
            "tags": []
          },
          "execution_count": 9
        }
      ]
    },
    {
      "cell_type": "code",
      "metadata": {
        "colab": {
          "base_uri": "https://localhost:8080/"
        },
        "id": "71IR8XHFtwCX",
        "outputId": "eed8726a-b501-42f2-c081-2724bd6b8282"
      },
      "source": [
        "torch.sub(matrix1, matrix2)"
      ],
      "execution_count": 10,
      "outputs": [
        {
          "output_type": "execute_result",
          "data": {
            "text/plain": [
              "tensor([[-4., -4.],\n",
              "        [-4., -4.]])"
            ]
          },
          "metadata": {
            "tags": []
          },
          "execution_count": 10
        }
      ]
    },
    {
      "cell_type": "code",
      "metadata": {
        "colab": {
          "base_uri": "https://localhost:8080/"
        },
        "id": "AQ-8Rr-Uv18x",
        "outputId": "416e2092-5901-4dbd-8abc-ff48b5db3d9f"
      },
      "source": [
        "torch.div(matrix1, matrix2)"
      ],
      "execution_count": 11,
      "outputs": [
        {
          "output_type": "execute_result",
          "data": {
            "text/plain": [
              "tensor([[0.2000, 0.3333],\n",
              "        [0.4286, 0.5000]])"
            ]
          },
          "metadata": {
            "tags": []
          },
          "execution_count": 11
        }
      ]
    }
  ]
}