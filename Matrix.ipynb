{
  "nbformat": 4,
  "nbformat_minor": 0,
  "metadata": {
    "colab": {
      "name": "Matrix",
      "provenance": [],
      "collapsed_sections": [],
      "authorship_tag": "ABX9TyPGWE7Q8aCIEaxrfxQA1tBH",
      "include_colab_link": true
    },
    "kernelspec": {
      "name": "python3",
      "display_name": "Python 3"
    }
  },
  "cells": [
    {
      "cell_type": "markdown",
      "metadata": {
        "id": "view-in-github",
        "colab_type": "text"
      },
      "source": [
        "<a href=\"https://colab.research.google.com/github/dreamjh20/Artificial-Intelligence-Study/blob/main/Matrix.ipynb\" target=\"_parent\"><img src=\"https://colab.research.google.com/assets/colab-badge.svg\" alt=\"Open In Colab\"/></a>"
      ]
    },
    {
      "cell_type": "code",
      "metadata": {
        "colab": {
          "base_uri": "https://localhost:8080/"
        },
        "id": "zrILsXmtnlzG",
        "outputId": "c07ea8cf-3cc7-480d-fba3-74eebe95e134"
      },
      "source": [
        "import torch\r\n",
        "\r\n",
        "matrix1 = torch.tensor([[1., 2.], [3., 4.]])\r\n",
        "print(matrix1)"
      ],
      "execution_count": null,
      "outputs": [
        {
          "output_type": "stream",
          "text": [
            "tensor([[1., 2.],\n",
            "        [3., 4.]])\n"
          ],
          "name": "stdout"
        }
      ]
    },
    {
      "cell_type": "code",
      "metadata": {
        "colab": {
          "base_uri": "https://localhost:8080/"
        },
        "id": "t10NXuh5pMZR",
        "outputId": "6fea374c-aa10-4dbe-94ce-5c644828dc25"
      },
      "source": [
        "matrix2 = torch.tensor([[5., 6.], [7., 8.]])\r\n",
        "print(matrix2)"
      ],
      "execution_count": null,
      "outputs": [
        {
          "output_type": "stream",
          "text": [
            "tensor([[5., 6.],\n",
            "        [7., 8.]])\n"
          ],
          "name": "stdout"
        }
      ]
    },
    {
      "cell_type": "code",
      "metadata": {
        "colab": {
          "base_uri": "https://localhost:8080/"
        },
        "id": "6KwA-fKcH_k1",
        "outputId": "7cd442c5-7925-444f-b851-29902eab9386"
      },
      "source": [
        "added_matrix = matrix1 + matrix2\r\n",
        "print(added_matrix)"
      ],
      "execution_count": null,
      "outputs": [
        {
          "output_type": "stream",
          "text": [
            "tensor([[ 6.,  8.],\n",
            "        [10., 12.]])\n"
          ],
          "name": "stdout"
        }
      ]
    },
    {
      "cell_type": "code",
      "metadata": {
        "colab": {
          "base_uri": "https://localhost:8080/"
        },
        "id": "b7x0p30RIvsT",
        "outputId": "8ec99eeb-3e7e-4a5d-f43d-5d9813e2d83f"
      },
      "source": [
        "sub_matrix = matrix1 - matrix2\r\n",
        "print(sub_matrix)"
      ],
      "execution_count": null,
      "outputs": [
        {
          "output_type": "stream",
          "text": [
            "tensor([[-4., -4.],\n",
            "        [-4., -4.]])\n"
          ],
          "name": "stdout"
        }
      ]
    },
    {
      "cell_type": "code",
      "metadata": {
        "colab": {
          "base_uri": "https://localhost:8080/"
        },
        "id": "ShAnRs3QI438",
        "outputId": "fba8c76b-318e-4868-f500-4b01c89e1774"
      },
      "source": [
        "mult_matrix = matrix1 * matrix2\r\n",
        "print(mult_matrix)"
      ],
      "execution_count": null,
      "outputs": [
        {
          "output_type": "stream",
          "text": [
            "tensor([[ 5., 12.],\n",
            "        [21., 32.]])\n"
          ],
          "name": "stdout"
        }
      ]
    },
    {
      "cell_type": "code",
      "metadata": {
        "colab": {
          "base_uri": "https://localhost:8080/"
        },
        "id": "LsMiWlDVJTps",
        "outputId": "4e8b507d-287a-475c-db30-1fb9442e6b93"
      },
      "source": [
        "div_matrix = matrix1 / matrix2\r\n",
        "print(div_matrix)"
      ],
      "execution_count": null,
      "outputs": [
        {
          "output_type": "stream",
          "text": [
            "tensor([[0.2000, 0.3333],\n",
            "        [0.4286, 0.5000]])\n"
          ],
          "name": "stdout"
        }
      ]
    },
    {
      "cell_type": "code",
      "metadata": {
        "colab": {
          "base_uri": "https://localhost:8080/"
        },
        "id": "-cQxVoH7K10z",
        "outputId": "02c9c30e-13ef-4724-d0c5-fe9a4d05887b"
      },
      "source": [
        "#나머지\r\n",
        "rem_matrix = matrix1 % matrix2\r\n",
        "print(rem_matrix)"
      ],
      "execution_count": null,
      "outputs": [
        {
          "output_type": "stream",
          "text": [
            "tensor([[1., 2.],\n",
            "        [3., 4.]])\n"
          ],
          "name": "stdout"
        }
      ]
    },
    {
      "cell_type": "code",
      "metadata": {
        "colab": {
          "base_uri": "https://localhost:8080/"
        },
        "id": "PxXud5G-MySM",
        "outputId": "465abd58-3c9b-425d-8b8d-2ba12256b8fc"
      },
      "source": [
        "torch.add(matrix1, matrix2)"
      ],
      "execution_count": null,
      "outputs": [
        {
          "output_type": "execute_result",
          "data": {
            "text/plain": [
              "tensor([[ 6.,  8.],\n",
              "        [10., 12.]])"
            ]
          },
          "metadata": {
            "tags": []
          },
          "execution_count": 19
        }
      ]
    },
    {
      "cell_type": "code",
      "metadata": {
        "colab": {
          "base_uri": "https://localhost:8080/"
        },
        "id": "lvgRBQr5tZeZ",
        "outputId": "ee811d56-b953-4092-e6bb-185837c92a32"
      },
      "source": [
        "torch.mul(matrix1, matrix2)"
      ],
      "execution_count": null,
      "outputs": [
        {
          "output_type": "execute_result",
          "data": {
            "text/plain": [
              "tensor([[ 5., 12.],\n",
              "        [21., 32.]])"
            ]
          },
          "metadata": {
            "tags": []
          },
          "execution_count": 20
        }
      ]
    },
    {
      "cell_type": "code",
      "metadata": {
        "colab": {
          "base_uri": "https://localhost:8080/"
        },
        "id": "71IR8XHFtwCX",
        "outputId": "e42f064e-f967-4d1b-fc49-fdbedd937b49"
      },
      "source": [
        "torch.sub(matrix1, matrix2)"
      ],
      "execution_count": null,
      "outputs": [
        {
          "output_type": "execute_result",
          "data": {
            "text/plain": [
              "tensor([[-4., -4.],\n",
              "        [-4., -4.]])"
            ]
          },
          "metadata": {
            "tags": []
          },
          "execution_count": 21
        }
      ]
    },
    {
      "cell_type": "code",
      "metadata": {
        "colab": {
          "base_uri": "https://localhost:8080/"
        },
        "id": "AQ-8Rr-Uv18x",
        "outputId": "7182b63e-1e3a-492c-c3f5-5bc54d9aa6b8"
      },
      "source": [
        "torch.div(matrix1, matrix2)"
      ],
      "execution_count": null,
      "outputs": [
        {
          "output_type": "execute_result",
          "data": {
            "text/plain": [
              "tensor([[0.2000, 0.3333],\n",
              "        [0.4286, 0.5000]])"
            ]
          },
          "metadata": {
            "tags": []
          },
          "execution_count": 22
        }
      ]
    },
    {
      "cell_type": "code",
      "metadata": {
        "id": "AYUP7IHG8KY6"
      },
      "source": [
        ""
      ],
      "execution_count": null,
      "outputs": []
    }
  ]
}