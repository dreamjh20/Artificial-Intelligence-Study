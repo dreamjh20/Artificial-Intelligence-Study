{
  "nbformat": 4,
  "nbformat_minor": 0,
  "metadata": {
    "colab": {
      "name": "tensor",
      "provenance": [],
      "collapsed_sections": [],
      "authorship_tag": "ABX9TyMQAjJMm4+yG71PlzUAoQ2f",
      "include_colab_link": true
    },
    "kernelspec": {
      "name": "python3",
      "display_name": "Python 3"
    }
  },
  "cells": [
    {
      "cell_type": "markdown",
      "metadata": {
        "id": "view-in-github",
        "colab_type": "text"
      },
      "source": [
        "<a href=\"https://colab.research.google.com/github/dreamjh20/Artificial-Intelligence-Study/blob/main/tensor.ipynb\" target=\"_parent\"><img src=\"https://colab.research.google.com/assets/colab-badge.svg\" alt=\"Open In Colab\"/></a>"
      ]
    },
    {
      "cell_type": "code",
      "metadata": {
        "colab": {
          "base_uri": "https://localhost:8080/"
        },
        "id": "hIIv8sCpKTAX",
        "outputId": "58825f82-d816-4c6e-fc18-cc3e3fae6380"
      },
      "source": [
        "import torch\r\n",
        "\r\n",
        "tensor1 = torch.tensor([[[1., 2.], [3., 4.]], [[5., 6.], [7., 8.]]])\r\n",
        "print(tensor1)"
      ],
      "execution_count": 2,
      "outputs": [
        {
          "output_type": "stream",
          "text": [
            "tensor([[[1., 2.],\n",
            "         [3., 4.]],\n",
            "\n",
            "        [[5., 6.],\n",
            "         [7., 8.]]])\n"
          ],
          "name": "stdout"
        }
      ]
    },
    {
      "cell_type": "code",
      "metadata": {
        "colab": {
          "base_uri": "https://localhost:8080/"
        },
        "id": "yubiw6Zewikw",
        "outputId": "bbec45e4-f910-4c66-ff53-282fb80efdc5"
      },
      "source": [
        "tensor2 = torch.tensor([[[9., 10.], [11., 12.]], [[13., 14.], [15., 16.]]])\r\n",
        "print(tensor2)"
      ],
      "execution_count": 3,
      "outputs": [
        {
          "output_type": "stream",
          "text": [
            "tensor([[[ 9., 10.],\n",
            "         [11., 12.]],\n",
            "\n",
            "        [[13., 14.],\n",
            "         [15., 16.]]])\n"
          ],
          "name": "stdout"
        }
      ]
    },
    {
      "cell_type": "code",
      "metadata": {
        "colab": {
          "base_uri": "https://localhost:8080/"
        },
        "id": "HKuxO4HtyWkC",
        "outputId": "64393c85-6b60-4f5d-8c43-1dccd7d597a8"
      },
      "source": [
        "added_tensor = tensor1 + tensor2\r\n",
        "print(added_tensor)"
      ],
      "execution_count": 4,
      "outputs": [
        {
          "output_type": "stream",
          "text": [
            "tensor([[[10., 12.],\n",
            "         [14., 16.]],\n",
            "\n",
            "        [[18., 20.],\n",
            "         [22., 24.]]])\n"
          ],
          "name": "stdout"
        }
      ]
    },
    {
      "cell_type": "code",
      "metadata": {
        "colab": {
          "base_uri": "https://localhost:8080/"
        },
        "id": "CCq6iduLy33u",
        "outputId": "ba8f320a-a22c-445d-e145-f29d99d7ed02"
      },
      "source": [
        "subed_tensor = tensor1 - tensor2\r\n",
        "print(subed_tensor)"
      ],
      "execution_count": 5,
      "outputs": [
        {
          "output_type": "stream",
          "text": [
            "tensor([[[-8., -8.],\n",
            "         [-8., -8.]],\n",
            "\n",
            "        [[-8., -8.],\n",
            "         [-8., -8.]]])\n"
          ],
          "name": "stdout"
        }
      ]
    },
    {
      "cell_type": "code",
      "metadata": {
        "colab": {
          "base_uri": "https://localhost:8080/"
        },
        "id": "kng79Ggwy_8X",
        "outputId": "8c8af9f6-6520-4f7a-c5ab-4beaa4e18a34"
      },
      "source": [
        "multed_tensor = tensor1 * tensor2\r\n",
        "print(multed_tensor)"
      ],
      "execution_count": 6,
      "outputs": [
        {
          "output_type": "stream",
          "text": [
            "tensor([[[  9.,  20.],\n",
            "         [ 33.,  48.]],\n",
            "\n",
            "        [[ 65.,  84.],\n",
            "         [105., 128.]]])\n"
          ],
          "name": "stdout"
        }
      ]
    },
    {
      "cell_type": "code",
      "metadata": {
        "colab": {
          "base_uri": "https://localhost:8080/"
        },
        "id": "uEqc4ILyzII3",
        "outputId": "72d5dd9f-0d03-44c2-ca2f-096419954059"
      },
      "source": [
        "dived_tensor = tensor1 * tensor2\r\n",
        "print(dived_tensor)"
      ],
      "execution_count": 7,
      "outputs": [
        {
          "output_type": "stream",
          "text": [
            "tensor([[[  9.,  20.],\n",
            "         [ 33.,  48.]],\n",
            "\n",
            "        [[ 65.,  84.],\n",
            "         [105., 128.]]])\n"
          ],
          "name": "stdout"
        }
      ]
    },
    {
      "cell_type": "code",
      "metadata": {
        "colab": {
          "base_uri": "https://localhost:8080/"
        },
        "id": "VwPdN2690tpW",
        "outputId": "c003eee7-18cb-44b7-a73b-8bc63e36547a"
      },
      "source": [
        "torch.add(tensor1, tensor2)"
      ],
      "execution_count": 8,
      "outputs": [
        {
          "output_type": "execute_result",
          "data": {
            "text/plain": [
              "tensor([[[10., 12.],\n",
              "         [14., 16.]],\n",
              "\n",
              "        [[18., 20.],\n",
              "         [22., 24.]]])"
            ]
          },
          "metadata": {
            "tags": []
          },
          "execution_count": 8
        }
      ]
    },
    {
      "cell_type": "code",
      "metadata": {
        "colab": {
          "base_uri": "https://localhost:8080/"
        },
        "id": "lqDcTWVk09dh",
        "outputId": "d21d5364-157f-4fd9-e3cd-0eefb84dd30f"
      },
      "source": [
        "torch.sub(tensor1, tensor2)"
      ],
      "execution_count": 9,
      "outputs": [
        {
          "output_type": "execute_result",
          "data": {
            "text/plain": [
              "tensor([[[-8., -8.],\n",
              "         [-8., -8.]],\n",
              "\n",
              "        [[-8., -8.],\n",
              "         [-8., -8.]]])"
            ]
          },
          "metadata": {
            "tags": []
          },
          "execution_count": 9
        }
      ]
    },
    {
      "cell_type": "code",
      "metadata": {
        "colab": {
          "base_uri": "https://localhost:8080/"
        },
        "id": "RiP_KMvp1JTs",
        "outputId": "549a5cef-4008-47ea-e52a-0fe7295e348a"
      },
      "source": [
        "#브로드캐스팅\r\n",
        "tensor3 = torch.tensor([2])\r\n",
        "tensor4 = torch.tensor([[1, 2]])\r\n",
        "\r\n",
        "addded_Tensor = tensor4 + tensor3\r\n",
        "print(addded_Tensor)"
      ],
      "execution_count": 10,
      "outputs": [
        {
          "output_type": "stream",
          "text": [
            "tensor([[3, 4]])\n"
          ],
          "name": "stdout"
        }
      ]
    },
    {
      "cell_type": "code",
      "metadata": {
        "colab": {
          "base_uri": "https://localhost:8080/"
        },
        "id": "n7Y_l7vazygP",
        "outputId": "1de0cd1a-403f-47a2-d98a-38217233e13c"
      },
      "source": [
        "tn = torch.FloatTensor([[1, 2], [3, 4]])\r\n",
        "print(tn)\r\n",
        "print(tn.sum)"
      ],
      "execution_count": 13,
      "outputs": [
        {
          "output_type": "stream",
          "text": [
            "tensor([[1., 2.],\n",
            "        [3., 4.]])\n",
            "<built-in method sum of Tensor object at 0x7f1fda81e280>\n"
          ],
          "name": "stdout"
        }
      ]
    }
  ]
}