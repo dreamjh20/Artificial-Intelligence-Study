{
  "nbformat": 4,
  "nbformat_minor": 0,
  "metadata": {
    "colab": {
      "name": "tensor",
      "provenance": [],
      "authorship_tag": "ABX9TyPWUwcDJ4EOeDOkV6Hd03bu",
      "include_colab_link": true
    },
    "kernelspec": {
      "name": "python3",
      "display_name": "Python 3"
    }
  },
  "cells": [
    {
      "cell_type": "markdown",
      "metadata": {
        "id": "view-in-github",
        "colab_type": "text"
      },
      "source": [
        "<a href=\"https://colab.research.google.com/github/dreamjh20/Artificial-Intelligence-Study/blob/main/tensor.ipynb\" target=\"_parent\"><img src=\"https://colab.research.google.com/assets/colab-badge.svg\" alt=\"Open In Colab\"/></a>"
      ]
    },
    {
      "cell_type": "code",
      "metadata": {
        "colab": {
          "base_uri": "https://localhost:8080/"
        },
        "id": "hIIv8sCpKTAX",
        "outputId": "5acd1a5a-db8c-4df9-e2c9-a6fe3c4058e0"
      },
      "source": [
        "import torch\r\n",
        "\r\n",
        "tensor1 = torch.tensor([[[1., 2.], [3., 4.]], [[5., 6.], [7., 8.]]])\r\n",
        "print(tensor1)"
      ],
      "execution_count": 2,
      "outputs": [
        {
          "output_type": "stream",
          "text": [
            "tensor([[[1., 2.],\n",
            "         [3., 4.]],\n",
            "\n",
            "        [[5., 6.],\n",
            "         [7., 8.]]])\n"
          ],
          "name": "stdout"
        }
      ]
    },
    {
      "cell_type": "code",
      "metadata": {
        "colab": {
          "base_uri": "https://localhost:8080/"
        },
        "id": "yubiw6Zewikw",
        "outputId": "48c67385-511e-4763-8a85-0d75163ddb44"
      },
      "source": [
        "tensor2 = torch.tensor([[[9., 10.], [11., 12.]], [[13., 14.], [15., 16.]]])\r\n",
        "print(tensor2)"
      ],
      "execution_count": 3,
      "outputs": [
        {
          "output_type": "stream",
          "text": [
            "tensor([[[ 9., 10.],\n",
            "         [11., 12.]],\n",
            "\n",
            "        [[13., 14.],\n",
            "         [15., 16.]]])\n"
          ],
          "name": "stdout"
        }
      ]
    },
    {
      "cell_type": "code",
      "metadata": {
        "colab": {
          "base_uri": "https://localhost:8080/"
        },
        "id": "HKuxO4HtyWkC",
        "outputId": "6a2c42c4-9498-402d-9b6b-3f604425a2f4"
      },
      "source": [
        "added_tensor = tensor1 + tensor2\r\n",
        "print(added_tensor)"
      ],
      "execution_count": 4,
      "outputs": [
        {
          "output_type": "stream",
          "text": [
            "tensor([[[10., 12.],\n",
            "         [14., 16.]],\n",
            "\n",
            "        [[18., 20.],\n",
            "         [22., 24.]]])\n"
          ],
          "name": "stdout"
        }
      ]
    },
    {
      "cell_type": "code",
      "metadata": {
        "colab": {
          "base_uri": "https://localhost:8080/"
        },
        "id": "CCq6iduLy33u",
        "outputId": "48d63134-30a7-4911-8ff4-5e4dc01825f2"
      },
      "source": [
        "subed_tensor = tensor1 - tensor2\r\n",
        "print(subed_tensor)"
      ],
      "execution_count": 5,
      "outputs": [
        {
          "output_type": "stream",
          "text": [
            "tensor([[[-8., -8.],\n",
            "         [-8., -8.]],\n",
            "\n",
            "        [[-8., -8.],\n",
            "         [-8., -8.]]])\n"
          ],
          "name": "stdout"
        }
      ]
    },
    {
      "cell_type": "code",
      "metadata": {
        "colab": {
          "base_uri": "https://localhost:8080/"
        },
        "id": "kng79Ggwy_8X",
        "outputId": "5ca1c025-1edc-4091-be7e-6de62acfc5e8"
      },
      "source": [
        "multed_tensor = tensor1 * tensor2\r\n",
        "print(multed_tensor)"
      ],
      "execution_count": 6,
      "outputs": [
        {
          "output_type": "stream",
          "text": [
            "tensor([[[  9.,  20.],\n",
            "         [ 33.,  48.]],\n",
            "\n",
            "        [[ 65.,  84.],\n",
            "         [105., 128.]]])\n"
          ],
          "name": "stdout"
        }
      ]
    },
    {
      "cell_type": "code",
      "metadata": {
        "colab": {
          "base_uri": "https://localhost:8080/"
        },
        "id": "uEqc4ILyzII3",
        "outputId": "ffc0a39b-808d-4a24-b970-ad23345d87e1"
      },
      "source": [
        "dived_tensor = tensor1 * tensor2\r\n",
        "print(dived_tensor)"
      ],
      "execution_count": 7,
      "outputs": [
        {
          "output_type": "stream",
          "text": [
            "tensor([[[  9.,  20.],\n",
            "         [ 33.,  48.]],\n",
            "\n",
            "        [[ 65.,  84.],\n",
            "         [105., 128.]]])\n"
          ],
          "name": "stdout"
        }
      ]
    },
    {
      "cell_type": "code",
      "metadata": {
        "colab": {
          "base_uri": "https://localhost:8080/"
        },
        "id": "VwPdN2690tpW",
        "outputId": "fc33a272-e422-44bc-dc3a-3571d97c95ca"
      },
      "source": [
        "torch.add(tensor1, tensor2)"
      ],
      "execution_count": 8,
      "outputs": [
        {
          "output_type": "execute_result",
          "data": {
            "text/plain": [
              "tensor([[[10., 12.],\n",
              "         [14., 16.]],\n",
              "\n",
              "        [[18., 20.],\n",
              "         [22., 24.]]])"
            ]
          },
          "metadata": {
            "tags": []
          },
          "execution_count": 8
        }
      ]
    },
    {
      "cell_type": "code",
      "metadata": {
        "colab": {
          "base_uri": "https://localhost:8080/"
        },
        "id": "lqDcTWVk09dh",
        "outputId": "635e70f5-2be1-46f7-8d06-f2b485904bc2"
      },
      "source": [
        "torch.sub(tensor1, tensor2)"
      ],
      "execution_count": 9,
      "outputs": [
        {
          "output_type": "execute_result",
          "data": {
            "text/plain": [
              "tensor([[[-8., -8.],\n",
              "         [-8., -8.]],\n",
              "\n",
              "        [[-8., -8.],\n",
              "         [-8., -8.]]])"
            ]
          },
          "metadata": {
            "tags": []
          },
          "execution_count": 9
        }
      ]
    },
    {
      "cell_type": "code",
      "metadata": {
        "colab": {
          "base_uri": "https://localhost:8080/"
        },
        "id": "RiP_KMvp1JTs",
        "outputId": "58804be3-2e0d-4ecc-8a3d-04a9af5def1e"
      },
      "source": [
        "#브로드캐스팅\r\n",
        "tensor3 = torch.tensor([2])\r\n",
        "tensor4 = torch.tensor([[1, 2]])\r\n",
        "\r\n",
        "addded_Tensor = tensor4 + tensor3\r\n",
        "print(addded_Tensor)"
      ],
      "execution_count": 16,
      "outputs": [
        {
          "output_type": "stream",
          "text": [
            "tensor([[3, 4]])\n"
          ],
          "name": "stdout"
        }
      ]
    }
  ]
}