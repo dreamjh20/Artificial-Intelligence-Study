{
 "cells": [
  {
   "cell_type": "code",
   "execution_count": 1,
   "id": "226055a7",
   "metadata": {},
   "outputs": [],
   "source": [
    "import pyautogui as pg\n",
    "import time\n",
    "import schedule"
   ]
  },
  {
   "cell_type": "code",
   "execution_count": 2,
   "id": "73ec9fc8",
   "metadata": {},
   "outputs": [],
   "source": [
    "def check():\n",
    "    pg.moveTo(1000, 350, 1)\n",
    "    pg.click(clicks = 2, interval = 0.1)\n",
    "    pg.moveTo(650, 600, 1)\n",
    "    pg.click(clicks = 2, interval = 1)\n",
    "    pg.moveTo(87, 680)\n",
    "    pg.click(clicks = 1)\n",
    "    pg.moveTo(87, 820)\n",
    "    pg.click(clicks = 1)\n",
    "    pg.moveTo(87, 1010)\n",
    "    pg.click(clicks = 1)\n",
    "    pg.scroll(-50)\n",
    "    pg.click(clicks = 1)\n",
    "    pg.moveTo(950, 25)\n",
    "    pg.click(clicks = 1)"
   ]
  },
  {
   "cell_type": "code",
   "execution_count": null,
   "id": "add616a6",
   "metadata": {},
   "outputs": [],
   "source": [
    "#if 시간 되면\n",
    "schedule.every().day.at(\"08:10:29\").do(check)\n",
    "\n",
    "while True:\n",
    "    schedule.run_pending()\n",
    "    time.sleep(1)"
   ]
  }
 ],
 "metadata": {
  "kernelspec": {
   "display_name": "Python 3",
   "language": "python",
   "name": "python3"
  },
  "language_info": {
   "codemirror_mode": {
    "name": "ipython",
    "version": 3
   },
   "file_extension": ".py",
   "mimetype": "text/x-python",
   "name": "python",
   "nbconvert_exporter": "python",
   "pygments_lexer": "ipython3",
   "version": "3.6.13"
  }
 },
 "nbformat": 4,
 "nbformat_minor": 5
}
