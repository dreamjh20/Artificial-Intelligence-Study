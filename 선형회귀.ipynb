{
  "nbformat": 4,
  "nbformat_minor": 0,
  "metadata": {
    "colab": {
      "name": "선형회귀",
      "provenance": [],
      "collapsed_sections": [],
      "authorship_tag": "ABX9TyPLuTlzmuSycIkKxe+gY/0V",
      "include_colab_link": true
    },
    "kernelspec": {
      "name": "python3",
      "display_name": "Python 3"
    },
    "language_info": {
      "name": "python"
    }
  },
  "cells": [
    {
      "cell_type": "markdown",
      "metadata": {
        "id": "view-in-github",
        "colab_type": "text"
      },
      "source": [
        "<a href=\"https://colab.research.google.com/github/dreamjh20/Artificial-Intelligence-Study/blob/main/%EC%84%A0%ED%98%95%ED%9A%8C%EA%B7%80.ipynb\" target=\"_parent\"><img src=\"https://colab.research.google.com/assets/colab-badge.svg\" alt=\"Open In Colab\"/></a>"
      ]
    },
    {
      "cell_type": "code",
      "metadata": {
        "id": "gjuBS1hbUhsf",
        "colab": {
          "base_uri": "https://localhost:8080/",
          "height": 239
        },
        "outputId": "9e05a135-6326-4d3d-cf8c-b658c1027426"
      },
      "source": [
        "import torch\n",
        "\n",
        "x = torch.FloatTensor([[2], [3], [4], [5]])\n",
        "y = torch.FloatTensor([[25], [30], [35], [40]])\n",
        "\n",
        "model = nn.Linear(1, 1)\n",
        "optimizer = torch.optim.SGD(model.parameters(), lr=0.001)\n",
        "\n",
        "epochs = 50000\n",
        "for epoch in range(1, epochs+1):\n",
        "    h = model(x)\n",
        "    cost = F.mse_loss(h, y)\n",
        "    \n",
        "    optimizer.zero_grad()\n",
        "    cost.backward()\n",
        "    optimizer.step()\n",
        "    \n",
        "print(f\"6시간을 공부했을 때: 점수는 {model(torch.FloatTensor([[6]]))}이다.\")"
      ],
      "execution_count": null,
      "outputs": [
        {
          "output_type": "error",
          "ename": "NameError",
          "evalue": "ignored",
          "traceback": [
            "\u001b[0;31m---------------------------------------------------------------------------\u001b[0m",
            "\u001b[0;31mNameError\u001b[0m                                 Traceback (most recent call last)",
            "\u001b[0;32m<ipython-input-2-b3c8364b1876>\u001b[0m in \u001b[0;36m<module>\u001b[0;34m()\u001b[0m\n\u001b[1;32m      4\u001b[0m \u001b[0my\u001b[0m \u001b[0;34m=\u001b[0m \u001b[0mtorch\u001b[0m\u001b[0;34m.\u001b[0m\u001b[0mFloatTensor\u001b[0m\u001b[0;34m(\u001b[0m\u001b[0;34m[\u001b[0m\u001b[0;34m[\u001b[0m\u001b[0;36m25\u001b[0m\u001b[0;34m]\u001b[0m\u001b[0;34m,\u001b[0m \u001b[0;34m[\u001b[0m\u001b[0;36m30\u001b[0m\u001b[0;34m]\u001b[0m\u001b[0;34m,\u001b[0m \u001b[0;34m[\u001b[0m\u001b[0;36m35\u001b[0m\u001b[0;34m]\u001b[0m\u001b[0;34m,\u001b[0m \u001b[0;34m[\u001b[0m\u001b[0;36m40\u001b[0m\u001b[0;34m]\u001b[0m\u001b[0;34m]\u001b[0m\u001b[0;34m)\u001b[0m\u001b[0;34m\u001b[0m\u001b[0;34m\u001b[0m\u001b[0m\n\u001b[1;32m      5\u001b[0m \u001b[0;34m\u001b[0m\u001b[0m\n\u001b[0;32m----> 6\u001b[0;31m \u001b[0mmodel\u001b[0m \u001b[0;34m=\u001b[0m \u001b[0mnn\u001b[0m\u001b[0;34m.\u001b[0m\u001b[0mLinear\u001b[0m\u001b[0;34m(\u001b[0m\u001b[0;36m1\u001b[0m\u001b[0;34m,\u001b[0m \u001b[0;36m1\u001b[0m\u001b[0;34m)\u001b[0m\u001b[0;34m\u001b[0m\u001b[0;34m\u001b[0m\u001b[0m\n\u001b[0m\u001b[1;32m      7\u001b[0m \u001b[0moptimizer\u001b[0m \u001b[0;34m=\u001b[0m \u001b[0mtorch\u001b[0m\u001b[0;34m.\u001b[0m\u001b[0moptim\u001b[0m\u001b[0;34m.\u001b[0m\u001b[0mSGD\u001b[0m\u001b[0;34m(\u001b[0m\u001b[0mmodel\u001b[0m\u001b[0;34m.\u001b[0m\u001b[0mparameters\u001b[0m\u001b[0;34m(\u001b[0m\u001b[0;34m)\u001b[0m\u001b[0;34m,\u001b[0m \u001b[0mlr\u001b[0m\u001b[0;34m=\u001b[0m\u001b[0;36m0.001\u001b[0m\u001b[0;34m)\u001b[0m\u001b[0;34m\u001b[0m\u001b[0;34m\u001b[0m\u001b[0m\n\u001b[1;32m      8\u001b[0m \u001b[0;34m\u001b[0m\u001b[0m\n",
            "\u001b[0;31mNameError\u001b[0m: name 'nn' is not defined"
          ]
        }
      ]
    },
    {
      "cell_type": "code",
      "metadata": {
        "colab": {
          "base_uri": "https://localhost:8080/"
        },
        "id": "4RiZ5E3rjFEX",
        "outputId": "dba6a26d-7482-4506-9aef-48c9e0d81eee"
      },
      "source": [
        "import numpy as np\n",
        "\n",
        "x_train = np.array([1., 2., 3., 4., 5., 6.])\n",
        "y_train = np.array([100., 200., 300., 400., 500., 600.])\n",
        "\n",
        "W = 0.0\n",
        "b = 0.0\n",
        "\n",
        "n_data = len(x_train)\n",
        "\n",
        "epochs = 5000\n",
        "learning_rate = 0.01\n",
        "\n",
        "for i in range(epochs):\n",
        "    hypothesis = x_train * W + b\n",
        "    cost = np.sum((hypothesis - y_train) ** 2) / n_data\n",
        "    gradient_w = np.sum((W * x_train - y_train + b) * 2 * x_train) / n_data\n",
        "    gradient_b = np.sum((W * x_train - y_train + b) * 2) / n_data\n",
        "\n",
        "    W -= learning_rate * gradient_w\n",
        "    b -= learning_rate * gradient_b\n",
        "\n",
        "    if i % 100 == 0:\n",
        "        print('Epoch ({:10d}/{:10d}) cost: {:10f}, W: {:10f}, b:{:10f}'.format(i, epochs, cost, W, b))\n",
        "\n",
        "print('W: {:10f}'.format(W))\n",
        "print('b: {:10f}'.format(b))\n",
        "print('result : ')\n",
        "print(x_train * W + b)"
      ],
      "execution_count": 1,
      "outputs": [
        {
          "output_type": "stream",
          "text": [
            "Epoch (         0/      5000) cost: 151666.666667, W:  30.333333, b:  7.000000\n",
            "Epoch (       100/      5000) cost:  45.438948, W:  96.423754, b: 15.310620\n",
            "Epoch (       200/      5000) cost:  21.870679, W:  97.518899, b: 10.622085\n",
            "Epoch (       300/      5000) cost:  10.526797, W:  98.278681, b:  7.369309\n",
            "Epoch (       400/      5000) cost:   5.066759, W:  98.805796, b:  5.112623\n",
            "Epoch (       500/      5000) cost:   2.438733, W:  99.171495, b:  3.546996\n",
            "Epoch (       600/      5000) cost:   1.173811, W:  99.425206, b:  2.460808\n",
            "Epoch (       700/      5000) cost:   0.564979, W:  99.601224, b:  1.707241\n",
            "Epoch (       800/      5000) cost:   0.271936, W:  99.723340, b:  1.184436\n",
            "Epoch (       900/      5000) cost:   0.130888, W:  99.808061, b:  0.821729\n",
            "Epoch (      1000/      5000) cost:   0.062999, W:  99.866838, b:  0.570093\n",
            "Epoch (      1100/      5000) cost:   0.030323, W:  99.907616, b:  0.395515\n",
            "Epoch (      1200/      5000) cost:   0.014595, W:  99.935906, b:  0.274397\n",
            "Epoch (      1300/      5000) cost:   0.007025, W:  99.955534, b:  0.190369\n",
            "Epoch (      1400/      5000) cost:   0.003381, W:  99.969150, b:  0.132073\n",
            "Epoch (      1500/      5000) cost:   0.001627, W:  99.978597, b:  0.091629\n",
            "Epoch (      1600/      5000) cost:   0.000783, W:  99.985152, b:  0.063569\n",
            "Epoch (      1700/      5000) cost:   0.000377, W:  99.989699, b:  0.044103\n",
            "Epoch (      1800/      5000) cost:   0.000181, W:  99.992853, b:  0.030597\n",
            "Epoch (      1900/      5000) cost:   0.000087, W:  99.995042, b:  0.021227\n",
            "Epoch (      2000/      5000) cost:   0.000042, W:  99.996560, b:  0.014727\n",
            "Epoch (      2100/      5000) cost:   0.000020, W:  99.997613, b:  0.010217\n",
            "Epoch (      2200/      5000) cost:   0.000010, W:  99.998344, b:  0.007088\n",
            "Epoch (      2300/      5000) cost:   0.000005, W:  99.998851, b:  0.004918\n",
            "Epoch (      2400/      5000) cost:   0.000002, W:  99.999203, b:  0.003412\n",
            "Epoch (      2500/      5000) cost:   0.000001, W:  99.999447, b:  0.002367\n",
            "Epoch (      2600/      5000) cost:   0.000001, W:  99.999616, b:  0.001642\n",
            "Epoch (      2700/      5000) cost:   0.000000, W:  99.999734, b:  0.001139\n",
            "Epoch (      2800/      5000) cost:   0.000000, W:  99.999815, b:  0.000790\n",
            "Epoch (      2900/      5000) cost:   0.000000, W:  99.999872, b:  0.000548\n",
            "Epoch (      3000/      5000) cost:   0.000000, W:  99.999911, b:  0.000380\n",
            "Epoch (      3100/      5000) cost:   0.000000, W:  99.999938, b:  0.000264\n",
            "Epoch (      3200/      5000) cost:   0.000000, W:  99.999957, b:  0.000183\n",
            "Epoch (      3300/      5000) cost:   0.000000, W:  99.999970, b:  0.000127\n",
            "Epoch (      3400/      5000) cost:   0.000000, W:  99.999979, b:  0.000088\n",
            "Epoch (      3500/      5000) cost:   0.000000, W:  99.999986, b:  0.000061\n",
            "Epoch (      3600/      5000) cost:   0.000000, W:  99.999990, b:  0.000042\n",
            "Epoch (      3700/      5000) cost:   0.000000, W:  99.999993, b:  0.000029\n",
            "Epoch (      3800/      5000) cost:   0.000000, W:  99.999995, b:  0.000020\n",
            "Epoch (      3900/      5000) cost:   0.000000, W:  99.999997, b:  0.000014\n",
            "Epoch (      4000/      5000) cost:   0.000000, W:  99.999998, b:  0.000010\n",
            "Epoch (      4100/      5000) cost:   0.000000, W:  99.999998, b:  0.000007\n",
            "Epoch (      4200/      5000) cost:   0.000000, W:  99.999999, b:  0.000005\n",
            "Epoch (      4300/      5000) cost:   0.000000, W:  99.999999, b:  0.000003\n",
            "Epoch (      4400/      5000) cost:   0.000000, W:  99.999999, b:  0.000002\n",
            "Epoch (      4500/      5000) cost:   0.000000, W: 100.000000, b:  0.000002\n",
            "Epoch (      4600/      5000) cost:   0.000000, W: 100.000000, b:  0.000001\n",
            "Epoch (      4700/      5000) cost:   0.000000, W: 100.000000, b:  0.000001\n",
            "Epoch (      4800/      5000) cost:   0.000000, W: 100.000000, b:  0.000001\n",
            "Epoch (      4900/      5000) cost:   0.000000, W: 100.000000, b:  0.000000\n",
            "W: 100.000000\n",
            "b:   0.000000\n",
            "result : \n",
            "[100.0000002  200.00000014 300.00000008 400.00000002 499.99999996\n",
            " 599.9999999 ]\n"
          ],
          "name": "stdout"
        }
      ]
    }
  ]
}