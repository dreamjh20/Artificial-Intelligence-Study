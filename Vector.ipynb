{
  "nbformat": 4,
  "nbformat_minor": 0,
  "metadata": {
    "colab": {
      "name": "Vector",
      "provenance": [],
      "collapsed_sections": [],
      "authorship_tag": "ABX9TyOAO2WWkwNlBqtsVouZ4atW",
      "include_colab_link": true
    },
    "kernelspec": {
      "name": "python3",
      "display_name": "Python 3"
    }
  },
  "cells": [
    {
      "cell_type": "markdown",
      "metadata": {
        "id": "view-in-github",
        "colab_type": "text"
      },
      "source": [
        "<a href=\"https://colab.research.google.com/github/dreamjh20/Artificial-Intelligence-Study/blob/main/Vector.ipynb\" target=\"_parent\"><img src=\"https://colab.research.google.com/assets/colab-badge.svg\" alt=\"Open In Colab\"/></a>"
      ]
    },
    {
      "cell_type": "code",
      "metadata": {
        "colab": {
          "base_uri": "https://localhost:8080/"
        },
        "id": "uFkG0JCha8xW",
        "outputId": "1795a4b7-8907-443b-c3cb-98d56325ce5b"
      },
      "source": [
        "import torch\r\n",
        "\r\n",
        "vector1 = torch.tensor([1., 2., 3.])\r\n",
        "print(vector1)"
      ],
      "execution_count": 2,
      "outputs": [
        {
          "output_type": "stream",
          "text": [
            "tensor([1., 2., 3.])\n"
          ],
          "name": "stdout"
        }
      ]
    },
    {
      "cell_type": "code",
      "metadata": {
        "colab": {
          "base_uri": "https://localhost:8080/"
        },
        "id": "yp7ka_I3bQ_b",
        "outputId": "5881b9c0-7e1e-43fe-b30b-5ee898a87c5e"
      },
      "source": [
        "vector2 = torch.tensor([4., 5., 6.])\r\n",
        "print(vector2)"
      ],
      "execution_count": 8,
      "outputs": [
        {
          "output_type": "stream",
          "text": [
            "tensor([4., 5., 6.])\n"
          ],
          "name": "stdout"
        }
      ]
    },
    {
      "cell_type": "code",
      "metadata": {
        "colab": {
          "base_uri": "https://localhost:8080/"
        },
        "id": "REZ_v8vibzYv",
        "outputId": "81f139a9-16ae-427e-e57a-348ac7adc151"
      },
      "source": [
        "added_vector = vector1+vector2\r\n",
        "print(added_vector)"
      ],
      "execution_count": 9,
      "outputs": [
        {
          "output_type": "stream",
          "text": [
            "tensor([5., 7., 9.])\n"
          ],
          "name": "stdout"
        }
      ]
    },
    {
      "cell_type": "code",
      "metadata": {
        "colab": {
          "base_uri": "https://localhost:8080/"
        },
        "id": "oWSHXN7Jb_MH",
        "outputId": "64078d40-ca82-4440-b378-c7439fb3722c"
      },
      "source": [
        "subed_vector = vector1 - vector2\r\n",
        "print(subed_vector)"
      ],
      "execution_count": 10,
      "outputs": [
        {
          "output_type": "stream",
          "text": [
            "tensor([-3., -3., -3.])\n"
          ],
          "name": "stdout"
        }
      ]
    },
    {
      "cell_type": "code",
      "metadata": {
        "colab": {
          "base_uri": "https://localhost:8080/"
        },
        "id": "Ivv8R5lEcSys",
        "outputId": "e10e605c-9f5c-4c0d-a648-ee936ceb6d45"
      },
      "source": [
        "mul_vector = vector1 * vector2\r\n",
        "print(mul_vector)"
      ],
      "execution_count": 11,
      "outputs": [
        {
          "output_type": "stream",
          "text": [
            "tensor([ 4., 10., 18.])\n"
          ],
          "name": "stdout"
        }
      ]
    },
    {
      "cell_type": "code",
      "metadata": {
        "colab": {
          "base_uri": "https://localhost:8080/"
        },
        "id": "D8LFW5qEc0hr",
        "outputId": "9a1c391e-c279-4d42-c3e3-5259da2d71d6"
      },
      "source": [
        "div_vector = vector1 / vector2\r\n",
        "print(div_vector)"
      ],
      "execution_count": 12,
      "outputs": [
        {
          "output_type": "stream",
          "text": [
            "tensor([0.2500, 0.4000, 0.5000])\n"
          ],
          "name": "stdout"
        }
      ]
    },
    {
      "cell_type": "code",
      "metadata": {
        "colab": {
          "base_uri": "https://localhost:8080/"
        },
        "id": "2zjx1EbZc_Zu",
        "outputId": "78c84620-9883-41dd-ab77-56fb059a399b"
      },
      "source": [
        "torch.add(vector1, vector2)"
      ],
      "execution_count": 13,
      "outputs": [
        {
          "output_type": "execute_result",
          "data": {
            "text/plain": [
              "tensor([5., 7., 9.])"
            ]
          },
          "metadata": {
            "tags": []
          },
          "execution_count": 13
        }
      ]
    },
    {
      "cell_type": "code",
      "metadata": {
        "colab": {
          "base_uri": "https://localhost:8080/"
        },
        "id": "XKTnFHrdl5H1",
        "outputId": "68dc1430-34a3-4f5c-9e42-cfb3a8ac2a2e"
      },
      "source": [
        "torch.dot(vector1, vector2)"
      ],
      "execution_count": 14,
      "outputs": [
        {
          "output_type": "execute_result",
          "data": {
            "text/plain": [
              "tensor(32.)"
            ]
          },
          "metadata": {
            "tags": []
          },
          "execution_count": 14
        }
      ]
    }
  ]
}