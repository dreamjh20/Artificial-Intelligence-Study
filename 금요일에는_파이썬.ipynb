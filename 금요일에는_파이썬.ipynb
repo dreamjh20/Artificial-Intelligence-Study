{
  "nbformat": 4,
  "nbformat_minor": 0,
  "metadata": {
    "colab": {
      "name": "금요일에는 파이썬",
      "provenance": [],
      "collapsed_sections": [],
      "authorship_tag": "ABX9TyM+ihhO8ch3s+TXfw2IuWhn",
      "include_colab_link": true
    },
    "kernelspec": {
      "name": "python3",
      "display_name": "Python 3"
    },
    "accelerator": "GPU"
  },
  "cells": [
    {
      "cell_type": "markdown",
      "metadata": {
        "id": "view-in-github",
        "colab_type": "text"
      },
      "source": [
        "<a href=\"https://colab.research.google.com/github/dreamjh20/Artificial-Intelligence-Study/blob/main/%EA%B8%88%EC%9A%94%EC%9D%BC%EC%97%90%EB%8A%94_%ED%8C%8C%EC%9D%B4%EC%8D%AC.ipynb\" target=\"_parent\"><img src=\"https://colab.research.google.com/assets/colab-badge.svg\" alt=\"Open In Colab\"/></a>"
      ]
    },
    {
      "cell_type": "code",
      "metadata": {
        "colab": {
          "base_uri": "https://localhost:8080/"
        },
        "id": "7fxTZsPVHiII",
        "outputId": "cf579406-9c41-46ed-8a45-628d0e58bbaa"
      },
      "source": [
        "x, y = 0, 797\n",
        "print(x, y)"
      ],
      "execution_count": 1,
      "outputs": [
        {
          "output_type": "stream",
          "text": [
            "0 797\n"
          ],
          "name": "stdout"
        }
      ]
    },
    {
      "cell_type": "code",
      "metadata": {
        "colab": {
          "base_uri": "https://localhost:8080/"
        },
        "id": "yoZqERGsHzcA",
        "outputId": "a2c344c8-0508-4649-f75f-fbd1bbe6b584"
      },
      "source": [
        "x = y = z = 100\n",
        "print(x, y, z)"
      ],
      "execution_count": 2,
      "outputs": [
        {
          "output_type": "stream",
          "text": [
            "100 100 100\n"
          ],
          "name": "stdout"
        }
      ]
    },
    {
      "cell_type": "code",
      "metadata": {
        "colab": {
          "base_uri": "https://localhost:8080/"
        },
        "id": "6ivvheEjIROy",
        "outputId": "375766fc-9fe0-4f23-8152-7c4e9d822467"
      },
      "source": [
        "x, y = 1, 2\n",
        "print(x, y)\n",
        "t = x\n",
        "x = y\n",
        "y = t\n",
        "print(x, y)"
      ],
      "execution_count": 3,
      "outputs": [
        {
          "output_type": "stream",
          "text": [
            "1 2\n",
            "2 1\n"
          ],
          "name": "stdout"
        }
      ]
    },
    {
      "cell_type": "code",
      "metadata": {
        "colab": {
          "base_uri": "https://localhost:8080/"
        },
        "id": "QDKr_uzNIwFt",
        "outputId": "66ad3496-37af-4dc5-da27-9e31799d5383"
      },
      "source": [
        "x, y = 1, 2\n",
        "print(x, y)\n",
        "x, y = y, x\n",
        "print(x, y)"
      ],
      "execution_count": 4,
      "outputs": [
        {
          "output_type": "stream",
          "text": [
            "1 2\n",
            "2 1\n"
          ],
          "name": "stdout"
        }
      ]
    },
    {
      "cell_type": "code",
      "metadata": {
        "colab": {
          "base_uri": "https://localhost:8080/"
        },
        "id": "vnXriEa6Wr1W",
        "outputId": "ccf176df-59fa-448a-d91f-2e82e5572256"
      },
      "source": [
        "print(complex(1.1, 2.2))\n",
        "complex('1.23+45.6j')"
      ],
      "execution_count": 5,
      "outputs": [
        {
          "output_type": "stream",
          "text": [
            "(1.1+2.2j)\n"
          ],
          "name": "stdout"
        },
        {
          "output_type": "execute_result",
          "data": {
            "text/plain": [
              "(1.23+45.6j)"
            ]
          },
          "metadata": {
            "tags": []
          },
          "execution_count": 5
        }
      ]
    },
    {
      "cell_type": "code",
      "metadata": {
        "colab": {
          "base_uri": "https://localhost:8080/"
        },
        "id": "j8kTJsEIWznt",
        "outputId": "44297d80-d171-481e-9098-a9ba65a4b138"
      },
      "source": [
        "print(abs(-1))\n",
        "abs(1)"
      ],
      "execution_count": 6,
      "outputs": [
        {
          "output_type": "stream",
          "text": [
            "1\n"
          ],
          "name": "stdout"
        },
        {
          "output_type": "execute_result",
          "data": {
            "text/plain": [
              "1"
            ]
          },
          "metadata": {
            "tags": []
          },
          "execution_count": 6
        }
      ]
    },
    {
      "cell_type": "code",
      "metadata": {
        "colab": {
          "base_uri": "https://localhost:8080/"
        },
        "id": "LLTmEBry-CYn",
        "outputId": "0e0b267b-dae8-42a7-8163-b18e9564af7e"
      },
      "source": [
        "a = \"Hello\"\n",
        "b = 10\n",
        "print(a + str(b))"
      ],
      "execution_count": 7,
      "outputs": [
        {
          "output_type": "stream",
          "text": [
            "Hello10\n"
          ],
          "name": "stdout"
        }
      ]
    },
    {
      "cell_type": "code",
      "metadata": {
        "colab": {
          "base_uri": "https://localhost:8080/"
        },
        "id": "6YzIs68z-IeV",
        "outputId": "939d04fc-a3ff-4e13-afde-da2247310aa8"
      },
      "source": [
        "print(\"Hello, 'Python'\")\n",
        "print('Hello, \\'Python\\'')"
      ],
      "execution_count": 8,
      "outputs": [
        {
          "output_type": "stream",
          "text": [
            "Hello, 'Python'\n",
            "Hello, 'Python'\n"
          ],
          "name": "stdout"
        }
      ]
    },
    {
      "cell_type": "code",
      "metadata": {
        "colab": {
          "base_uri": "https://localhost:8080/"
        },
        "id": "uX3uvb7u-nYt",
        "outputId": "f31a625a-df40-46bb-812a-d614b2ef8457"
      },
      "source": [
        "HakDong = \"Study Yourself!\"\n",
        "print(HakDong[0])\n",
        "print(HakDong[1])\n",
        "print(HakDong[-1])\n",
        "print(HakDong[-2])"
      ],
      "execution_count": 9,
      "outputs": [
        {
          "output_type": "stream",
          "text": [
            "S\n",
            "t\n",
            "!\n",
            "f\n"
          ],
          "name": "stdout"
        }
      ]
    },
    {
      "cell_type": "code",
      "metadata": {
        "colab": {
          "base_uri": "https://localhost:8080/"
        },
        "id": "4LAUaqBk-4FR",
        "outputId": "b2514359-0d5b-49d2-db26-9c7c8ff33a68"
      },
      "source": [
        "print(HakDong[0:-1])\n",
        "print(HakDong[0:5])\n",
        "print(HakDong[0:6])\n",
        "print(HakDong[0:7])\n",
        "print(HakDong[5:])\n",
        "print(HakDong[-5:])\n",
        "print(HakDong[1:10:2])\n",
        "print(len(HakDong))"
      ],
      "execution_count": 10,
      "outputs": [
        {
          "output_type": "stream",
          "text": [
            "Study Yourself\n",
            "Study\n",
            "Study \n",
            "Study Y\n",
            " Yourself!\n",
            "self!\n",
            "td or\n",
            "15\n"
          ],
          "name": "stdout"
        }
      ]
    },
    {
      "cell_type": "code",
      "metadata": {
        "colab": {
          "base_uri": "https://localhost:8080/"
        },
        "id": "QBviMxTdH2H4",
        "outputId": "378abde1-1e2f-4a33-d972-fff37aec10b3"
      },
      "source": [
        "h = \" Python on friday \"\n",
        "print(h.count(\"y\"))\n",
        "print(h.upper())\n",
        "print(h.lower())\n",
        "print(h.strip())\n",
        "print(h.replace(\"Python\", \"Java\"))\n",
        "print(h.find(\"ay\"))\n",
        "print(h.rfind(\"d\"))\n",
        "#FIND_FAILED\n",
        "print(h.find(\"T\"))"
      ],
      "execution_count": 11,
      "outputs": [
        {
          "output_type": "stream",
          "text": [
            "2\n",
            " PYTHON ON FRIDAY \n",
            " python on friday \n",
            "Python on friday\n",
            " Java on friday \n",
            "15\n",
            "14\n",
            "-1\n"
          ],
          "name": "stdout"
        }
      ]
    },
    {
      "cell_type": "code",
      "metadata": {
        "colab": {
          "base_uri": "https://localhost:8080/",
          "height": 35
        },
        "id": "yZxiN8nfJvyp",
        "outputId": "0f2f7fcd-70af-439f-f12b-9eabb16a5d39"
      },
      "source": [
        "table = str.maketrans(\"aeiou\", \"12345\")\n",
        "'Mokpo is the best'.translate(table)"
      ],
      "execution_count": 12,
      "outputs": [
        {
          "output_type": "execute_result",
          "data": {
            "application/vnd.google.colaboratory.intrinsic+json": {
              "type": "string"
            },
            "text/plain": [
              "'M4kp4 3s th2 b2st'"
            ]
          },
          "metadata": {
            "tags": []
          },
          "execution_count": 12
        }
      ]
    },
    {
      "cell_type": "code",
      "metadata": {
        "id": "CUXaTHC2KO7y"
      },
      "source": [
        "#print(\"Python in Friday\".index('th'))\n",
        "#\"Python in Friday\".index('yd')"
      ],
      "execution_count": 13,
      "outputs": []
    },
    {
      "cell_type": "code",
      "metadata": {
        "id": "1QMaDvhRK63B",
        "colab": {
          "base_uri": "https://localhost:8080/"
        },
        "outputId": "53d32365-1fc4-4d0c-b7b0-3efdfdf2e1ce"
      },
      "source": [
        "print(\"Fripy\".rjust(10))\n",
        "print(\"Fripy\".center(10))\n",
        "print(\"Fripy\".ljust(10))\n",
        "print(\"35\".zfill(10))\n",
        "print(\"3.5\".zfill(10))\n",
        "print(\"Fripy\".zfill(10))"
      ],
      "execution_count": 14,
      "outputs": [
        {
          "output_type": "stream",
          "text": [
            "     Fripy\n",
            "  Fripy   \n",
            "Fripy     \n",
            "0000000035\n",
            "00000003.5\n",
            "00000Fripy\n"
          ],
          "name": "stdout"
        }
      ]
    },
    {
      "cell_type": "code",
      "metadata": {
        "id": "WsDfM5okL1Sp",
        "colab": {
          "base_uri": "https://localhost:8080/"
        },
        "outputId": "b290f76a-3fec-429d-f80b-38a2727aea38"
      },
      "source": [
        "M = \"Mokpo Suwon\"\n",
        "print(\"M\" in M)\n",
        "print(\"m\" in M)"
      ],
      "execution_count": 15,
      "outputs": [
        {
          "output_type": "stream",
          "text": [
            "True\n",
            "False\n"
          ],
          "name": "stdout"
        }
      ]
    },
    {
      "cell_type": "code",
      "metadata": {
        "id": "KhzaifqRME0B",
        "colab": {
          "base_uri": "https://localhost:8080/",
          "height": 53
        },
        "outputId": "49a48728-27e0-4fb8-e5cb-5afadf03eace"
      },
      "source": [
        "x = \"01::23::45::67::89::&&\"\n",
        "y = x.split(\"::\")\n",
        "print(y)\n",
        "\",\".join(y)"
      ],
      "execution_count": 16,
      "outputs": [
        {
          "output_type": "stream",
          "text": [
            "['01', '23', '45', '67', '89', '&&']\n"
          ],
          "name": "stdout"
        },
        {
          "output_type": "execute_result",
          "data": {
            "application/vnd.google.colaboratory.intrinsic+json": {
              "type": "string"
            },
            "text/plain": [
              "'01,23,45,67,89,&&'"
            ]
          },
          "metadata": {
            "tags": []
          },
          "execution_count": 16
        }
      ]
    },
    {
      "cell_type": "code",
      "metadata": {
        "id": "NdugOQ2oNB85",
        "colab": {
          "base_uri": "https://localhost:8080/"
        },
        "outputId": "8a1eb937-54cd-4d25-fa16-66dc286c6467"
      },
      "source": [
        "x = \"01::23::45::67::89::&&\"\n",
        "y = x.split(\" \")\n",
        "y"
      ],
      "execution_count": 17,
      "outputs": [
        {
          "output_type": "execute_result",
          "data": {
            "text/plain": [
              "['01::23::45::67::89::&&']"
            ]
          },
          "metadata": {
            "tags": []
          },
          "execution_count": 17
        }
      ]
    },
    {
      "cell_type": "code",
      "metadata": {
        "id": "WV9umYBZOM9V",
        "colab": {
          "base_uri": "https://localhost:8080/",
          "height": 35
        },
        "outputId": "090f340e-b707-41eb-eff1-e578a9d9299b"
      },
      "source": [
        "a = ['a', 'b', 'c', 'd', 'e']\n",
        "\"-\".join(a)"
      ],
      "execution_count": 18,
      "outputs": [
        {
          "output_type": "execute_result",
          "data": {
            "application/vnd.google.colaboratory.intrinsic+json": {
              "type": "string"
            },
            "text/plain": [
              "'a-b-c-d-e'"
            ]
          },
          "metadata": {
            "tags": []
          },
          "execution_count": 18
        }
      ]
    },
    {
      "cell_type": "code",
      "metadata": {
        "id": "HhmQx4OpPCaL",
        "colab": {
          "base_uri": "https://localhost:8080/"
        },
        "outputId": "a10a5c4d-0304-4cd7-c6ec-3018fdfd6af8"
      },
      "source": [
        "print('I love %s' %\"su\")\n",
        "print('I am %d' %18)\n",
        "print('I am %f' %18.4332123)\n",
        "print(\"I'm from %s and MY age %d\" %(\"mokpo\", 18))\n",
        "print('반갑다 나는 %s'%\"수준호\")\n",
        "print('%.3f'%2.3)\n",
        "print('%.3f'%2.3347)"
      ],
      "execution_count": 19,
      "outputs": [
        {
          "output_type": "stream",
          "text": [
            "I love su\n",
            "I am 18\n",
            "I am 18.433212\n",
            "I'm from mokpo and MY age 18\n",
            "반갑다 나는 수준호\n",
            "2.300\n",
            "2.335\n"
          ],
          "name": "stdout"
        }
      ]
    },
    {
      "cell_type": "code",
      "metadata": {
        "id": "Mj_DrPOyWwS7",
        "colab": {
          "base_uri": "https://localhost:8080/"
        },
        "outputId": "5aab7223-5a58-471d-9cb2-46a074634fbf"
      },
      "source": [
        "print('hello {lang} {ver}'.format(lang = \"Java\", ver=3.0))"
      ],
      "execution_count": 20,
      "outputs": [
        {
          "output_type": "stream",
          "text": [
            "hello Java 3.0\n"
          ],
          "name": "stdout"
        }
      ]
    },
    {
      "cell_type": "code",
      "metadata": {
        "id": "gYPLrmooaRPS",
        "colab": {
          "base_uri": "https://localhost:8080/"
        },
        "outputId": "31139171-afdd-4b54-ada9-0718552d81fb"
      },
      "source": [
        "print(\"{:d}\".format(515))\n",
        "print(\"{:5d}\".format(515))\n",
        "print(\"{:+5d}\".format(515))\n",
        "print(\"{:+5d}\".format(-515))\n",
        "print(\"{:=+5d}\".format(515))\n",
        "print(\"{:05d}\".format(515))\n",
        "print(\"{:+05d}\".format(515))"
      ],
      "execution_count": 21,
      "outputs": [
        {
          "output_type": "stream",
          "text": [
            "515\n",
            "  515\n",
            " +515\n",
            " -515\n",
            "+ 515\n",
            "00515\n",
            "+0515\n"
          ],
          "name": "stdout"
        }
      ]
    },
    {
      "cell_type": "code",
      "metadata": {
        "id": "qy9Vfd2Kb4sH",
        "colab": {
          "base_uri": "https://localhost:8080/"
        },
        "outputId": "1bdd5c51-fb6f-4e3a-ed82-c7dc02fbfd73"
      },
      "source": [
        "print(\"{:f}\".format(11.17))\n",
        "print(\"{:12f}\".format(11.17))\n",
        "print(\"{:12.1f}\".format(11.17))"
      ],
      "execution_count": 22,
      "outputs": [
        {
          "output_type": "stream",
          "text": [
            "11.170000\n",
            "   11.170000\n",
            "        11.2\n"
          ],
          "name": "stdout"
        }
      ]
    },
    {
      "cell_type": "code",
      "metadata": {
        "id": "4_OV4OstAzVL",
        "colab": {
          "base_uri": "https://localhost:8080/"
        },
        "outputId": "dd2e3066-5c63-4eb0-a279-e0d4d578b2e1"
      },
      "source": [
        "float('5.3')"
      ],
      "execution_count": 23,
      "outputs": [
        {
          "output_type": "execute_result",
          "data": {
            "text/plain": [
              "5.3"
            ]
          },
          "metadata": {
            "tags": []
          },
          "execution_count": 23
        }
      ]
    },
    {
      "cell_type": "code",
      "metadata": {
        "colab": {
          "base_uri": "https://localhost:8080/",
          "height": 35
        },
        "id": "bVdbbwv0L_yR",
        "outputId": "664e5e44-022c-4eb2-8886-1401220b311b"
      },
      "source": [
        "\"{:=+6.2f}\".format(11.17)"
      ],
      "execution_count": 24,
      "outputs": [
        {
          "output_type": "execute_result",
          "data": {
            "application/vnd.google.colaboratory.intrinsic+json": {
              "type": "string"
            },
            "text/plain": [
              "'+11.17'"
            ]
          },
          "metadata": {
            "tags": []
          },
          "execution_count": 24
        }
      ]
    },
    {
      "cell_type": "code",
      "metadata": {
        "colab": {
          "base_uri": "https://localhost:8080/"
        },
        "id": "uzOiDNtyNh35",
        "outputId": "1da6646b-178b-4661-ac9d-ecdda78f9630"
      },
      "source": [
        "print('{0:>12.4f}'.format(1675.3))\n",
        "print('{:>12.4f}'.format(1675.3))\n",
        "print('{:0>12.4f}'.format(1675.3))"
      ],
      "execution_count": 25,
      "outputs": [
        {
          "output_type": "stream",
          "text": [
            "   1675.3000\n",
            "   1675.3000\n",
            "0001675.3000\n"
          ],
          "name": "stdout"
        }
      ]
    },
    {
      "cell_type": "code",
      "metadata": {
        "colab": {
          "base_uri": "https://localhost:8080/"
        },
        "id": "CAH4YgdWQWgK",
        "outputId": "230a1d7a-1f8d-4bf7-cb7d-c66d6846e110"
      },
      "source": [
        "num = [0, 1, 2]\n",
        "print(num)\n",
        "print(num + [10, 11])\n",
        "print(num.append(20))\n",
        "print(num)\n",
        "del num[1]\n",
        "print(num)\n",
        "num.pop(1)\n",
        "print(num)\n",
        "num.clear()\n",
        "print(num)"
      ],
      "execution_count": 26,
      "outputs": [
        {
          "output_type": "stream",
          "text": [
            "[0, 1, 2]\n",
            "[0, 1, 2, 10, 11]\n",
            "None\n",
            "[0, 1, 2, 20]\n",
            "[0, 2, 20]\n",
            "[0, 20]\n",
            "[]\n"
          ],
          "name": "stdout"
        }
      ]
    },
    {
      "cell_type": "code",
      "metadata": {
        "colab": {
          "base_uri": "https://localhost:8080/"
        },
        "id": "mIC0-FjsT8Ka",
        "outputId": "c273340e-a24b-45f8-cd11-2f9eb11d312a"
      },
      "source": [
        "t = ()\n",
        "xy = (2569, 1449)\n",
        "color = 129, 147, 169\n",
        "print(color, xy)"
      ],
      "execution_count": 27,
      "outputs": [
        {
          "output_type": "stream",
          "text": [
            "(129, 147, 169) (2569, 1449)\n"
          ],
          "name": "stdout"
        }
      ]
    },
    {
      "cell_type": "code",
      "metadata": {
        "colab": {
          "base_uri": "https://localhost:8080/"
        },
        "id": "R5jjuB87XVkU",
        "outputId": "30179b80-a21b-42df-9834-9e2a811bc45c"
      },
      "source": [
        "tuplea = (2,)\n",
        "print(tuplea)"
      ],
      "execution_count": 28,
      "outputs": [
        {
          "output_type": "stream",
          "text": [
            "(2,)\n"
          ],
          "name": "stdout"
        }
      ]
    },
    {
      "cell_type": "code",
      "metadata": {
        "colab": {
          "base_uri": "https://localhost:8080/"
        },
        "id": "6zopoMy2YfTq",
        "outputId": "43ab7e2e-86bc-45d2-e662-d9b9a26bb7f2"
      },
      "source": [
        "a = (123, \"abc\", True, 123)\n",
        "print(a[1])\n",
        "print(a[2:])\n",
        "print(a[:2])\n",
        "print(a.index(\"abc\"))\n",
        "print(a.index(True))\n",
        "print(a.count(123))\n",
        "print(a.count(\"abc\"))"
      ],
      "execution_count": 29,
      "outputs": [
        {
          "output_type": "stream",
          "text": [
            "abc\n",
            "(True, 123)\n",
            "(123, 'abc')\n",
            "1\n",
            "2\n",
            "2\n",
            "1\n"
          ],
          "name": "stdout"
        }
      ]
    },
    {
      "cell_type": "code",
      "metadata": {
        "colab": {
          "base_uri": "https://localhost:8080/"
        },
        "id": "7F5v1ZOabF0q",
        "outputId": "cf1fd6c3-b912-487b-a9d0-3fe5590e15f0"
      },
      "source": [
        "a = 1, 2, 3, 3, 4, 5, 6, 7, 8, 9\n",
        "print(a[0:9])\n",
        "print(a[0:len(a):4])\n",
        "print(a[0:100:3])\n",
        "print(a[::4])"
      ],
      "execution_count": 30,
      "outputs": [
        {
          "output_type": "stream",
          "text": [
            "(1, 2, 3, 3, 4, 5, 6, 7, 8)\n",
            "(1, 4, 8)\n",
            "(1, 3, 6, 9)\n",
            "(1, 4, 8)\n"
          ],
          "name": "stdout"
        }
      ]
    },
    {
      "cell_type": "code",
      "metadata": {
        "colab": {
          "base_uri": "https://localhost:8080/"
        },
        "id": "joGWmIh-GvHV",
        "outputId": "5d95da0e-f917-4393-c038-932af76c9477"
      },
      "source": [
        "list(reversed([\"happy\", \"birthday\"]))"
      ],
      "execution_count": 31,
      "outputs": [
        {
          "output_type": "execute_result",
          "data": {
            "text/plain": [
              "['birthday', 'happy']"
            ]
          },
          "metadata": {
            "tags": []
          },
          "execution_count": 31
        }
      ]
    },
    {
      "cell_type": "code",
      "metadata": {
        "colab": {
          "base_uri": "https://localhost:8080/"
        },
        "id": "n7hrkCy5HF18",
        "outputId": "4701ccac-5981-4d06-9fde-ea68e0641894"
      },
      "source": [
        "a = True\n",
        "print(type(a))\n",
        "print(1 == 1.0) #값 자체를 비교\n",
        "print(1 is 1.0) #객체를 비교\n",
        "print(1 is not 1.0) #객체를 비교"
      ],
      "execution_count": 32,
      "outputs": [
        {
          "output_type": "stream",
          "text": [
            "<class 'bool'>\n",
            "True\n",
            "False\n",
            "True\n"
          ],
          "name": "stdout"
        }
      ]
    },
    {
      "cell_type": "code",
      "metadata": {
        "colab": {
          "base_uri": "https://localhost:8080/"
        },
        "id": "H1sPW5_JIwN5",
        "outputId": "ae765505-9437-4436-89f9-29e224161c13"
      },
      "source": [
        "a = -5\n",
        "print(a)\n",
        "print(a is -5)\n",
        "\n",
        "a = -6\n",
        "print(a)\n",
        "print(a is -6)"
      ],
      "execution_count": 33,
      "outputs": [
        {
          "output_type": "stream",
          "text": [
            "-5\n",
            "True\n",
            "-6\n",
            "False\n"
          ],
          "name": "stdout"
        }
      ]
    },
    {
      "cell_type": "code",
      "metadata": {
        "colab": {
          "base_uri": "https://localhost:8080/"
        },
        "id": "RHz239tHJ5Bg",
        "outputId": "788dae84-4d8d-4524-de29-6b2b0a46407f"
      },
      "source": [
        "print(not True)\n",
        "print(not False)\n",
        "print(False and False)\n",
        "print(True and False)\n",
        "print(False and True)\n",
        "print(True or True)\n",
        "print(False or False)\n",
        "print(True and True)"
      ],
      "execution_count": 34,
      "outputs": [
        {
          "output_type": "stream",
          "text": [
            "False\n",
            "True\n",
            "False\n",
            "False\n",
            "False\n",
            "True\n",
            "False\n",
            "True\n"
          ],
          "name": "stdout"
        }
      ]
    },
    {
      "cell_type": "code",
      "metadata": {
        "colab": {
          "base_uri": "https://localhost:8080/"
        },
        "id": "aDUdoFmGRh1n",
        "outputId": "979ebe95-637e-4dd6-b4ce-8ba223a0bc33"
      },
      "source": [
        "our_team=[\"마이콜\", \"문준혁\", \"수준호\", \"야수완\", \"이명호\", \"잼민준\", \"7\", \"8\", \"9\", \"10\"]\n",
        "print(our_team[5:9])"
      ],
      "execution_count": 35,
      "outputs": [
        {
          "output_type": "stream",
          "text": [
            "['잼민준', '7', '8', '9']\n"
          ],
          "name": "stdout"
        }
      ]
    },
    {
      "cell_type": "code",
      "metadata": {
        "colab": {
          "base_uri": "https://localhost:8080/"
        },
        "id": "UpdVKrBZWsbL",
        "outputId": "f6c14aac-3892-4f64-95c5-159595446037"
      },
      "source": [
        "a = 123 + 456j\n",
        "a.conjugate()"
      ],
      "execution_count": 36,
      "outputs": [
        {
          "output_type": "execute_result",
          "data": {
            "text/plain": [
              "(123-456j)"
            ]
          },
          "metadata": {
            "tags": []
          },
          "execution_count": 36
        }
      ]
    },
    {
      "cell_type": "code",
      "metadata": {
        "colab": {
          "base_uri": "https://localhost:8080/"
        },
        "id": "HPjZSqPAiG0k",
        "outputId": "27c47d08-17ea-4345-cc49-46ccc99b4559"
      },
      "source": [
        "for i in range(1, 10):\n",
        "  print(\"2 * {} = {}\".format(i, i*2))"
      ],
      "execution_count": 37,
      "outputs": [
        {
          "output_type": "stream",
          "text": [
            "2 * 1 = 2\n",
            "2 * 2 = 4\n",
            "2 * 3 = 6\n",
            "2 * 4 = 8\n",
            "2 * 5 = 10\n",
            "2 * 6 = 12\n",
            "2 * 7 = 14\n",
            "2 * 8 = 16\n",
            "2 * 9 = 18\n"
          ],
          "name": "stdout"
        }
      ]
    },
    {
      "cell_type": "code",
      "metadata": {
        "colab": {
          "base_uri": "https://localhost:8080/"
        },
        "id": "wFbrji28XO49",
        "outputId": "db2d8d44-0b5c-4341-b79f-bb03aa93417f"
      },
      "source": [
        "for i in range(1, 10):\n",
        "  print(\"2 * %d = %d\" %(i, i*2))"
      ],
      "execution_count": 38,
      "outputs": [
        {
          "output_type": "stream",
          "text": [
            "2 * 1 = 2\n",
            "2 * 2 = 4\n",
            "2 * 3 = 6\n",
            "2 * 4 = 8\n",
            "2 * 5 = 10\n",
            "2 * 6 = 12\n",
            "2 * 7 = 14\n",
            "2 * 8 = 16\n",
            "2 * 9 = 18\n"
          ],
          "name": "stdout"
        }
      ]
    },
    {
      "cell_type": "code",
      "metadata": {
        "id": "-NzzTWSQX-ja"
      },
      "source": [
        "for j in range(1, 10):\n",
        "  for i in range(1, 10):\n",
        "    print(\"%d * %d = %d\" %(j, i, i*j))\n",
        "  print(\"----------\")"
      ],
      "execution_count": null,
      "outputs": []
    },
    {
      "cell_type": "code",
      "metadata": {
        "colab": {
          "base_uri": "https://localhost:8080/"
        },
        "id": "444KikApd57m",
        "outputId": "981a188c-5dd9-4769-ab93-8096f55734b4"
      },
      "source": [
        "echo = input()\n",
        "\n",
        "while echo != exit:\n",
        "    if(echo == \"exit\"):\n",
        "      break\n",
        "    print(echo)\n",
        "    echo = input()"
      ],
      "execution_count": 40,
      "outputs": [
        {
          "output_type": "stream",
          "text": [
            "exit\n"
          ],
          "name": "stdout"
        }
      ]
    },
    {
      "cell_type": "code",
      "metadata": {
        "id": "VQ2phAbYgOUM"
      },
      "source": [
        "for i in range(1, 101, 2):\n",
        "  print(i)"
      ],
      "execution_count": null,
      "outputs": []
    },
    {
      "cell_type": "code",
      "metadata": {
        "id": "o4pvfMeShGBh"
      },
      "source": [
        "for i in range(100, 200):\n",
        "  if(i % 3 ==0):\n",
        "    print(i)"
      ],
      "execution_count": null,
      "outputs": []
    },
    {
      "cell_type": "code",
      "metadata": {
        "colab": {
          "base_uri": "https://localhost:8080/"
        },
        "id": "yQ1wYNMUheB3",
        "outputId": "698cb9d0-ee9b-4fe2-ac9b-79acb3121d55"
      },
      "source": [
        "a = input()\n",
        "a = int(a)\n",
        "for i in range(2, a+1):\n",
        "  if(a % i ==0):\n",
        "    print(\"F\")\n",
        "    break\n",
        "  else:\n",
        "    print(\"T\")\n",
        "    break"
      ],
      "execution_count": 43,
      "outputs": [
        {
          "output_type": "stream",
          "text": [
            "5\n",
            "T\n"
          ],
          "name": "stdout"
        }
      ]
    },
    {
      "cell_type": "code",
      "metadata": {
        "id": "qz-7k8gykQV9"
      },
      "source": [
        "count = 0\n",
        "for i in range(1, 101, ):\n",
        "  print(\"2\")\n",
        "  count += 1\n",
        "  print(\"3\")\n",
        "  count += 1\n",
        "  if(i % 2 != 0):\n",
        "      for j in range(3,i , 2):\n",
        "        if(i % j == 0):\n",
        "          break\n",
        "        if(j == i - 2):\n",
        "          print(i)\n",
        "          count += 1\n",
        "\n",
        "print(count)"
      ],
      "execution_count": null,
      "outputs": []
    },
    {
      "cell_type": "code",
      "metadata": {
        "colab": {
          "base_uri": "https://localhost:8080/"
        },
        "id": "xeWDrrZgUjxQ",
        "outputId": "5ed5ed69-4c29-49e5-e626-0fe14ce0d0d4"
      },
      "source": [
        "print(\"단락회로평가, 마지막 값 반환\")\n",
        "print(True and 'Python')\n",
        "print(False and 'Python')\n",
        "print(0 and 'Python')\n",
        "print(1 and 'Python')\n",
        "print(True or 'Python')\n",
        "print('Python' or True)\n",
        "print(False or 'Python')\n",
        "print(0 or 'Python')\n",
        "print(1 or 'Python')"
      ],
      "execution_count": 55,
      "outputs": [
        {
          "output_type": "stream",
          "text": [
            "단락회로평가, 마지막 값 반환\n",
            "Python\n",
            "False\n",
            "0\n",
            "Python\n",
            "True\n",
            "Python\n",
            "Python\n",
            "Python\n",
            "1\n"
          ],
          "name": "stdout"
        }
      ]
    },
    {
      "cell_type": "code",
      "metadata": {
        "colab": {
          "base_uri": "https://localhost:8080/"
        },
        "id": "IR4cvfyGVtHU",
        "outputId": "4c79af11-fd92-44c6-f97a-a64a3bde6dc0"
      },
      "source": [
        "a = int(input())\n",
        "print(a)\n",
        "\n",
        "#a = input()\n",
        "#a = int(a)\n",
        "if(a == 1):\n",
        "  print(\"*\")\n",
        "elif(a == 2):\n",
        "  print(\"**\")\n",
        "else:\n",
        "  print(\"***\")"
      ],
      "execution_count": 62,
      "outputs": [
        {
          "output_type": "stream",
          "text": [
            "3\n",
            "3\n",
            "***\n"
          ],
          "name": "stdout"
        }
      ]
    },
    {
      "cell_type": "code",
      "metadata": {
        "colab": {
          "base_uri": "https://localhost:8080/"
        },
        "id": "ZWuWiJw4WlnW",
        "outputId": "d1a42c91-d952-4933-fbf5-6e3ec6266744"
      },
      "source": [
        "arr = []\n",
        "for i in range(1, 10, 2):\n",
        "  arr.append(i)\n",
        "for i in range(0, len(arr), 1):\n",
        "  print(arr[i])\n",
        "\n",
        "array = [i for i in range(1, 10, 2)]\n",
        "array2 = [i for i in range(1, 10, 2) if(i > 40)]"
      ],
      "execution_count": 68,
      "outputs": [
        {
          "output_type": "stream",
          "text": [
            "1\n",
            "3\n",
            "5\n",
            "7\n",
            "9\n"
          ],
          "name": "stdout"
        }
      ]
    },
    {
      "cell_type": "code",
      "metadata": {
        "colab": {
          "base_uri": "https://localhost:8080/"
        },
        "id": "MrkL0RjlXqcB",
        "outputId": "d3041b23-01fb-46bc-9d84-402559e8bffe"
      },
      "source": [
        "r1 = [1, 2, 3, 4, 5]\n",
        "r2 = []\n",
        "for i in r1:\n",
        "  if i%2:\n",
        "    r2.append(i*2)\n",
        "\n",
        "r2\n"
      ],
      "execution_count": 72,
      "outputs": [
        {
          "output_type": "execute_result",
          "data": {
            "text/plain": [
              "[2, 6, 10]"
            ]
          },
          "metadata": {
            "tags": []
          },
          "execution_count": 72
        }
      ]
    },
    {
      "cell_type": "code",
      "metadata": {
        "colab": {
          "base_uri": "https://localhost:8080/"
        },
        "id": "_oKyXm3HYAhI",
        "outputId": "b9504c8a-91ed-4b9e-a19f-04f9f921dea6"
      },
      "source": [
        "r1 = [1, 2, 3, 4, 5]\n",
        "r2 = [i*2 for i in r1 if(i%2)]\n",
        "r2"
      ],
      "execution_count": 74,
      "outputs": [
        {
          "output_type": "execute_result",
          "data": {
            "text/plain": [
              "[2, 6, 10]"
            ]
          },
          "metadata": {
            "tags": []
          },
          "execution_count": 74
        }
      ]
    },
    {
      "cell_type": "code",
      "metadata": {
        "colab": {
          "base_uri": "https://localhost:8080/"
        },
        "id": "YPqm70MXYj7Z",
        "outputId": "e98c019e-5f73-41e7-8510-8cc548f54411"
      },
      "source": [
        "a = {i for i in 'apple'}\n",
        "print(a)\n",
        "\n",
        "b = {i for i in 'pineapple' if i not in 'apl'}\n",
        "print(b)"
      ],
      "execution_count": 78,
      "outputs": [
        {
          "output_type": "stream",
          "text": [
            "{'p', 'e', 'l', 'a'}\n",
            "{'i', 'e', 'n'}\n"
          ],
          "name": "stdout"
        }
      ]
    },
    {
      "cell_type": "code",
      "metadata": {
        "id": "pESQ1b2JbdfL"
      },
      "source": [
        "for dan in range(2, 10, 1):\n",
        "  for i in range(1, 10):\n",
        "    print(\"{} X {} = {}\".format(dan, i, dan*i))"
      ],
      "execution_count": null,
      "outputs": []
    },
    {
      "cell_type": "code",
      "metadata": {
        "colab": {
          "base_uri": "https://localhost:8080/"
        },
        "id": "m0gbMY6zc5JV",
        "outputId": "5213378e-6bc7-4211-d22e-dde44b61e5fe"
      },
      "source": [
        "#소수 판별\n",
        "n = int(input())\n",
        "count = 0\n",
        "for x in range(1, n+1):\n",
        "  if n % x == 0:\n",
        "    count = count + 1\n",
        "\n",
        "    if count == 2:\n",
        "      print(\"소수\")\n",
        "      \n",
        "    else:\n",
        "      print(\"소수 아님\")"
      ],
      "execution_count": 82,
      "outputs": [
        {
          "output_type": "stream",
          "text": [
            "100\n",
            "소수 아님\n",
            "소수\n",
            "소수 아님\n",
            "소수 아님\n",
            "소수 아님\n",
            "소수 아님\n",
            "소수 아님\n",
            "소수 아님\n",
            "소수 아님\n",
            "9\n"
          ],
          "name": "stdout"
        }
      ]
    },
    {
      "cell_type": "code",
      "metadata": {
        "colab": {
          "base_uri": "https://localhost:8080/"
        },
        "id": "5C6AIqpndWcA",
        "outputId": "25db7805-5c21-4896-b5ed-861caacf8e3f"
      },
      "source": [
        "sum = 0\n",
        "for n in range(1, 100+1):\n",
        "  count = 0\n",
        "  for x in range(1, n+1):\n",
        "    if n % x == 0:\n",
        "      count = count + 1\n",
        "    if count == 2:\n",
        "      sum = sum + 1\n",
        "\n",
        "print(sum)"
      ],
      "execution_count": 83,
      "outputs": [
        {
          "output_type": "stream",
          "text": [
            "657\n"
          ],
          "name": "stdout"
        }
      ]
    }
  ]
}