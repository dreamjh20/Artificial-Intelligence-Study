{
  "nbformat": 4,
  "nbformat_minor": 0,
  "metadata": {
    "colab": {
      "name": "금요일에는 파이썬",
      "provenance": [],
      "authorship_tag": "ABX9TyP9mlEC8draHzXbBJ1Cpk+E",
      "include_colab_link": true
    },
    "kernelspec": {
      "name": "python3",
      "display_name": "Python 3"
    }
  },
  "cells": [
    {
      "cell_type": "markdown",
      "metadata": {
        "id": "view-in-github",
        "colab_type": "text"
      },
      "source": [
        "<a href=\"https://colab.research.google.com/github/dreamjh20/Artificial-Intelligence-Study/blob/main/%EA%B8%88%EC%9A%94%EC%9D%BC%EC%97%90%EB%8A%94_%ED%8C%8C%EC%9D%B4%EC%8D%AC.ipynb\" target=\"_parent\"><img src=\"https://colab.research.google.com/assets/colab-badge.svg\" alt=\"Open In Colab\"/></a>"
      ]
    },
    {
      "cell_type": "code",
      "metadata": {
        "colab": {
          "base_uri": "https://localhost:8080/"
        },
        "id": "7fxTZsPVHiII",
        "outputId": "e5c9220c-5037-46a3-af15-60938c567402"
      },
      "source": [
        "x, y = 0, 797\r\n",
        "print(x, y)"
      ],
      "execution_count": null,
      "outputs": [
        {
          "output_type": "stream",
          "text": [
            "0 797\n"
          ],
          "name": "stdout"
        }
      ]
    },
    {
      "cell_type": "code",
      "metadata": {
        "colab": {
          "base_uri": "https://localhost:8080/"
        },
        "id": "yoZqERGsHzcA",
        "outputId": "0cfbc551-8a85-4186-ba99-a7d0a43130b6"
      },
      "source": [
        "x = y = z = 100\r\n",
        "print(x, y, z)"
      ],
      "execution_count": null,
      "outputs": [
        {
          "output_type": "stream",
          "text": [
            "100 100 100\n"
          ],
          "name": "stdout"
        }
      ]
    },
    {
      "cell_type": "code",
      "metadata": {
        "colab": {
          "base_uri": "https://localhost:8080/"
        },
        "id": "6ivvheEjIROy",
        "outputId": "343fd0c8-455c-4a6b-ff1d-ff6f30fefc5f"
      },
      "source": [
        "x, y = 1, 2\r\n",
        "print(x, y)\r\n",
        "t = x\r\n",
        "x = y\r\n",
        "y = t\r\n",
        "print(x, y)"
      ],
      "execution_count": null,
      "outputs": [
        {
          "output_type": "stream",
          "text": [
            "1 2\n",
            "2 1\n"
          ],
          "name": "stdout"
        }
      ]
    },
    {
      "cell_type": "code",
      "metadata": {
        "colab": {
          "base_uri": "https://localhost:8080/"
        },
        "id": "QDKr_uzNIwFt",
        "outputId": "7af9b38a-565b-4d9f-83f8-bb4a08d35c72"
      },
      "source": [
        "x, y = 1, 2\r\n",
        "print(x, y)\r\n",
        "x, y = y, x\r\n",
        "print(x, y)"
      ],
      "execution_count": null,
      "outputs": [
        {
          "output_type": "stream",
          "text": [
            "1 2\n",
            "2 1\n"
          ],
          "name": "stdout"
        }
      ]
    },
    {
      "cell_type": "code",
      "metadata": {
        "colab": {
          "base_uri": "https://localhost:8080/"
        },
        "id": "vnXriEa6Wr1W",
        "outputId": "0cd62d26-fb6e-4b94-fc75-90422b0417de"
      },
      "source": [
        "print(complex(1.1, 2.2))\r\n",
        "complex('1.23+45.6j')"
      ],
      "execution_count": null,
      "outputs": [
        {
          "output_type": "stream",
          "text": [
            "(1.1+2.2j)\n"
          ],
          "name": "stdout"
        },
        {
          "output_type": "execute_result",
          "data": {
            "text/plain": [
              "(1.23+45.6j)"
            ]
          },
          "metadata": {
            "tags": []
          },
          "execution_count": 11
        }
      ]
    },
    {
      "cell_type": "code",
      "metadata": {
        "colab": {
          "base_uri": "https://localhost:8080/"
        },
        "id": "j8kTJsEIWznt",
        "outputId": "22ea625b-aa79-476b-eabf-16098fb0806a"
      },
      "source": [
        "print(abs(-1))\r\n",
        "abs(1)"
      ],
      "execution_count": 1,
      "outputs": [
        {
          "output_type": "stream",
          "text": [
            "1\n"
          ],
          "name": "stdout"
        },
        {
          "output_type": "execute_result",
          "data": {
            "text/plain": [
              "1"
            ]
          },
          "metadata": {
            "tags": []
          },
          "execution_count": 1
        }
      ]
    }
  ]
}