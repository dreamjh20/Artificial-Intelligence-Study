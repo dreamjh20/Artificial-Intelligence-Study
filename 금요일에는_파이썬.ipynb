{
  "nbformat": 4,
  "nbformat_minor": 0,
  "metadata": {
    "colab": {
      "name": "금요일에는 파이썬",
      "provenance": [],
      "collapsed_sections": [],
      "authorship_tag": "ABX9TyOl+6ARkle60zZ6Qi8qXqoo",
      "include_colab_link": true
    },
    "kernelspec": {
      "name": "python3",
      "display_name": "Python 3"
    },
    "accelerator": "GPU"
  },
  "cells": [
    {
      "cell_type": "markdown",
      "metadata": {
        "id": "view-in-github",
        "colab_type": "text"
      },
      "source": [
        "<a href=\"https://colab.research.google.com/github/dreamjh20/Artificial-Intelligence-Study/blob/main/%EA%B8%88%EC%9A%94%EC%9D%BC%EC%97%90%EB%8A%94_%ED%8C%8C%EC%9D%B4%EC%8D%AC.ipynb\" target=\"_parent\"><img src=\"https://colab.research.google.com/assets/colab-badge.svg\" alt=\"Open In Colab\"/></a>"
      ]
    },
    {
      "cell_type": "code",
      "metadata": {
        "colab": {
          "base_uri": "https://localhost:8080/"
        },
        "id": "7fxTZsPVHiII",
        "outputId": "0d71c40e-0e88-447d-fa48-730cd1a5373a"
      },
      "source": [
        "x, y = 0, 797\n",
        "print(x, y)"
      ],
      "execution_count": 51,
      "outputs": [
        {
          "output_type": "stream",
          "text": [
            "0 797\n"
          ],
          "name": "stdout"
        }
      ]
    },
    {
      "cell_type": "code",
      "metadata": {
        "colab": {
          "base_uri": "https://localhost:8080/"
        },
        "id": "yoZqERGsHzcA",
        "outputId": "076e986f-37f0-4937-df3f-df07181ff6c4"
      },
      "source": [
        "x = y = z = 100\n",
        "print(x, y, z)"
      ],
      "execution_count": 52,
      "outputs": [
        {
          "output_type": "stream",
          "text": [
            "100 100 100\n"
          ],
          "name": "stdout"
        }
      ]
    },
    {
      "cell_type": "code",
      "metadata": {
        "colab": {
          "base_uri": "https://localhost:8080/"
        },
        "id": "6ivvheEjIROy",
        "outputId": "3ce5d609-4592-49a6-af6c-ed40b2aa0fa5"
      },
      "source": [
        "x, y = 1, 2\n",
        "print(x, y)\n",
        "t = x\n",
        "x = y\n",
        "y = t\n",
        "print(x, y)"
      ],
      "execution_count": 53,
      "outputs": [
        {
          "output_type": "stream",
          "text": [
            "1 2\n",
            "2 1\n"
          ],
          "name": "stdout"
        }
      ]
    },
    {
      "cell_type": "code",
      "metadata": {
        "colab": {
          "base_uri": "https://localhost:8080/"
        },
        "id": "QDKr_uzNIwFt",
        "outputId": "6606b32d-c03f-499d-a550-0cb26f7e9635"
      },
      "source": [
        "x, y = 1, 2\n",
        "print(x, y)\n",
        "x, y = y, x\n",
        "print(x, y)"
      ],
      "execution_count": 54,
      "outputs": [
        {
          "output_type": "stream",
          "text": [
            "1 2\n",
            "2 1\n"
          ],
          "name": "stdout"
        }
      ]
    },
    {
      "cell_type": "code",
      "metadata": {
        "colab": {
          "base_uri": "https://localhost:8080/"
        },
        "id": "vnXriEa6Wr1W",
        "outputId": "ce909f7d-e272-430a-beb7-08671128af76"
      },
      "source": [
        "print(complex(1.1, 2.2))\n",
        "complex('1.23+45.6j')"
      ],
      "execution_count": 55,
      "outputs": [
        {
          "output_type": "stream",
          "text": [
            "(1.1+2.2j)\n"
          ],
          "name": "stdout"
        },
        {
          "output_type": "execute_result",
          "data": {
            "text/plain": [
              "(1.23+45.6j)"
            ]
          },
          "metadata": {
            "tags": []
          },
          "execution_count": 55
        }
      ]
    },
    {
      "cell_type": "code",
      "metadata": {
        "colab": {
          "base_uri": "https://localhost:8080/"
        },
        "id": "j8kTJsEIWznt",
        "outputId": "d15f6ff3-dde3-48f7-e934-c328252d5149"
      },
      "source": [
        "print(abs(-1))\n",
        "abs(1)"
      ],
      "execution_count": 56,
      "outputs": [
        {
          "output_type": "stream",
          "text": [
            "1\n"
          ],
          "name": "stdout"
        },
        {
          "output_type": "execute_result",
          "data": {
            "text/plain": [
              "1"
            ]
          },
          "metadata": {
            "tags": []
          },
          "execution_count": 56
        }
      ]
    },
    {
      "cell_type": "code",
      "metadata": {
        "colab": {
          "base_uri": "https://localhost:8080/"
        },
        "id": "LLTmEBry-CYn",
        "outputId": "8cc1407a-c56f-47aa-9830-de27cc8f95f0"
      },
      "source": [
        "a = \"Hello\"\n",
        "b = 10\n",
        "print(a + str(b))"
      ],
      "execution_count": 57,
      "outputs": [
        {
          "output_type": "stream",
          "text": [
            "Hello10\n"
          ],
          "name": "stdout"
        }
      ]
    },
    {
      "cell_type": "code",
      "metadata": {
        "colab": {
          "base_uri": "https://localhost:8080/"
        },
        "id": "6YzIs68z-IeV",
        "outputId": "7f569177-51f3-4968-a978-f48ce1631fa6"
      },
      "source": [
        "print(\"Hello, 'Python'\")\n",
        "print('Hello, \\'Python\\'')"
      ],
      "execution_count": 58,
      "outputs": [
        {
          "output_type": "stream",
          "text": [
            "Hello, 'Python'\n",
            "Hello, 'Python'\n"
          ],
          "name": "stdout"
        }
      ]
    },
    {
      "cell_type": "code",
      "metadata": {
        "colab": {
          "base_uri": "https://localhost:8080/"
        },
        "id": "uX3uvb7u-nYt",
        "outputId": "b3f60be6-b5bd-489f-a419-f4f026c9c586"
      },
      "source": [
        "HakDong = \"Study Yourself!\"\n",
        "print(HakDong[0])\n",
        "print(HakDong[1])\n",
        "print(HakDong[-1])\n",
        "print(HakDong[-2])"
      ],
      "execution_count": 59,
      "outputs": [
        {
          "output_type": "stream",
          "text": [
            "S\n",
            "t\n",
            "!\n",
            "f\n"
          ],
          "name": "stdout"
        }
      ]
    },
    {
      "cell_type": "code",
      "metadata": {
        "colab": {
          "base_uri": "https://localhost:8080/"
        },
        "id": "4LAUaqBk-4FR",
        "outputId": "67e9a3fb-83f7-4731-973a-b1012f6ab322"
      },
      "source": [
        "print(HakDong[0:-1])\n",
        "print(HakDong[0:5])\n",
        "print(HakDong[0:6])\n",
        "print(HakDong[0:7])\n",
        "print(HakDong[5:])\n",
        "print(HakDong[-5:])\n",
        "print(HakDong[1:10:2])\n",
        "print(len(HakDong))"
      ],
      "execution_count": 60,
      "outputs": [
        {
          "output_type": "stream",
          "text": [
            "Study Yourself\n",
            "Study\n",
            "Study \n",
            "Study Y\n",
            " Yourself!\n",
            "self!\n",
            "td or\n",
            "15\n"
          ],
          "name": "stdout"
        }
      ]
    },
    {
      "cell_type": "code",
      "metadata": {
        "colab": {
          "base_uri": "https://localhost:8080/"
        },
        "id": "QBviMxTdH2H4",
        "outputId": "b9dc36fa-160f-4f09-83c0-b6365d7320bc"
      },
      "source": [
        "h = \" Python on friday \"\n",
        "print(h.count(\"y\"))\n",
        "print(h.upper())\n",
        "print(h.lower())\n",
        "print(h.strip())\n",
        "print(h.replace(\"Python\", \"Java\"))\n",
        "print(h.find(\"ay\"))\n",
        "print(h.rfind(\"d\"))\n",
        "#FIND_FAILED\n",
        "print(h.find(\"T\"))"
      ],
      "execution_count": 61,
      "outputs": [
        {
          "output_type": "stream",
          "text": [
            "2\n",
            " PYTHON ON FRIDAY \n",
            " python on friday \n",
            "Python on friday\n",
            " Java on friday \n",
            "15\n",
            "14\n",
            "-1\n"
          ],
          "name": "stdout"
        }
      ]
    },
    {
      "cell_type": "code",
      "metadata": {
        "colab": {
          "base_uri": "https://localhost:8080/",
          "height": 35
        },
        "id": "yZxiN8nfJvyp",
        "outputId": "2993cb3e-342a-4a75-f9d5-263f4c78c8ed"
      },
      "source": [
        "table = str.maketrans(\"aeiou\", \"12345\")\n",
        "'Mokpo is the best'.translate(table)"
      ],
      "execution_count": 62,
      "outputs": [
        {
          "output_type": "execute_result",
          "data": {
            "application/vnd.google.colaboratory.intrinsic+json": {
              "type": "string"
            },
            "text/plain": [
              "'M4kp4 3s th2 b2st'"
            ]
          },
          "metadata": {
            "tags": []
          },
          "execution_count": 62
        }
      ]
    },
    {
      "cell_type": "code",
      "metadata": {
        "colab": {
          "base_uri": "https://localhost:8080/",
          "height": 204
        },
        "id": "CUXaTHC2KO7y",
        "outputId": "6d7b3ca1-a5f7-4251-b80b-778f71f2b8e0"
      },
      "source": [
        "print(\"Python in Friday\".index('th'))\n",
        "\"Python in Friday\".index('yd')"
      ],
      "execution_count": 63,
      "outputs": [
        {
          "output_type": "stream",
          "text": [
            "2\n"
          ],
          "name": "stdout"
        },
        {
          "output_type": "error",
          "ename": "ValueError",
          "evalue": "ignored",
          "traceback": [
            "\u001b[0;31m---------------------------------------------------------------------------\u001b[0m",
            "\u001b[0;31mValueError\u001b[0m                                Traceback (most recent call last)",
            "\u001b[0;32m<ipython-input-63-abe4c1ec42ae>\u001b[0m in \u001b[0;36m<module>\u001b[0;34m()\u001b[0m\n\u001b[1;32m      1\u001b[0m \u001b[0mprint\u001b[0m\u001b[0;34m(\u001b[0m\u001b[0;34m\"Python in Friday\"\u001b[0m\u001b[0;34m.\u001b[0m\u001b[0mindex\u001b[0m\u001b[0;34m(\u001b[0m\u001b[0;34m'th'\u001b[0m\u001b[0;34m)\u001b[0m\u001b[0;34m)\u001b[0m\u001b[0;34m\u001b[0m\u001b[0;34m\u001b[0m\u001b[0m\n\u001b[0;32m----> 2\u001b[0;31m \u001b[0;34m\"Python in Friday\"\u001b[0m\u001b[0;34m.\u001b[0m\u001b[0mindex\u001b[0m\u001b[0;34m(\u001b[0m\u001b[0;34m'yd'\u001b[0m\u001b[0;34m)\u001b[0m\u001b[0;34m\u001b[0m\u001b[0;34m\u001b[0m\u001b[0m\n\u001b[0m",
            "\u001b[0;31mValueError\u001b[0m: substring not found"
          ]
        }
      ]
    },
    {
      "cell_type": "code",
      "metadata": {
        "id": "1QMaDvhRK63B"
      },
      "source": [
        "print(\"Fripy\".rjust(10))\n",
        "print(\"Fripy\".center(10))\n",
        "print(\"Fripy\".ljust(10))\n",
        "print(\"35\".zfill(10))\n",
        "print(\"3.5\".zfill(10))\n",
        "print(\"Fripy\".zfill(10))"
      ],
      "execution_count": null,
      "outputs": []
    },
    {
      "cell_type": "code",
      "metadata": {
        "id": "WsDfM5okL1Sp"
      },
      "source": [
        "M = \"Mokpo Suwon\"\n",
        "print(\"M\" in M)\n",
        "print(\"m\" in M)"
      ],
      "execution_count": null,
      "outputs": []
    },
    {
      "cell_type": "code",
      "metadata": {
        "id": "KhzaifqRME0B"
      },
      "source": [
        "x = \"01::23::45::67::89::&&\"\n",
        "y = x.split(\"::\")\n",
        "print(y)\n",
        "\",\".join(y)"
      ],
      "execution_count": null,
      "outputs": []
    },
    {
      "cell_type": "code",
      "metadata": {
        "id": "NdugOQ2oNB85"
      },
      "source": [
        "x = \"01::23::45::67::89::&&\"\n",
        "y = x.split(\" \")\n",
        "y"
      ],
      "execution_count": null,
      "outputs": []
    },
    {
      "cell_type": "code",
      "metadata": {
        "id": "WV9umYBZOM9V"
      },
      "source": [
        "a = ['a', 'b', 'c', 'd', 'e']\n",
        "\"-\".join(a)"
      ],
      "execution_count": null,
      "outputs": []
    },
    {
      "cell_type": "code",
      "metadata": {
        "id": "HhmQx4OpPCaL"
      },
      "source": [
        "print('I love %s' %\"su\")\n",
        "print('I am %d' %18)\n",
        "print('I am %f' %18.4332123)\n",
        "print(\"I'm from %s and MY age %d\" %(\"mokpo\", 18))\n",
        "print('반갑다 나는 %s'%\"수준호\")\n",
        "print('%.3f'%2.3)\n",
        "print('%.3f'%2.3347)"
      ],
      "execution_count": null,
      "outputs": []
    },
    {
      "cell_type": "code",
      "metadata": {
        "id": "Mj_DrPOyWwS7"
      },
      "source": [
        "print('hello {lang} {ver}'.format(lang = \"Java\", ver=3.0))"
      ],
      "execution_count": null,
      "outputs": []
    },
    {
      "cell_type": "code",
      "metadata": {
        "id": "gYPLrmooaRPS"
      },
      "source": [
        "print(\"{:d}\".format(515))\n",
        "print(\"{:5d}\".format(515))\n",
        "print(\"{:+5d}\".format(515))\n",
        "print(\"{:+5d}\".format(-515))\n",
        "print(\"{:=+5d}\".format(515))\n",
        "print(\"{:05d}\".format(515))\n",
        "print(\"{:+05d}\".format(515))"
      ],
      "execution_count": null,
      "outputs": []
    },
    {
      "cell_type": "code",
      "metadata": {
        "id": "qy9Vfd2Kb4sH"
      },
      "source": [
        "print(\"{:f}\".format(11.17))\n",
        "print(\"{:12f}\".format(11.17))\n",
        "print(\"{:12.1f}\".format(11.17))"
      ],
      "execution_count": null,
      "outputs": []
    },
    {
      "cell_type": "code",
      "metadata": {
        "id": "4_OV4OstAzVL"
      },
      "source": [
        "float('5.3')"
      ],
      "execution_count": null,
      "outputs": []
    },
    {
      "cell_type": "code",
      "metadata": {
        "colab": {
          "base_uri": "https://localhost:8080/",
          "height": 35
        },
        "id": "bVdbbwv0L_yR",
        "outputId": "11ea49e2-760c-477a-9dbe-530275d924d0"
      },
      "source": [
        "\"{:=+6.2f}\".format(11.17)"
      ],
      "execution_count": 66,
      "outputs": [
        {
          "output_type": "execute_result",
          "data": {
            "application/vnd.google.colaboratory.intrinsic+json": {
              "type": "string"
            },
            "text/plain": [
              "'+11.17'"
            ]
          },
          "metadata": {
            "tags": []
          },
          "execution_count": 66
        }
      ]
    },
    {
      "cell_type": "code",
      "metadata": {
        "colab": {
          "base_uri": "https://localhost:8080/"
        },
        "id": "uzOiDNtyNh35",
        "outputId": "92e5c529-5177-4752-9e3d-1c25ad270ddd"
      },
      "source": [
        "print('{0:>12.4f}'.format(1675.3))\n",
        "print('{:>12.4f}'.format(1675.3))\n",
        "print('{:0>12.4f}'.format(1675.3))"
      ],
      "execution_count": 80,
      "outputs": [
        {
          "output_type": "stream",
          "text": [
            "   1675.3000\n",
            "   1675.3000\n",
            "0001675.3000\n"
          ],
          "name": "stdout"
        }
      ]
    },
    {
      "cell_type": "code",
      "metadata": {
        "colab": {
          "base_uri": "https://localhost:8080/"
        },
        "id": "CAH4YgdWQWgK",
        "outputId": "869c96c6-1128-4fcf-9297-a6ff586f039d"
      },
      "source": [
        "num = [0, 1, 2]\n",
        "print(num)\n",
        "print(num + [10, 11])\n",
        "print(num.append(20))\n",
        "print(num)\n",
        "del num[1]\n",
        "print(num)\n",
        "num.pop(1)\n",
        "print(num)\n",
        "num.clear()\n",
        "print(num)"
      ],
      "execution_count": 99,
      "outputs": [
        {
          "output_type": "stream",
          "text": [
            "[0, 1, 2]\n",
            "[0, 1, 2, 10, 11]\n",
            "None\n",
            "[0, 1, 2, 20]\n",
            "[0, 2, 20]\n",
            "[0, 20]\n",
            "[]\n"
          ],
          "name": "stdout"
        }
      ]
    },
    {
      "cell_type": "code",
      "metadata": {
        "colab": {
          "base_uri": "https://localhost:8080/"
        },
        "id": "mIC0-FjsT8Ka",
        "outputId": "be147ac8-e39d-4e4f-cd10-23c3cbfe8757"
      },
      "source": [
        "t = ()\n",
        "xy = (2569, 1449)\n",
        "color = 129, 147, 169\n",
        "print(color, xy)"
      ],
      "execution_count": 103,
      "outputs": [
        {
          "output_type": "stream",
          "text": [
            "(129, 147, 169) (2569, 1449)\n"
          ],
          "name": "stdout"
        }
      ]
    },
    {
      "cell_type": "code",
      "metadata": {
        "colab": {
          "base_uri": "https://localhost:8080/"
        },
        "id": "R5jjuB87XVkU",
        "outputId": "24e342ac-f45a-4cb3-f527-6880d0c11c47"
      },
      "source": [
        "tuplea = (2,)\n",
        "print(tuplea)"
      ],
      "execution_count": 105,
      "outputs": [
        {
          "output_type": "stream",
          "text": [
            "(2,)\n"
          ],
          "name": "stdout"
        }
      ]
    },
    {
      "cell_type": "code",
      "metadata": {
        "colab": {
          "base_uri": "https://localhost:8080/"
        },
        "id": "6zopoMy2YfTq",
        "outputId": "930f5550-22ed-4879-b8d5-ca63dcd8cc87"
      },
      "source": [
        "a = (123, \"abc\", True, 123)\n",
        "print(a[1])\n",
        "print(a[2:])\n",
        "print(a[:2])\n",
        "print(a.index(\"abc\"))\n",
        "print(a.index(True))\n",
        "print(a.count(123))\n",
        "print(a.count(\"abc\"))"
      ],
      "execution_count": 114,
      "outputs": [
        {
          "output_type": "stream",
          "text": [
            "abc\n",
            "(True, 123)\n",
            "(123, 'abc')\n",
            "1\n",
            "2\n",
            "2\n",
            "1\n"
          ],
          "name": "stdout"
        }
      ]
    },
    {
      "cell_type": "code",
      "metadata": {
        "colab": {
          "base_uri": "https://localhost:8080/"
        },
        "id": "7F5v1ZOabF0q",
        "outputId": "e84b4c9b-0715-40bb-dd2e-03b630e6fbee"
      },
      "source": [
        "a = 1, 2, 3, 3, 4, 5, 6, 7, 8, 9\n",
        "print(a[0:9])\n",
        "print(a[0:len(a):4])\n",
        "print(a[0:100:3])\n",
        "print(a[::4])"
      ],
      "execution_count": 120,
      "outputs": [
        {
          "output_type": "stream",
          "text": [
            "(1, 2, 3, 3, 4, 5, 6, 7, 8)\n",
            "(1, 4, 8)\n",
            "(1, 3, 6, 9)\n",
            "(1, 4, 8)\n"
          ],
          "name": "stdout"
        }
      ]
    }
  ]
}