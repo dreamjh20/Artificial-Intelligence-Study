{
  "nbformat": 4,
  "nbformat_minor": 0,
  "metadata": {
    "colab": {
      "name": "금요일에는 파이썬",
      "provenance": [],
      "collapsed_sections": [],
      "authorship_tag": "ABX9TyP4stpf+0wvtM8voiEcAxCC",
      "include_colab_link": true
    },
    "kernelspec": {
      "name": "python3",
      "display_name": "Python 3"
    },
    "accelerator": "GPU"
  },
  "cells": [
    {
      "cell_type": "markdown",
      "metadata": {
        "id": "view-in-github",
        "colab_type": "text"
      },
      "source": [
        "<a href=\"https://colab.research.google.com/github/dreamjh20/Artificial-Intelligence-Study/blob/main/%EA%B8%88%EC%9A%94%EC%9D%BC%EC%97%90%EB%8A%94_%ED%8C%8C%EC%9D%B4%EC%8D%AC.ipynb\" target=\"_parent\"><img src=\"https://colab.research.google.com/assets/colab-badge.svg\" alt=\"Open In Colab\"/></a>"
      ]
    },
    {
      "cell_type": "code",
      "metadata": {
        "colab": {
          "base_uri": "https://localhost:8080/"
        },
        "id": "7fxTZsPVHiII",
        "outputId": "db19f1c3-b750-42a0-8a07-6b2e45841477"
      },
      "source": [
        "x, y = 0, 797\n",
        "print(x, y)"
      ],
      "execution_count": 41,
      "outputs": [
        {
          "output_type": "stream",
          "text": [
            "0 797\n"
          ],
          "name": "stdout"
        }
      ]
    },
    {
      "cell_type": "code",
      "metadata": {
        "colab": {
          "base_uri": "https://localhost:8080/"
        },
        "id": "yoZqERGsHzcA",
        "outputId": "562451ea-f822-434b-809a-4ee5bcdc4d99"
      },
      "source": [
        "x = y = z = 100\n",
        "print(x, y, z)"
      ],
      "execution_count": 42,
      "outputs": [
        {
          "output_type": "stream",
          "text": [
            "100 100 100\n"
          ],
          "name": "stdout"
        }
      ]
    },
    {
      "cell_type": "code",
      "metadata": {
        "colab": {
          "base_uri": "https://localhost:8080/"
        },
        "id": "6ivvheEjIROy",
        "outputId": "cdc99315-ad63-496f-e63f-ff0dae16ffee"
      },
      "source": [
        "x, y = 1, 2\n",
        "print(x, y)\n",
        "t = x\n",
        "x = y\n",
        "y = t\n",
        "print(x, y)"
      ],
      "execution_count": 43,
      "outputs": [
        {
          "output_type": "stream",
          "text": [
            "1 2\n",
            "2 1\n"
          ],
          "name": "stdout"
        }
      ]
    },
    {
      "cell_type": "code",
      "metadata": {
        "colab": {
          "base_uri": "https://localhost:8080/"
        },
        "id": "QDKr_uzNIwFt",
        "outputId": "11267a50-e3d9-4487-d68b-86f2485efd1f"
      },
      "source": [
        "x, y = 1, 2\n",
        "print(x, y)\n",
        "x, y = y, x\n",
        "print(x, y)"
      ],
      "execution_count": 44,
      "outputs": [
        {
          "output_type": "stream",
          "text": [
            "1 2\n",
            "2 1\n"
          ],
          "name": "stdout"
        }
      ]
    },
    {
      "cell_type": "code",
      "metadata": {
        "colab": {
          "base_uri": "https://localhost:8080/"
        },
        "id": "vnXriEa6Wr1W",
        "outputId": "de197d58-525c-44d6-d830-95b41989fc87"
      },
      "source": [
        "print(complex(1.1, 2.2))\n",
        "complex('1.23+45.6j')"
      ],
      "execution_count": 45,
      "outputs": [
        {
          "output_type": "stream",
          "text": [
            "(1.1+2.2j)\n"
          ],
          "name": "stdout"
        },
        {
          "output_type": "execute_result",
          "data": {
            "text/plain": [
              "(1.23+45.6j)"
            ]
          },
          "metadata": {
            "tags": []
          },
          "execution_count": 45
        }
      ]
    },
    {
      "cell_type": "code",
      "metadata": {
        "colab": {
          "base_uri": "https://localhost:8080/"
        },
        "id": "j8kTJsEIWznt",
        "outputId": "7fbab022-ba54-434c-e0b0-2a776f7c9d31"
      },
      "source": [
        "print(abs(-1))\n",
        "abs(1)"
      ],
      "execution_count": 46,
      "outputs": [
        {
          "output_type": "stream",
          "text": [
            "1\n"
          ],
          "name": "stdout"
        },
        {
          "output_type": "execute_result",
          "data": {
            "text/plain": [
              "1"
            ]
          },
          "metadata": {
            "tags": []
          },
          "execution_count": 46
        }
      ]
    },
    {
      "cell_type": "code",
      "metadata": {
        "colab": {
          "base_uri": "https://localhost:8080/"
        },
        "id": "LLTmEBry-CYn",
        "outputId": "04ac834e-9b14-46b2-a887-32e437b273ae"
      },
      "source": [
        "a = \"Hello\"\n",
        "b = 10\n",
        "print(a + str(b))"
      ],
      "execution_count": 47,
      "outputs": [
        {
          "output_type": "stream",
          "text": [
            "Hello10\n"
          ],
          "name": "stdout"
        }
      ]
    },
    {
      "cell_type": "code",
      "metadata": {
        "colab": {
          "base_uri": "https://localhost:8080/"
        },
        "id": "6YzIs68z-IeV",
        "outputId": "8b08beb7-88ba-4ede-d1cd-28ed650fa1ef"
      },
      "source": [
        "print(\"Hello, 'Python'\")\n",
        "print('Hello, \\'Python\\'')"
      ],
      "execution_count": 48,
      "outputs": [
        {
          "output_type": "stream",
          "text": [
            "Hello, 'Python'\n",
            "Hello, 'Python'\n"
          ],
          "name": "stdout"
        }
      ]
    },
    {
      "cell_type": "code",
      "metadata": {
        "colab": {
          "base_uri": "https://localhost:8080/"
        },
        "id": "uX3uvb7u-nYt",
        "outputId": "fb1497b6-6a9d-4c89-f284-f2bfdf33225b"
      },
      "source": [
        "HakDong = \"Study Yourself!\"\n",
        "print(HakDong[0])\n",
        "print(HakDong[1])\n",
        "print(HakDong[-1])\n",
        "print(HakDong[-2])"
      ],
      "execution_count": 49,
      "outputs": [
        {
          "output_type": "stream",
          "text": [
            "S\n",
            "t\n",
            "!\n",
            "f\n"
          ],
          "name": "stdout"
        }
      ]
    },
    {
      "cell_type": "code",
      "metadata": {
        "colab": {
          "base_uri": "https://localhost:8080/"
        },
        "id": "4LAUaqBk-4FR",
        "outputId": "21acc7fe-d433-4663-ebb4-5f8ed41705bc"
      },
      "source": [
        "print(HakDong[0:-1])\n",
        "print(HakDong[0:5])\n",
        "print(HakDong[0:6])\n",
        "print(HakDong[0:7])\n",
        "print(HakDong[5:])\n",
        "print(HakDong[-5:])\n",
        "print(HakDong[1:10:2])\n",
        "print(len(HakDong))"
      ],
      "execution_count": 50,
      "outputs": [
        {
          "output_type": "stream",
          "text": [
            "Study Yourself\n",
            "Study\n",
            "Study \n",
            "Study Y\n",
            " Yourself!\n",
            "self!\n",
            "td or\n",
            "15\n"
          ],
          "name": "stdout"
        }
      ]
    },
    {
      "cell_type": "code",
      "metadata": {
        "colab": {
          "base_uri": "https://localhost:8080/"
        },
        "id": "QBviMxTdH2H4",
        "outputId": "0c9b43c8-258c-4302-a1eb-5ada4c579ee5"
      },
      "source": [
        "h = \" Python on friday \"\n",
        "print(h.count(\"y\"))\n",
        "print(h.upper())\n",
        "print(h.lower())\n",
        "print(h.strip())\n",
        "print(h.replace(\"Python\", \"Java\"))\n",
        "print(h.find(\"ay\"))\n",
        "print(h.rfind(\"d\"))\n",
        "#FIND_FAILED\n",
        "print(h.find(\"T\"))"
      ],
      "execution_count": 51,
      "outputs": [
        {
          "output_type": "stream",
          "text": [
            "2\n",
            " PYTHON ON FRIDAY \n",
            " python on friday \n",
            "Python on friday\n",
            " Java on friday \n",
            "15\n",
            "14\n",
            "-1\n"
          ],
          "name": "stdout"
        }
      ]
    },
    {
      "cell_type": "code",
      "metadata": {
        "colab": {
          "base_uri": "https://localhost:8080/",
          "height": 35
        },
        "id": "yZxiN8nfJvyp",
        "outputId": "8de687bf-b26b-439d-f326-e05858887ed9"
      },
      "source": [
        "table = str.maketrans(\"aeiou\", \"12345\")\n",
        "'Mokpo is the best'.translate(table)"
      ],
      "execution_count": 52,
      "outputs": [
        {
          "output_type": "execute_result",
          "data": {
            "application/vnd.google.colaboratory.intrinsic+json": {
              "type": "string"
            },
            "text/plain": [
              "'M4kp4 3s th2 b2st'"
            ]
          },
          "metadata": {
            "tags": []
          },
          "execution_count": 52
        }
      ]
    },
    {
      "cell_type": "code",
      "metadata": {
        "id": "CUXaTHC2KO7y"
      },
      "source": [
        "#print(\"Python in Friday\".index('th'))\n",
        "#\"Python in Friday\".index('yd')"
      ],
      "execution_count": 53,
      "outputs": []
    },
    {
      "cell_type": "code",
      "metadata": {
        "id": "1QMaDvhRK63B",
        "colab": {
          "base_uri": "https://localhost:8080/"
        },
        "outputId": "c5e42984-0dde-4cf1-8718-61b20ad6077b"
      },
      "source": [
        "print(\"Fripy\".rjust(10))\n",
        "print(\"Fripy\".center(10))\n",
        "print(\"Fripy\".ljust(10))\n",
        "print(\"35\".zfill(10))\n",
        "print(\"3.5\".zfill(10))\n",
        "print(\"Fripy\".zfill(10))"
      ],
      "execution_count": 54,
      "outputs": [
        {
          "output_type": "stream",
          "text": [
            "     Fripy\n",
            "  Fripy   \n",
            "Fripy     \n",
            "0000000035\n",
            "00000003.5\n",
            "00000Fripy\n"
          ],
          "name": "stdout"
        }
      ]
    },
    {
      "cell_type": "code",
      "metadata": {
        "id": "WsDfM5okL1Sp",
        "colab": {
          "base_uri": "https://localhost:8080/"
        },
        "outputId": "6687bd50-531d-4062-89d1-e34e1c5724c7"
      },
      "source": [
        "M = \"Mokpo Suwon\"\n",
        "print(\"M\" in M)\n",
        "print(\"m\" in M)"
      ],
      "execution_count": 55,
      "outputs": [
        {
          "output_type": "stream",
          "text": [
            "True\n",
            "False\n"
          ],
          "name": "stdout"
        }
      ]
    },
    {
      "cell_type": "code",
      "metadata": {
        "id": "KhzaifqRME0B",
        "colab": {
          "base_uri": "https://localhost:8080/",
          "height": 53
        },
        "outputId": "10ab25b3-7d60-4b19-ab50-7f9827fea428"
      },
      "source": [
        "x = \"01::23::45::67::89::&&\"\n",
        "y = x.split(\"::\")\n",
        "print(y)\n",
        "\",\".join(y)"
      ],
      "execution_count": 56,
      "outputs": [
        {
          "output_type": "stream",
          "text": [
            "['01', '23', '45', '67', '89', '&&']\n"
          ],
          "name": "stdout"
        },
        {
          "output_type": "execute_result",
          "data": {
            "application/vnd.google.colaboratory.intrinsic+json": {
              "type": "string"
            },
            "text/plain": [
              "'01,23,45,67,89,&&'"
            ]
          },
          "metadata": {
            "tags": []
          },
          "execution_count": 56
        }
      ]
    },
    {
      "cell_type": "code",
      "metadata": {
        "id": "NdugOQ2oNB85",
        "colab": {
          "base_uri": "https://localhost:8080/"
        },
        "outputId": "198a85ba-f553-4511-cbc9-612b741dac32"
      },
      "source": [
        "x = \"01::23::45::67::89::&&\"\n",
        "y = x.split(\" \")\n",
        "y"
      ],
      "execution_count": 57,
      "outputs": [
        {
          "output_type": "execute_result",
          "data": {
            "text/plain": [
              "['01::23::45::67::89::&&']"
            ]
          },
          "metadata": {
            "tags": []
          },
          "execution_count": 57
        }
      ]
    },
    {
      "cell_type": "code",
      "metadata": {
        "id": "WV9umYBZOM9V",
        "colab": {
          "base_uri": "https://localhost:8080/",
          "height": 35
        },
        "outputId": "d610b114-deaa-4899-c720-4f0db5c87a0d"
      },
      "source": [
        "a = ['a', 'b', 'c', 'd', 'e']\n",
        "\"-\".join(a)"
      ],
      "execution_count": 58,
      "outputs": [
        {
          "output_type": "execute_result",
          "data": {
            "application/vnd.google.colaboratory.intrinsic+json": {
              "type": "string"
            },
            "text/plain": [
              "'a-b-c-d-e'"
            ]
          },
          "metadata": {
            "tags": []
          },
          "execution_count": 58
        }
      ]
    },
    {
      "cell_type": "code",
      "metadata": {
        "id": "HhmQx4OpPCaL",
        "colab": {
          "base_uri": "https://localhost:8080/"
        },
        "outputId": "715c2b13-2cc1-495c-b0d7-8d2fb989a21b"
      },
      "source": [
        "print('I love %s' %\"su\")\n",
        "print('I am %d' %18)\n",
        "print('I am %f' %18.4332123)\n",
        "print(\"I'm from %s and MY age %d\" %(\"mokpo\", 18))\n",
        "print('반갑다 나는 %s'%\"수준호\")\n",
        "print('%.3f'%2.3)\n",
        "print('%.3f'%2.3347)"
      ],
      "execution_count": 59,
      "outputs": [
        {
          "output_type": "stream",
          "text": [
            "I love su\n",
            "I am 18\n",
            "I am 18.433212\n",
            "I'm from mokpo and MY age 18\n",
            "반갑다 나는 수준호\n",
            "2.300\n",
            "2.335\n"
          ],
          "name": "stdout"
        }
      ]
    },
    {
      "cell_type": "code",
      "metadata": {
        "id": "Mj_DrPOyWwS7",
        "colab": {
          "base_uri": "https://localhost:8080/"
        },
        "outputId": "98a17fb9-68aa-4717-f08d-e0213acadde4"
      },
      "source": [
        "print('hello {lang} {ver}'.format(lang = \"Java\", ver=3.0))"
      ],
      "execution_count": 60,
      "outputs": [
        {
          "output_type": "stream",
          "text": [
            "hello Java 3.0\n"
          ],
          "name": "stdout"
        }
      ]
    },
    {
      "cell_type": "code",
      "metadata": {
        "id": "gYPLrmooaRPS",
        "colab": {
          "base_uri": "https://localhost:8080/"
        },
        "outputId": "b0d0d5d5-e438-43b5-85da-da8be0382535"
      },
      "source": [
        "print(\"{:d}\".format(515))\n",
        "print(\"{:5d}\".format(515))\n",
        "print(\"{:+5d}\".format(515))\n",
        "print(\"{:+5d}\".format(-515))\n",
        "print(\"{:=+5d}\".format(515))\n",
        "print(\"{:05d}\".format(515))\n",
        "print(\"{:+05d}\".format(515))"
      ],
      "execution_count": 61,
      "outputs": [
        {
          "output_type": "stream",
          "text": [
            "515\n",
            "  515\n",
            " +515\n",
            " -515\n",
            "+ 515\n",
            "00515\n",
            "+0515\n"
          ],
          "name": "stdout"
        }
      ]
    },
    {
      "cell_type": "code",
      "metadata": {
        "id": "qy9Vfd2Kb4sH",
        "colab": {
          "base_uri": "https://localhost:8080/"
        },
        "outputId": "0570225b-a709-4150-c4f3-d1eb886db2be"
      },
      "source": [
        "print(\"{:f}\".format(11.17))\n",
        "print(\"{:12f}\".format(11.17))\n",
        "print(\"{:12.1f}\".format(11.17))"
      ],
      "execution_count": 62,
      "outputs": [
        {
          "output_type": "stream",
          "text": [
            "11.170000\n",
            "   11.170000\n",
            "        11.2\n"
          ],
          "name": "stdout"
        }
      ]
    },
    {
      "cell_type": "code",
      "metadata": {
        "id": "4_OV4OstAzVL",
        "colab": {
          "base_uri": "https://localhost:8080/"
        },
        "outputId": "11eb9b4e-445c-4762-e7d8-b7c7fb8ce9ea"
      },
      "source": [
        "float('5.3')"
      ],
      "execution_count": 63,
      "outputs": [
        {
          "output_type": "execute_result",
          "data": {
            "text/plain": [
              "5.3"
            ]
          },
          "metadata": {
            "tags": []
          },
          "execution_count": 63
        }
      ]
    },
    {
      "cell_type": "code",
      "metadata": {
        "colab": {
          "base_uri": "https://localhost:8080/",
          "height": 35
        },
        "id": "bVdbbwv0L_yR",
        "outputId": "bc93303b-4728-45cb-9dea-926c15c38832"
      },
      "source": [
        "\"{:=+6.2f}\".format(11.17)"
      ],
      "execution_count": 64,
      "outputs": [
        {
          "output_type": "execute_result",
          "data": {
            "application/vnd.google.colaboratory.intrinsic+json": {
              "type": "string"
            },
            "text/plain": [
              "'+11.17'"
            ]
          },
          "metadata": {
            "tags": []
          },
          "execution_count": 64
        }
      ]
    },
    {
      "cell_type": "code",
      "metadata": {
        "colab": {
          "base_uri": "https://localhost:8080/"
        },
        "id": "uzOiDNtyNh35",
        "outputId": "529c2fe4-9354-4253-e3ae-20dbfa353207"
      },
      "source": [
        "print('{0:>12.4f}'.format(1675.3))\n",
        "print('{:>12.4f}'.format(1675.3))\n",
        "print('{:0>12.4f}'.format(1675.3))"
      ],
      "execution_count": 65,
      "outputs": [
        {
          "output_type": "stream",
          "text": [
            "   1675.3000\n",
            "   1675.3000\n",
            "0001675.3000\n"
          ],
          "name": "stdout"
        }
      ]
    },
    {
      "cell_type": "code",
      "metadata": {
        "colab": {
          "base_uri": "https://localhost:8080/"
        },
        "id": "CAH4YgdWQWgK",
        "outputId": "78a9d89c-b4e8-4e0a-f59d-c1da502850d6"
      },
      "source": [
        "num = [0, 1, 2]\n",
        "print(num)\n",
        "print(num + [10, 11])\n",
        "print(num.append(20))\n",
        "print(num)\n",
        "del num[1]\n",
        "print(num)\n",
        "num.pop(1)\n",
        "print(num)\n",
        "num.clear()\n",
        "print(num)"
      ],
      "execution_count": 66,
      "outputs": [
        {
          "output_type": "stream",
          "text": [
            "[0, 1, 2]\n",
            "[0, 1, 2, 10, 11]\n",
            "None\n",
            "[0, 1, 2, 20]\n",
            "[0, 2, 20]\n",
            "[0, 20]\n",
            "[]\n"
          ],
          "name": "stdout"
        }
      ]
    },
    {
      "cell_type": "code",
      "metadata": {
        "colab": {
          "base_uri": "https://localhost:8080/"
        },
        "id": "mIC0-FjsT8Ka",
        "outputId": "9e14dce2-b655-4ce5-fab2-3bd0d1bcd3e6"
      },
      "source": [
        "t = ()\n",
        "xy = (2569, 1449)\n",
        "color = 129, 147, 169\n",
        "print(color, xy)"
      ],
      "execution_count": 67,
      "outputs": [
        {
          "output_type": "stream",
          "text": [
            "(129, 147, 169) (2569, 1449)\n"
          ],
          "name": "stdout"
        }
      ]
    },
    {
      "cell_type": "code",
      "metadata": {
        "colab": {
          "base_uri": "https://localhost:8080/"
        },
        "id": "R5jjuB87XVkU",
        "outputId": "08844c0e-ca7d-44ae-9ae5-99b028cee503"
      },
      "source": [
        "tuplea = (2,)\n",
        "print(tuplea)"
      ],
      "execution_count": 68,
      "outputs": [
        {
          "output_type": "stream",
          "text": [
            "(2,)\n"
          ],
          "name": "stdout"
        }
      ]
    },
    {
      "cell_type": "code",
      "metadata": {
        "colab": {
          "base_uri": "https://localhost:8080/"
        },
        "id": "6zopoMy2YfTq",
        "outputId": "07444046-1b6f-40b8-d4ee-ea54260f9f26"
      },
      "source": [
        "a = (123, \"abc\", True, 123)\n",
        "print(a[1])\n",
        "print(a[2:])\n",
        "print(a[:2])\n",
        "print(a.index(\"abc\"))\n",
        "print(a.index(True))\n",
        "print(a.count(123))\n",
        "print(a.count(\"abc\"))"
      ],
      "execution_count": 69,
      "outputs": [
        {
          "output_type": "stream",
          "text": [
            "abc\n",
            "(True, 123)\n",
            "(123, 'abc')\n",
            "1\n",
            "2\n",
            "2\n",
            "1\n"
          ],
          "name": "stdout"
        }
      ]
    },
    {
      "cell_type": "code",
      "metadata": {
        "colab": {
          "base_uri": "https://localhost:8080/"
        },
        "id": "7F5v1ZOabF0q",
        "outputId": "2f304ad3-a9a3-42a0-884c-a3b606afb7fb"
      },
      "source": [
        "a = 1, 2, 3, 3, 4, 5, 6, 7, 8, 9\n",
        "print(a[0:9])\n",
        "print(a[0:len(a):4])\n",
        "print(a[0:100:3])\n",
        "print(a[::4])"
      ],
      "execution_count": 70,
      "outputs": [
        {
          "output_type": "stream",
          "text": [
            "(1, 2, 3, 3, 4, 5, 6, 7, 8)\n",
            "(1, 4, 8)\n",
            "(1, 3, 6, 9)\n",
            "(1, 4, 8)\n"
          ],
          "name": "stdout"
        }
      ]
    },
    {
      "cell_type": "code",
      "metadata": {
        "colab": {
          "base_uri": "https://localhost:8080/"
        },
        "id": "joGWmIh-GvHV",
        "outputId": "77bbd27c-f87f-42ae-a2b5-a26f017a8e26"
      },
      "source": [
        "list(reversed([\"happy\", \"birthday\"]))"
      ],
      "execution_count": 71,
      "outputs": [
        {
          "output_type": "execute_result",
          "data": {
            "text/plain": [
              "['birthday', 'happy']"
            ]
          },
          "metadata": {
            "tags": []
          },
          "execution_count": 71
        }
      ]
    },
    {
      "cell_type": "code",
      "metadata": {
        "colab": {
          "base_uri": "https://localhost:8080/"
        },
        "id": "n7hrkCy5HF18",
        "outputId": "0bbab0b8-7b37-45d2-914a-bd6b68fd6ac1"
      },
      "source": [
        "a = True\n",
        "print(type(a))\n",
        "print(1 == 1.0) #값 자체를 비교\n",
        "print(1 is 1.0) #객체를 비교\n",
        "print(1 is not 1.0) #객체를 비교"
      ],
      "execution_count": 72,
      "outputs": [
        {
          "output_type": "stream",
          "text": [
            "<class 'bool'>\n",
            "True\n",
            "False\n",
            "True\n"
          ],
          "name": "stdout"
        }
      ]
    },
    {
      "cell_type": "code",
      "metadata": {
        "colab": {
          "base_uri": "https://localhost:8080/"
        },
        "id": "H1sPW5_JIwN5",
        "outputId": "476b27b4-a3af-4cc9-8a9a-49371eabc1fd"
      },
      "source": [
        "a = -5\n",
        "print(a)\n",
        "print(a is -5)\n",
        "\n",
        "a = -6\n",
        "print(a)\n",
        "print(a is -6)"
      ],
      "execution_count": 73,
      "outputs": [
        {
          "output_type": "stream",
          "text": [
            "-5\n",
            "True\n",
            "-6\n",
            "False\n"
          ],
          "name": "stdout"
        }
      ]
    },
    {
      "cell_type": "code",
      "metadata": {
        "colab": {
          "base_uri": "https://localhost:8080/"
        },
        "id": "RHz239tHJ5Bg",
        "outputId": "69dece69-dcb5-4ec0-b7b7-f212fe9f7214"
      },
      "source": [
        "print(not True)\n",
        "print(not False)\n",
        "print(False and False)\n",
        "print(True and False)\n",
        "print(False and True)\n",
        "print(True or True)\n",
        "print(False or False)\n",
        "print(True and True)"
      ],
      "execution_count": 74,
      "outputs": [
        {
          "output_type": "stream",
          "text": [
            "False\n",
            "True\n",
            "False\n",
            "False\n",
            "False\n",
            "True\n",
            "False\n",
            "True\n"
          ],
          "name": "stdout"
        }
      ]
    },
    {
      "cell_type": "code",
      "metadata": {
        "colab": {
          "base_uri": "https://localhost:8080/"
        },
        "id": "aDUdoFmGRh1n",
        "outputId": "61a85544-d454-42e7-e943-cadae0d2f504"
      },
      "source": [
        "our_team=[\"마이콜\", \"문준혁\", \"수준호\", \"야수완\", \"이명호\", \"잼민준\", \"7\", \"8\", \"9\", \"10\"]\n",
        "print(our_team[5:9])"
      ],
      "execution_count": 75,
      "outputs": [
        {
          "output_type": "stream",
          "text": [
            "['잼민준', '7', '8', '9']\n"
          ],
          "name": "stdout"
        }
      ]
    },
    {
      "cell_type": "code",
      "metadata": {
        "colab": {
          "base_uri": "https://localhost:8080/"
        },
        "id": "UpdVKrBZWsbL",
        "outputId": "d744ffab-749f-4bc8-ce88-5113bf8a911d"
      },
      "source": [
        "a = 123 + 456j\n",
        "a.conjugate()"
      ],
      "execution_count": 76,
      "outputs": [
        {
          "output_type": "execute_result",
          "data": {
            "text/plain": [
              "(123-456j)"
            ]
          },
          "metadata": {
            "tags": []
          },
          "execution_count": 76
        }
      ]
    },
    {
      "cell_type": "code",
      "metadata": {
        "colab": {
          "base_uri": "https://localhost:8080/"
        },
        "id": "HPjZSqPAiG0k",
        "outputId": "05857928-743a-496a-94c5-6a09b903e535"
      },
      "source": [
        "for i in range(1, 10):\n",
        "  print(\"2 * {} = {}\".format(i, i*2))"
      ],
      "execution_count": 77,
      "outputs": [
        {
          "output_type": "stream",
          "text": [
            "2 * 1 = 2\n",
            "2 * 2 = 4\n",
            "2 * 3 = 6\n",
            "2 * 4 = 8\n",
            "2 * 5 = 10\n",
            "2 * 6 = 12\n",
            "2 * 7 = 14\n",
            "2 * 8 = 16\n",
            "2 * 9 = 18\n"
          ],
          "name": "stdout"
        }
      ]
    },
    {
      "cell_type": "code",
      "metadata": {
        "colab": {
          "base_uri": "https://localhost:8080/"
        },
        "id": "wFbrji28XO49",
        "outputId": "f8bea46d-f6af-4aef-f813-0f2c8c67d10e"
      },
      "source": [
        "for i in range(1, 10):\n",
        "  print(\"2 * %d = %d\" %(i, i*2))"
      ],
      "execution_count": 79,
      "outputs": [
        {
          "output_type": "stream",
          "text": [
            "2 * 1 = 2\n",
            "2 * 2 = 4\n",
            "2 * 3 = 6\n",
            "2 * 4 = 8\n",
            "2 * 5 = 10\n",
            "2 * 6 = 12\n",
            "2 * 7 = 14\n",
            "2 * 8 = 16\n",
            "2 * 9 = 18\n"
          ],
          "name": "stdout"
        }
      ]
    },
    {
      "cell_type": "code",
      "metadata": {
        "colab": {
          "base_uri": "https://localhost:8080/"
        },
        "id": "-NzzTWSQX-ja",
        "outputId": "ce5fa6d2-a579-40db-c2b1-c5608189d430"
      },
      "source": [
        "for j in range(1, 10):\n",
        "  for i in range(1, 10):\n",
        "    print(\"%d * %d = %d\" %(j, i, i*j))\n",
        "  print(\"----------\")"
      ],
      "execution_count": 86,
      "outputs": [
        {
          "output_type": "stream",
          "text": [
            "1 * 1 = 1\n",
            "1 * 2 = 2\n",
            "1 * 3 = 3\n",
            "1 * 4 = 4\n",
            "1 * 5 = 5\n",
            "1 * 6 = 6\n",
            "1 * 7 = 7\n",
            "1 * 8 = 8\n",
            "1 * 9 = 9\n",
            "----------\n",
            "2 * 1 = 2\n",
            "2 * 2 = 4\n",
            "2 * 3 = 6\n",
            "2 * 4 = 8\n",
            "2 * 5 = 10\n",
            "2 * 6 = 12\n",
            "2 * 7 = 14\n",
            "2 * 8 = 16\n",
            "2 * 9 = 18\n",
            "----------\n",
            "3 * 1 = 3\n",
            "3 * 2 = 6\n",
            "3 * 3 = 9\n",
            "3 * 4 = 12\n",
            "3 * 5 = 15\n",
            "3 * 6 = 18\n",
            "3 * 7 = 21\n",
            "3 * 8 = 24\n",
            "3 * 9 = 27\n",
            "----------\n",
            "4 * 1 = 4\n",
            "4 * 2 = 8\n",
            "4 * 3 = 12\n",
            "4 * 4 = 16\n",
            "4 * 5 = 20\n",
            "4 * 6 = 24\n",
            "4 * 7 = 28\n",
            "4 * 8 = 32\n",
            "4 * 9 = 36\n",
            "----------\n",
            "5 * 1 = 5\n",
            "5 * 2 = 10\n",
            "5 * 3 = 15\n",
            "5 * 4 = 20\n",
            "5 * 5 = 25\n",
            "5 * 6 = 30\n",
            "5 * 7 = 35\n",
            "5 * 8 = 40\n",
            "5 * 9 = 45\n",
            "----------\n",
            "6 * 1 = 6\n",
            "6 * 2 = 12\n",
            "6 * 3 = 18\n",
            "6 * 4 = 24\n",
            "6 * 5 = 30\n",
            "6 * 6 = 36\n",
            "6 * 7 = 42\n",
            "6 * 8 = 48\n",
            "6 * 9 = 54\n",
            "----------\n",
            "7 * 1 = 7\n",
            "7 * 2 = 14\n",
            "7 * 3 = 21\n",
            "7 * 4 = 28\n",
            "7 * 5 = 35\n",
            "7 * 6 = 42\n",
            "7 * 7 = 49\n",
            "7 * 8 = 56\n",
            "7 * 9 = 63\n",
            "----------\n",
            "8 * 1 = 8\n",
            "8 * 2 = 16\n",
            "8 * 3 = 24\n",
            "8 * 4 = 32\n",
            "8 * 5 = 40\n",
            "8 * 6 = 48\n",
            "8 * 7 = 56\n",
            "8 * 8 = 64\n",
            "8 * 9 = 72\n",
            "----------\n",
            "9 * 1 = 9\n",
            "9 * 2 = 18\n",
            "9 * 3 = 27\n",
            "9 * 4 = 36\n",
            "9 * 5 = 45\n",
            "9 * 6 = 54\n",
            "9 * 7 = 63\n",
            "9 * 8 = 72\n",
            "9 * 9 = 81\n",
            "----------\n"
          ],
          "name": "stdout"
        }
      ]
    }
  ]
}