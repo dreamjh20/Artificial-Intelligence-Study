{
  "nbformat": 4,
  "nbformat_minor": 0,
  "metadata": {
    "colab": {
      "name": "Untitled3.ipynb",
      "provenance": [],
      "authorship_tag": "ABX9TyPOk0SLEfDRzW3B+kPppvCs",
      "include_colab_link": true
    },
    "kernelspec": {
      "name": "python3",
      "display_name": "Python 3"
    }
  },
  "cells": [
    {
      "cell_type": "markdown",
      "metadata": {
        "id": "view-in-github",
        "colab_type": "text"
      },
      "source": [
        "<a href=\"https://colab.research.google.com/github/dreamjh20/Artificial-Intelligence-Study/blob/main/Untitled3.ipynb\" target=\"_parent\"><img src=\"https://colab.research.google.com/assets/colab-badge.svg\" alt=\"Open In Colab\"/></a>"
      ]
    },
    {
      "cell_type": "code",
      "metadata": {
        "colab": {
          "base_uri": "https://localhost:8080/"
        },
        "id": "ljXmKbc1BrVb",
        "outputId": "1adebd0b-3b5c-42c2-ece5-15aa762295d1"
      },
      "source": [
        "import torch\r\n",
        "\r\n",
        "scalar1 = torch.tensor([1.])\r\n",
        "print(scalar1)\r\n"
      ],
      "execution_count": 1,
      "outputs": [
        {
          "output_type": "stream",
          "text": [
            "tensor([1.])\n"
          ],
          "name": "stdout"
        }
      ]
    },
    {
      "cell_type": "code",
      "metadata": {
        "colab": {
          "base_uri": "https://localhost:8080/"
        },
        "id": "foaBmsr4TEj7",
        "outputId": "0a0a8f0d-225a-4b13-f057-a3ff4357c516"
      },
      "source": [
        "scalar2 = torch.tensor([1.])\r\n",
        "print(scalar2)\r\n"
      ],
      "execution_count": 3,
      "outputs": [
        {
          "output_type": "stream",
          "text": [
            "tensor([1.])\n"
          ],
          "name": "stdout"
        }
      ]
    },
    {
      "cell_type": "code",
      "metadata": {
        "colab": {
          "base_uri": "https://localhost:8080/"
        },
        "id": "81ERNVFNTOT5",
        "outputId": "61f1f1ee-1b10-48d9-8d74-49501a0aa515"
      },
      "source": [
        "scalar3 = torch.tensor([3.])\r\n",
        "print(scalar3)"
      ],
      "execution_count": 4,
      "outputs": [
        {
          "output_type": "stream",
          "text": [
            "tensor([3.])\n"
          ],
          "name": "stdout"
        }
      ]
    },
    {
      "cell_type": "code",
      "metadata": {
        "colab": {
          "base_uri": "https://localhost:8080/"
        },
        "id": "dD_AfO-BW8Th",
        "outputId": "d0c90229-50e1-4835-e008-69210c0616ab"
      },
      "source": [
        "added_scalar = scalar1+scalar2\r\n",
        "print(added_scalar)"
      ],
      "execution_count": 5,
      "outputs": [
        {
          "output_type": "stream",
          "text": [
            "tensor([4.])\n"
          ],
          "name": "stdout"
        }
      ]
    },
    {
      "cell_type": "code",
      "metadata": {
        "colab": {
          "base_uri": "https://localhost:8080/"
        },
        "id": "d4HsNfIcXLxv",
        "outputId": "f3eab3e3-983d-4da8-db09-38cb53d12bbb"
      },
      "source": [
        "dived_scalar = scalar1 / scalar2\r\n",
        "print(dived_scalar)"
      ],
      "execution_count": 6,
      "outputs": [
        {
          "output_type": "stream",
          "text": [
            "tensor([0.3333])\n"
          ],
          "name": "stdout"
        }
      ]
    }
  ]
}