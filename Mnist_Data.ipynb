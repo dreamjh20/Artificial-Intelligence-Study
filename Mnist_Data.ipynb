{
  "nbformat": 4,
  "nbformat_minor": 0,
  "metadata": {
    "colab": {
      "name": "Mnist_Data",
      "provenance": [],
      "collapsed_sections": [],
      "authorship_tag": "ABX9TyP3oILejToMQD+/LxhQXGEL",
      "include_colab_link": true
    },
    "kernelspec": {
      "name": "python3",
      "display_name": "Python 3"
    },
    "language_info": {
      "name": "python"
    }
  },
  "cells": [
    {
      "cell_type": "markdown",
      "metadata": {
        "id": "view-in-github",
        "colab_type": "text"
      },
      "source": [
        "<a href=\"https://colab.research.google.com/github/dreamjh20/Artificial-Intelligence-Study/blob/main/Mnist_Data.ipynb\" target=\"_parent\"><img src=\"https://colab.research.google.com/assets/colab-badge.svg\" alt=\"Open In Colab\"/></a>"
      ]
    },
    {
      "cell_type": "code",
      "metadata": {
        "id": "YYkstefgkbCl"
      },
      "source": [
        "from PIL import Image\n",
        "\n",
        "import matplotlib.pyplot as plt\n",
        "import numpy as np\n",
        "import cv2"
      ],
      "execution_count": 17,
      "outputs": []
    },
    {
      "cell_type": "code",
      "metadata": {
        "id": "c65qnt5oSPTE"
      },
      "source": [
        "img = Image.open(\"one.png\")\n",
        "img_vector = np.array(img)  \n",
        "print(img_vector.shape)                #size\n",
        "plt.imshow(img_vector, cmap=\"Greys\")\n",
        "print(img_vector)"
      ],
      "execution_count": null,
      "outputs": []
    },
    {
      "cell_type": "code",
      "metadata": {
        "id": "og5gZEAlZ09O"
      },
      "source": [
        "image_grey = cv2.imread(\"one.png\", cv2.IMREAD_GRAYSCALE)\n",
        "\n",
        "max_output_value = 255   # 출력 픽셀 강도의 최대값\n",
        "neighborhood_size = 255\n",
        "subtract_from_mean = 0\n",
        "image_binarized = cv2.adaptiveThreshold(image_grey,\n",
        "                                       max_output_value,\n",
        "                                       cv2.ADAPTIVE_THRESH_GAUSSIAN_C,\n",
        "                                       cv2.THRESH_BINARY,\n",
        "                                       neighborhood_size,\n",
        "                                       subtract_from_mean)\n",
        "\n",
        "plt.imshow(image_binarized, cmap='gray')\n",
        "plt.show()\n",
        "\n",
        "img_vector = np.array(image_grey) \n",
        "print(img_vector)"
      ],
      "execution_count": null,
      "outputs": []
    },
    {
      "cell_type": "code",
      "metadata": {
        "colab": {
          "base_uri": "https://localhost:8080/",
          "height": 841
        },
        "id": "pk4UpdwJen41",
        "outputId": "b7b14e13-be56-493a-95ca-375ad49ed732"
      },
      "source": [
        "image_grey = cv2.imread(\"zero.png\", cv2.IMREAD_GRAYSCALE)\n",
        "\n",
        "img_vector = np.array(image_grey) \n",
        "print(\"Image Size(px) :\" , img_vector.shape)                #size\n",
        "print('\\n')\n",
        "\n",
        "np.set_printoptions(linewidth=np.nan)\n",
        "print(img_vector)\n",
        "\n",
        "plt.imshow(img_vector, cmap=\"Greys\")"
      ],
      "execution_count": 83,
      "outputs": [
        {
          "output_type": "stream",
          "name": "stdout",
          "text": [
            "Image Size(px) : (28, 28)\n",
            "\n",
            "\n",
            "[[  0   0   0   0   0   0   0   0   0   0   0   0   0   0   0   0   0   0   0   0   0   0   0   0   0   0   0   0]\n",
            " [  0   0   0   0   0   0   0   0   0   0   0   0   0   0   0   0   0   0   0   0   0   0   0   0   0   0   0   0]\n",
            " [  0   0   0   0   0   0   0   0   0   0   0   0   0   0   0   0   0   0   0   0   0   0   0   0   0   0   0   0]\n",
            " [  0   0   0   0   0   0   0   0   0   0   0   0   0   0   0   0   0   0   0   0   0   0   0   0   0   0   0   0]\n",
            " [  0   0   0   0   0   0   0   0   0  72 223 255 255 223  96   0   0   0   0   0   0   0   0   0   0   0   0   0]\n",
            " [  0   0   0   0   0   0   0   0   0 231 255 255 255 255 255 223  96   0   0   0   0   0   0   0   0   0   0   0]\n",
            " [  0   0   0   0   0   0   0   0  72 255 255 255 255 255 255 255 255 223  96   0   0   0   0   0   0   0   0   0]\n",
            " [  0   0   0   0   0   0   0   0 231 255 255 255 120 255 255 255 255 255 247   0   0   0   0   0   0   0   0   0]\n",
            " [  0   0   0   0   0   0   0  72 255 255 255 151   0   0 120 255 255 255 255  96   0   0   0   0   0   0   0   0]\n",
            " [  0   0   0   0   0   0   0 231 255 255 255   0   0   0   0   0 247 255 255 247   0   0   0   0   0   0   0   0]\n",
            " [  0   0   0   0   0   0   0 255 255 255 151   0   0   0   0   0 120 255 255 255   0   0   0   0   0   0   0   0]\n",
            " [  0   0   0   0   0   0   0 255 255 255   0   0   0   0   0   0   0 255 255 255   0   0   0   0   0   0   0   0]\n",
            " [  0   0   0   0   0   0   0 255 255 255   0   0   0   0   0   0   0 255 255 255   0   0   0   0   0   0   0   0]\n",
            " [  0   0   0   0   0   0   0 255 255 255   0   0   0   0   0   0   0 255 255 255   0   0   0   0   0   0   0   0]\n",
            " [  0   0   0   0   0   0   0 255 255 255   0   0   0   0   0   0   0 255 255 255   0   0   0   0   0   0   0   0]\n",
            " [  0   0   0   0   0   0   0 255 255 255   0   0   0   0   0   0   0 255 255 255   0   0   0   0   0   0   0   0]\n",
            " [  0   0   0   0   0   0   0 255 255 255   0   0   0   0   0   0   0 255 255 255   0   0   0   0   0   0   0   0]\n",
            " [  0   0   0   0   0   0   0 255 255 255   0   0   0   0   0   0   0 255 255 255   0   0   0   0   0   0   0   0]\n",
            " [  0   0   0   0   0   0   0 255 255 255   0   0   0   0   0   0   0 255 255 255   0   0   0   0   0   0   0   0]\n",
            " [  0   0   0   0   0   0   0 255 255 255  96   0   0   0   0   0 104 255 255 255   0   0   0   0   0   0   0   0]\n",
            " [  0   0   0   0   0   0   0 247 255 255 247  96   0   0   0  72 239 255 255 167   0   0   0   0   0   0   0   0]\n",
            " [  0   0   0   0   0   0   0 120 255 255 255 255 223 104  72 239 255 255 255   8   0   0   0   0   0   0   0   0]\n",
            " [  0   0   0   0   0   0   0   0 120 255 255 255 255 255 255 255 255 255 151   0   0   0   0   0   0   0   0   0]\n",
            " [  0   0   0   0   0   0   0   0   0 120 255 255 255 255 255 255 255 151   0   0   0   0   0   0   0   0   0   0]\n",
            " [  0   0   0   0   0   0   0   0   0   0   0   8 159 255 255 255 151   0   0   0   0   0   0   0   0   0   0   0]\n",
            " [  0   0   0   0   0   0   0   0   0   0   0   0   0   0   0   0   0   0   0   0   0   0   0   0   0   0   0   0]\n",
            " [  0   0   0   0   0   0   0   0   0   0   0   0   0   0   0   0   0   0   0   0   0   0   0   0   0   0   0   0]\n",
            " [  0   0   0   0   0   0   0   0   0   0   0   0   0   0   0   0   0   0   0   0   0   0   0   0   0   0   0   0]]\n"
          ]
        },
        {
          "output_type": "execute_result",
          "data": {
            "text/plain": [
              "<matplotlib.image.AxesImage at 0x7f1085741310>"
            ]
          },
          "metadata": {},
          "execution_count": 83
        },
        {
          "output_type": "display_data",
          "data": {
            "image/png": "[encoded data removed]",
            "text/plain": [
              "<Figure size 432x288 with 1 Axes>"
            ]
          },
          "metadata": {
            "needs_background": "light"
          }
        }
      ]
    },
    {
      "cell_type": "code",
      "metadata": {
        "colab": {
          "base_uri": "https://localhost:8080/",
          "height": 841
        },
        "id": "F4DZQye_bixG",
        "outputId": "53386276-0aad-4789-cffb-fbca09ec6338"
      },
      "source": [
        "image_grey = cv2.imread(\"one.png\", cv2.IMREAD_GRAYSCALE)\n",
        "\n",
        "img_vector = np.array(image_grey) \n",
        "print(\"Image Size(px) :\" , img_vector.shape)                #size\n",
        "print('\\n')\n",
        "\n",
        "np.set_printoptions(linewidth=np.nan)\n",
        "print(img_vector)\n",
        "\n",
        "plt.imshow(img_vector, cmap=\"Greys\")"
      ],
      "execution_count": 82,
      "outputs": [
        {
          "output_type": "stream",
          "name": "stdout",
          "text": [
            "Image Size(px) : (28, 28)\n",
            "\n",
            "\n",
            "[[  0   0   0   0   0   0   0   0   0   0   0   0   0   0   0   0   0   0   0   0   0   0   0   0   0   0   0   0]\n",
            " [  0   0   0   0   0   0   0   0   0   0   0   0   0   0   0   0   0   0   0   0   0   0   0   0   0   0   0   0]\n",
            " [  0   0   0   0   0   0   0   0   0   0   0   0   0   0   0   0   0   0   0   0   0   0   0   0   0   0   0   0]\n",
            " [  0   0   0   0   0   0   0   0   0   0   0   0   0   0   0   0   0   0   0   0   0   0   0   0   0   0   0   0]\n",
            " [  0   0   0   0   0   0   0   0   0   0   0   0  72 191  96   0   0   0   0   0   0   0   0   0   0   0   0   0]\n",
            " [  0   0   0   0   0   0   0   0   0   0   0   0 231 255 247   0   0   0   0   0   0   0   0   0   0   0   0   0]\n",
            " [  0   0   0   0   0   0   0   0   0   0   0   0 255 255 255   0   0   0   0   0   0   0   0   0   0   0   0   0]\n",
            " [  0   0   0   0   0   0   0   0   0   0   0   0 255 255 255   0   0   0   0   0   0   0   0   0   0   0   0   0]\n",
            " [  0   0   0   0   0   0   0   0   0   0   0 104 255 255 255   0   0   0   0   0   0   0   0   0   0   0   0   0]\n",
            " [  0   0   0   0   0   0   0   0   0   0   0 231 255 255 167   0   0   0   0   0   0   0   0   0   0   0   0   0]\n",
            " [  0   0   0   0   0   0   0   0   0   0   0 255 255 255   8   0   0   0   0   0   0   0   0   0   0   0   0   0]\n",
            " [  0   0   0   0   0   0   0   0   0   0  72 255 255 255   0   0   0   0   0   0   0   0   0   0   0   0   0   0]\n",
            " [  0   0   0   0   0   0   0   0   0   0 231 255 255 255   0   0   0   0   0   0   0   0   0   0   0   0   0   0]\n",
            " [  0   0   0   0   0   0   0   0   0   0 255 255 255 151   0   0   0   0   0   0   0   0   0   0   0   0   0   0]\n",
            " [  0   0   0   0   0   0   0   0   0   0 255 255 255   0   0   0   0   0   0   0   0   0   0   0   0   0   0   0]\n",
            " [  0   0   0   0   0   0   0   0   0   0 255 255 255   0   0   0   0   0   0   0   0   0   0   0   0   0   0   0]\n",
            " [  0   0   0   0   0   0   0   0   0   0 255 255 255   0   0   0   0   0   0   0   0   0   0   0   0   0   0   0]\n",
            " [  0   0   0   0   0   0   0   0   0  72 255 255 255   0   0   0   0   0   0   0   0   0   0   0   0   0   0   0]\n",
            " [  0   0   0   0   0   0   0   0   0 231 255 255 255   0   0   0   0   0   0   0   0   0   0   0   0   0   0   0]\n",
            " [  0   0   0   0   0   0   0   0   0 247 255 255 251   0   0   0   0   0   0   0   0   0   0   0   0   0   0   0]\n",
            " [  0   0   0   0   0   0   0   0   0 120 255 255 255   0   0   0   0   0   0   0   0   0   0   0   0   0   0   0]\n",
            " [  0   0   0   0   0   0   0   0   0   0 120 255 151   0   0   0   0   0   0   0   0   0   0   0   0   0   0   0]\n",
            " [  0   0   0   0   0   0   0   0   0   0   0   0   0   0   0   0   0   0   0   0   0   0   0   0   0   0   0   0]\n",
            " [  0   0   0   0   0   0   0   0   0   0   0   0   0   0   0   0   0   0   0   0   0   0   0   0   0   0   0   0]\n",
            " [  0   0   0   0   0   0   0   0   0   0   0   0   0   0   0   0   0   0   0   0   0   0   0   0   0   0   0   0]\n",
            " [  0   0   0   0   0   0   0   0   0   0   0   0   0   0   0   0   0   0   0   0   0   0   0   0   0   0   0   0]\n",
            " [  0   0   0   0   0   0   0   0   0   0   0   0   0   0   0   0   0   0   0   0   0   0   0   0   0   0   0   0]\n",
            " [  0   0   0   0   0   0   0   0   0   0   0   0   0   0   0   0   0   0   0   0   0   0   0   0   0   0   0   0]]\n"
          ]
        },
        {
          "output_type": "execute_result",
          "data": {
            "text/plain": [
              "<matplotlib.image.AxesImage at 0x7f10857d0c90>"
            ]
          },
          "metadata": {},
          "execution_count": 82
        },
        {
          "output_type": "display_data",
          "data": {
            "image/png": "[encoded data removed]",
            "text/plain": [
              "<Figure size 432x288 with 1 Axes>"
            ]
          },
          "metadata": {
            "needs_background": "light"
          }
        }
      ]
    },
    {
      "cell_type": "code",
      "metadata": {
        "colab": {
          "base_uri": "https://localhost:8080/",
          "height": 841
        },
        "id": "pOTpGEGycQCN",
        "outputId": "0d18c708-331b-4f4e-b112-17ba81dc4c37"
      },
      "source": [
        "image_grey = cv2.imread(\"two.png\", cv2.IMREAD_GRAYSCALE)\n",
        "\n",
        "img_vector = np.array(image_grey) \n",
        "print(\"Image Size(px) :\" , img_vector.shape)                #size\n",
        "print('\\n')\n",
        "\n",
        "np.set_printoptions(linewidth=np.nan)\n",
        "print(img_vector)\n",
        "\n",
        "plt.imshow(img_vector, cmap=\"Greys\")"
      ],
      "execution_count": 81,
      "outputs": [
        {
          "output_type": "stream",
          "name": "stdout",
          "text": [
            "Image Size(px) : (28, 28)\n",
            "\n",
            "\n",
            "[[  0   0   0   0   0   0   0   0   0   0   0   0   0   0   0   0   0   0   0   0   0   0   0   0   0   0   0   0]\n",
            " [  0   0   0   0   0   0   0   0   0   0   0   0   0   0   0   0   0   0   0   0   0   0   0   0   0   0   0   0]\n",
            " [  0   0   0   0   0   0   0   0   0   0  96 223 255 255 255 255 223  96   0   0   0   0   0   0   0   0   0   0]\n",
            " [  0   0   0   0   0   0   0   0  72 223 255 255 255 255 255 255 255 247  96   0   0   0   0   0   0   0   0   0]\n",
            " [  0   0   0   0   0   0   0  96 239 255 255 255 255 255 255 255 255 255 247   0   0   0   0   0   0   0   0   0]\n",
            " [  0   0   0   0   0  72 223 255 255 255 255 167   8   0   0 120 255 255 255   0   0   0   0   0   0   0   0   0]\n",
            " [  0   0   0   0  72 239 255 255 255 255 151   0   0   0   0  72 255 255 255   0   0   0   0   0   0   0   0   0]\n",
            " [  0   0   0   0 231 255 255 255 167   8   0   0   0   0   0 231 255 255 255   0   0   0   0   0   0   0   0   0]\n",
            " [  0   0   0   0 247 255 255 151   0   0   0   0   0   0   0 255 255 255 151   0   0   0   0   0   0   0   0   0]\n",
            " [  0   0   0   0 120 255 255   0   0   0   0   0   0   0  72 255 255 255   0   0   0   0   0   0   0   0   0   0]\n",
            " [  0   0   0   0   0   0   0   0   0   0   0   0   0  72 239 255 255 255   0   0   0   0   0   0   0   0   0   0]\n",
            " [  0   0   0   0   0   0   0   0   0   0   0   0  72 239 255 255 255 151   0   0   0   0   0   0   0   0   0   0]\n",
            " [  0   0   0   0   0   0   0   0   0   0   0   0 231 255 255 255 151   0   0   0   0   0   0   0   0   0   0   0]\n",
            " [  0   0   0   0   0   0   0   0   0   0   0 128 255 255 255 151   0   0   0   0   0   0   0   0   0   0   0   0]\n",
            " [  0   0   0   0   0   0   0   0   0   0 104 255 255 255 167   0   0   0   0   0   0   0   0   0   0   0   0   0]\n",
            " [  0   0   0   0   0   0   0   0   0  96 239 255 255 183   8   0   0   0   0   0   0   0   0   0   0   0   0   0]\n",
            " [  0   0   0   0   0   0   0   0 128 255 255 255 255   8  72 223 255 255 255 255 255 255 223  96   0   0   0   0]\n",
            " [  0   0   0   0   0   0  72 223 255 255 255 255 255 255 255 255 255 255 255 255 255 255 255 255 223  96   0   0]\n",
            " [  0   0   0   0   0  72 239 255 255 255 255 255 255 255 255 255 255 255 255 255 255 255 255 255 255 247   0   0]\n",
            " [  0   0   0   0   0 231 255 255 255 255 255 255 255 255 255 255 151   0   0   0   0 120 255 255 255 151   0   0]\n",
            " [  0   0   0   0   0 247 255 255 255 255 255 151   0   0   0   0   0   0   0   0   0   0   0   0   0   0   0   0]\n",
            " [  0   0   0   0   0 120 255 255 167   8   0   0   0   0   0   0   0   0   0   0   0   0   0   0   0   0   0   0]\n",
            " [  0   0   0   0   0   0   0   0   0   0   0   0   0   0   0   0   0   0   0   0   0   0   0   0   0   0   0   0]\n",
            " [  0   0   0   0   0   0   0   0   0   0   0   0   0   0   0   0   0   0   0   0   0   0   0   0   0   0   0   0]\n",
            " [  0   0   0   0   0   0   0   0   0   0   0   0   0   0   0   0   0   0   0   0   0   0   0   0   0   0   0   0]\n",
            " [  0   0   0   0   0   0   0   0   0   0   0   0   0   0   0   0   0   0   0   0   0   0   0   0   0   0   0   0]\n",
            " [  0   0   0   0   0   0   0   0   0   0   0   0   0   0   0   0   0   0   0   0   0   0   0   0   0   0   0   0]\n",
            " [  0   0   0   0   0   0   0   0   0   0   0   0   0   0   0   0   0   0   0   0   0   0   0   0   0   0   0   0]]\n"
          ]
        },
        {
          "output_type": "execute_result",
          "data": {
            "text/plain": [
              "<matplotlib.image.AxesImage at 0x7f108586b6d0>"
            ]
          },
          "metadata": {},
          "execution_count": 81
        },
        {
          "output_type": "display_data",
          "data": {
            "image/png": "[encoded data removed]",
            "text/plain": [
              "<Figure size 432x288 with 1 Axes>"
            ]
          },
          "metadata": {
            "needs_background": "light"
          }
        }
      ]
    },
    {
      "cell_type": "code",
      "metadata": {
        "colab": {
          "base_uri": "https://localhost:8080/",
          "height": 841
        },
        "id": "cIj8myH5eO10",
        "outputId": "7ccadf3c-92d5-4310-e358-e71eecc2853d"
      },
      "source": [
        "image_grey = cv2.imread(\"three.png\", cv2.IMREAD_GRAYSCALE)\n",
        "\n",
        "img_vector = np.array(image_grey) \n",
        "print(\"Image Size(px) :\" , img_vector.shape)                #size\n",
        "print('\\n')\n",
        "\n",
        "np.set_printoptions(linewidth=np.nan)\n",
        "print(img_vector)\n",
        "\n",
        "plt.imshow(img_vector, cmap=\"Greys\")"
      ],
      "execution_count": 80,
      "outputs": [
        {
          "output_type": "stream",
          "name": "stdout",
          "text": [
            "Image Size(px) : (28, 28)\n",
            "\n",
            "\n",
            "[[  0   0   0   0   0   0   0   0   0   0   0   0   0   0   0   0   0   0   0   0   0   0   0   0   0   0   0   0]\n",
            " [  0   0   0   0   0   0   0   0   0   0   0   0   0   0   0   0   0   0   0   0   0   0   0   0   0   0   0   0]\n",
            " [  0   0   0   0   0   0   0   0   0   0   0   0  72 223 255 255 223  96   0   0   0   0   0   0   0   0   0   0]\n",
            " [  0   0   0   0   0   0   0   0   0  72 223 255 255 255 255 255 255 247  96   0   0   0   0   0   0   0   0   0]\n",
            " [  0   0   0   0   0   0   0   0  72 239 255 255 255 255 255 255 255 255 247  96   0   0   0   0   0   0   0   0]\n",
            " [  0   0   0   0   0   0   0  72 239 255 255 255 255 255 151 120 255 255 255 247   0   0   0   0   0   0   0   0]\n",
            " [  0   0   0   0   0   0   0 231 255 255 255 151   0   0   0   0 120 255 255 255   0   0   0   0   0   0   0   0]\n",
            " [  0   0   0   0   0   0   0 247 255 255 151   0   0   0   0   0  72 255 255 255   0   0   0   0   0   0   0   0]\n",
            " [  0   0   0   0   0   0   0 120 255 151   0   0   0   0   0   0 231 255 255 255   0   0   0   0   0   0   0   0]\n",
            " [  0   0   0   0   0   0   0   0   0   0   0   0   0   0  72 223 255 255 255 151   0   0   0   0   0   0   0   0]\n",
            " [  0   0   0   0   0   0   0   0   0   0   0  72 223 255 255 255 255 255 167   0   0   0   0   0   0   0   0   0]\n",
            " [  0   0   0   0   0   0   0   0   0   0   0 223 255 255 255 255 255 255 104   0   0   0   0   0   0   0   0   0]\n",
            " [  0   0   0   0   0   0   0   0   0   0   0 120 255 255 255 255 255 255 247  96   0   0   0   0   0   0   0   0]\n",
            " [  0   0   0   0   0   0   0   0   0   0   0   0   0   0   0 120 255 255 255 247   0   0   0   0   0   0   0   0]\n",
            " [  0   0   0   0   0   0   0   0   0   0   0   0   0   0   0   0 120 255 255 255  96   0   0   0   0   0   0   0]\n",
            " [  0   0   0   0   0   0   0   0   0   0   0   0   0   0   0   0   0 247 255 255 247   0   0   0   0   0   0   0]\n",
            " [  0   0   0   0   0   0   0   0   0   0   0   0   0   0   0   0   0 120 255 255 255   0   0   0   0   0   0   0]\n",
            " [  0   0   0   0   0   0   0   0   0   0   0   0   0   0   0   0   0   0 255 255 255   0   0   0   0   0   0   0]\n",
            " [  0   0   0   0   0   0   0   0   0   0   0   0   0   0   0   0   0  72 255 255 255   0   0   0   0   0   0   0]\n",
            " [  0   0   0   0   0   0   0  72 223 223  96   0   0   0   0   0   0 231 255 255 255   0   0   0   0   0   0   0]\n",
            " [  0   0   0   0   0   0   0 223 255 255 255 223  96   0   0   0 128 255 255 255 151   0   0   0   0   0   0   0]\n",
            " [  0   0   0   0   0   0   0 120 255 255 255 255 247 135 223 255 255 255 255 167   0   0   0   0   0   0   0   0]\n",
            " [  0   0   0   0   0   0   0   0 120 255 255 255 255 255 255 255 255 255 183   8   0   0   0   0   0   0   0   0]\n",
            " [  0   0   0   0   0   0   0   0   0   0 120 255 255 255 255 255 255 167   8   0   0   0   0   0   0   0   0   0]\n",
            " [  0   0   0   0   0   0   0   0   0   0   0   8 159 255 255 151   0   0   0   0   0   0   0   0   0   0   0   0]\n",
            " [  0   0   0   0   0   0   0   0   0   0   0   0   0   0   0   0   0   0   0   0   0   0   0   0   0   0   0   0]\n",
            " [  0   0   0   0   0   0   0   0   0   0   0   0   0   0   0   0   0   0   0   0   0   0   0   0   0   0   0   0]\n",
            " [  0   0   0   0   0   0   0   0   0   0   0   0   0   0   0   0   0   0   0   0   0   0   0   0   0   0   0   0]]\n"
          ]
        },
        {
          "output_type": "execute_result",
          "data": {
            "text/plain": [
              "<matplotlib.image.AxesImage at 0x7f10858870d0>"
            ]
          },
          "metadata": {},
          "execution_count": 80
        },
        {
          "output_type": "display_data",
          "data": {
            "image/png": "[encoded data removed]",
            "text/plain": [
              "<Figure size 432x288 with 1 Axes>"
            ]
          },
          "metadata": {
            "needs_background": "light"
          }
        }
      ]
    },
    {
      "cell_type": "code",
      "metadata": {
        "colab": {
          "base_uri": "https://localhost:8080/",
          "height": 841
        },
        "id": "VQWrcGPceXZT",
        "outputId": "3feff412-9223-483b-d851-cefc6241c349"
      },
      "source": [
        "image_grey = cv2.imread(\"four.png\", cv2.IMREAD_GRAYSCALE)\n",
        "\n",
        "img_vector = np.array(image_grey) \n",
        "print(\"Image Size(px) :\" , img_vector.shape)                #size\n",
        "print('\\n')\n",
        "\n",
        "np.set_printoptions(linewidth=np.nan)\n",
        "print(img_vector)\n",
        "\n",
        "plt.imshow(img_vector, cmap=\"Greys\")"
      ],
      "execution_count": 79,
      "outputs": [
        {
          "output_type": "stream",
          "name": "stdout",
          "text": [
            "Image Size(px) : (28, 28)\n",
            "\n",
            "\n",
            "[[  0   0   0   0   0   0   0   0   0   0   0   0   0   0   0   0   0   0   0   0   0   0   0   0   0   0   0   0]\n",
            " [  0   0   0   0   0   0   0   0   0   0   0   0   0   0   0   0   0   0   0   0   0   0   0   0   0   0   0   0]\n",
            " [  0   0   0   0   0   0   0   0   0   0   0   0   0   0   0   0   0   0   0   0   0   0   0   0   0   0   0   0]\n",
            " [  0   0   0   0   0   0   0   0   0   0   0   0   0   0   0   0   0   0   0   0   0   0   0   0   0   0   0   0]\n",
            " [  0   0   0   0   0   0   0   0   0  72 223 223  96   0  72 191  96   0   0   0   0   0   0   0   0   0   0   0]\n",
            " [  0   0   0   0   0   0   0   0   0 231 255 255 247   0 231 255 247   0   0   0   0   0   0   0   0   0   0   0]\n",
            " [  0   0   0   0   0   0   0   0  72 255 255 255 151   0 255 255 255   0   0   0   0   0   0   0   0   0   0   0]\n",
            " [  0   0   0   0   0   0   0   0 231 255 255 255   0   0 255 255 255   0   0   0   0   0   0   0   0   0   0   0]\n",
            " [  0   0   0   0   0   0   0  72 255 255 255 151   0   0 255 255 255   0   0   0   0   0   0   0   0   0   0   0]\n",
            " [  0   0   0   0   0   0   0 231 255 255 255   0   0   0 255 255 255   0   0   0   0   0   0   0   0   0   0   0]\n",
            " [  0   0   0   0   0   0  72 255 255 255 151   0   0   0 255 255 255   0   0   0   0   0   0   0   0   0   0   0]\n",
            " [  0   0   0   0   0  72 239 255 255 255   0   0   0   0 255 255 255 255 255 255 223  96   0   0   0   0   0   0]\n",
            " [  0   0   0   0   0 231 255 255 255 151  96 223 255 255 255 255 255 255 255 255 255 247   0   0   0   0   0   0]\n",
            " [  0   0   0   0 104 255 255 255 255 255 255 255 255 255 255 255 255 255 255 255 255 151   0   0   0   0   0   0]\n",
            " [  0   0   0   0 231 255 255 255 255 255 255 255 255 255 255 255  16   0   0   0   0   0   0   0   0   0   0   0]\n",
            " [  0   0   0   0 247 255 255 255 255 255 255 167   8 255 255 255   0   0   0   0   0   0   0   0   0   0   0   0]\n",
            " [  0   0   0   0 120 255 255 167   8   0   0   0   0 255 255 255   0   0   0   0   0   0   0   0   0   0   0   0]\n",
            " [  0   0   0   0   0   0   0   0   0   0   0   0   0 255 255 255   0   0   0   0   0   0   0   0   0   0   0   0]\n",
            " [  0   0   0   0   0   0   0   0   0   0   0   0   0 255 255 255   0   0   0   0   0   0   0   0   0   0   0   0]\n",
            " [  0   0   0   0   0   0   0   0   0   0   0   0   0 255 255 255   0   0   0   0   0   0   0   0   0   0   0   0]\n",
            " [  0   0   0   0   0   0   0   0   0   0   0   0   0 255 255 255   0   0   0   0   0   0   0   0   0   0   0   0]\n",
            " [  0   0   0   0   0   0   0   0   0   0   0   0   0 255 255 255   0   0   0   0   0   0   0   0   0   0   0   0]\n",
            " [  0   0   0   0   0   0   0   0   0   0   0   0   0 255 255 255   0   0   0   0   0   0   0   0   0   0   0   0]\n",
            " [  0   0   0   0   0   0   0   0   0   0   0   0   0 255 255 255   0   0   0   0   0   0   0   0   0   0   0   0]\n",
            " [  0   0   0   0   0   0   0   0   0   0   0   0   0 247 255 255   0   0   0   0   0   0   0   0   0   0   0   0]\n",
            " [  0   0   0   0   0   0   0   0   0   0   0   0   0 120 255 151   0   0   0   0   0   0   0   0   0   0   0   0]\n",
            " [  0   0   0   0   0   0   0   0   0   0   0   0   0   0   0   0   0   0   0   0   0   0   0   0   0   0   0   0]\n",
            " [  0   0   0   0   0   0   0   0   0   0   0   0   0   0   0   0   0   0   0   0   0   0   0   0   0   0   0   0]]\n"
          ]
        },
        {
          "output_type": "execute_result",
          "data": {
            "text/plain": [
              "<matplotlib.image.AxesImage at 0x7f1085915ad0>"
            ]
          },
          "metadata": {},
          "execution_count": 79
        },
        {
          "output_type": "display_data",
          "data": {
            "image/png": "[encoded data removed]",
            "text/plain": [
              "<Figure size 432x288 with 1 Axes>"
            ]
          },
          "metadata": {
            "needs_background": "light"
          }
        }
      ]
    },
    {
      "cell_type": "code",
      "metadata": {
        "colab": {
          "base_uri": "https://localhost:8080/",
          "height": 841
        },
        "id": "X-kP7NgbeamI",
        "outputId": "e3ea7291-e760-4f55-baa7-80f106029a14"
      },
      "source": [
        "image_grey = cv2.imread(\"five.png\", cv2.IMREAD_GRAYSCALE)\n",
        "\n",
        "img_vector = np.array(image_grey) \n",
        "print(\"Image Size(px) :\" , img_vector.shape)                #size\n",
        "print('\\n')\n",
        "\n",
        "np.set_printoptions(linewidth=np.nan)\n",
        "print(img_vector)\n",
        "\n",
        "plt.imshow(img_vector, cmap=\"Greys\")"
      ],
      "execution_count": 78,
      "outputs": [
        {
          "output_type": "stream",
          "name": "stdout",
          "text": [
            "Image Size(px) : (28, 28)\n",
            "\n",
            "\n",
            "[[  0   0   0   0   0   0   0   0   0   0   0   0   0   0   0   0   0   0   0   0   0   0   0   0   0   0   0   0]\n",
            " [  0   0   0   0   0   0   0   0   0   0   0   0   0   0   0   0   0   0   0   0   0   0   0   0   0   0   0   0]\n",
            " [  0   0   0   0   0   0   0   0   0   0   0   0   0   0   0   0   0   0   0   0   0   0   0   0   0   0   0   0]\n",
            " [  0   0   0   0   0   0   0  72 223 255 255 255 255 255 255 255 255 223  96   0   0   0   0   0   0   0   0   0]\n",
            " [  0   0   0   0   0   0  72 247 255 255 255 255 255 255 255 255 255 255 247   0   0   0   0   0   0   0   0   0]\n",
            " [  0   0   0   0   0   0 231 255 255 255 255 255 255 255 255 255 255 255 151   0   0   0   0   0   0   0   0   0]\n",
            " [  0   0   0   0   0   0 255 255 255   0   0   0   0   0   0   0   0   0   0   0   0   0   0   0   0   0   0   0]\n",
            " [  0   0   0   0   0   0 255 255 255   0   0   0   0   0   0   0   0   0   0   0   0   0   0   0   0   0   0   0]\n",
            " [  0   0   0   0   0   0 255 255 255   0   0   0   0   0   0   0   0   0   0   0   0   0   0   0   0   0   0   0]\n",
            " [  0   0   0   0   0   0 255 255 255   0   0   0   0   0   0   0   0   0   0   0   0   0   0   0   0   0   0   0]\n",
            " [  0   0   0   0   0   0 255 255 255   0   0   0   0   0   0   0   0   0   0   0   0   0   0   0   0   0   0   0]\n",
            " [  0   0   0   0   0 104 255 255 255 223 255 255 255 255 223  96   0   0   0   0   0   0   0   0   0   0   0   0]\n",
            " [  0   0   0   0   0 231 255 255 255 255 255 255 255 255 255 247  96   0   0   0   0   0   0   0   0   0   0   0]\n",
            " [  0   0   0   0   0 255 255 255 255 255 255 255 255 255 255 255 247   0   0   0   0   0   0   0   0   0   0   0]\n",
            " [  0   0   0   0   0 255 255 255 255 255 151   0   0 120 255 255 255   0   0   0   0   0   0   0   0   0   0   0]\n",
            " [  0   0   0   0   0 247 255 255 151   0   0   0   0   0 255 255 255   0   0   0   0   0   0   0   0   0   0   0]\n",
            " [  0   0   0   0   0 120 255 151   0   0   0   0   0   0 255 255 255   0   0   0   0   0   0   0   0   0   0   0]\n",
            " [  0   0   0   0   0   0   0   0   0   0   0   0   0  72 255 255 255   0   0   0   0   0   0   0   0   0   0   0]\n",
            " [  0   0   0   0   0   0   0   0   0   0   0   0   0 231 255 255 255   0   0   0   0   0   0   0   0   0   0   0]\n",
            " [  0   0   0   0   0   0   0   0   0   0   0  72 223 255 255 255 151   0   0   0   0   0   0   0   0   0   0   0]\n",
            " [  0   0   0   0   0   0   0   0   0   0  72 239 255 255 255 167   0   0   0   0   0   0   0   0   0   0   0   0]\n",
            " [  0   0   0   0   0   0   0  72 223 255 255 255 255 255 167   8   0   0   0   0   0   0   0   0   0   0   0   0]\n",
            " [  0   0   0   0   0   0   0 223 255 255 255 255 255 151   0   0   0   0   0   0   0   0   0   0   0   0   0   0]\n",
            " [  0   0   0   0   0   0   0 120 255 255 255 255 151   0   0   0   0   0   0   0   0   0   0   0   0   0   0   0]\n",
            " [  0   0   0   0   0   0   0   0   0   0   0   0   0   0   0   0   0   0   0   0   0   0   0   0   0   0   0   0]\n",
            " [  0   0   0   0   0   0   0   0   0   0   0   0   0   0   0   0   0   0   0   0   0   0   0   0   0   0   0   0]\n",
            " [  0   0   0   0   0   0   0   0   0   0   0   0   0   0   0   0   0   0   0   0   0   0   0   0   0   0   0   0]\n",
            " [  0   0   0   0   0   0   0   0   0   0   0   0   0   0   0   0   0   0   0   0   0   0   0   0   0   0   0   0]]\n"
          ]
        },
        {
          "output_type": "execute_result",
          "data": {
            "text/plain": [
              "<matplotlib.image.AxesImage at 0x7f10859b54d0>"
            ]
          },
          "metadata": {},
          "execution_count": 78
        },
        {
          "output_type": "display_data",
          "data": {
            "image/png": "[encoded data removed]",
            "text/plain": [
              "<Figure size 432x288 with 1 Axes>"
            ]
          },
          "metadata": {
            "needs_background": "light"
          }
        }
      ]
    },
    {
      "cell_type": "code",
      "metadata": {
        "colab": {
          "base_uri": "https://localhost:8080/",
          "height": 841
        },
        "id": "jl_nhow6ec3O",
        "outputId": "e2c5d04c-e39f-47aa-d766-20030dd9817b"
      },
      "source": [
        "image_grey = cv2.imread(\"six.png\", cv2.IMREAD_GRAYSCALE)\n",
        "\n",
        "img_vector = np.array(image_grey) \n",
        "print(\"Image Size(px) :\" , img_vector.shape)                #size\n",
        "print('\\n')\n",
        "\n",
        "np.set_printoptions(linewidth=np.nan)\n",
        "print(img_vector)\n",
        "\n",
        "plt.imshow(img_vector, cmap=\"Greys\")"
      ],
      "execution_count": 77,
      "outputs": [
        {
          "output_type": "stream",
          "name": "stdout",
          "text": [
            "Image Size(px) : (28, 28)\n",
            "\n",
            "\n",
            "[[  0   0   0   0   0   0   0   0   0   0   0   0   0   0   0   0   0   0   0   0   0   0   0   0   0   0   0   0]\n",
            " [  0   0   0   0   0   0   0   0   0   0   0   0   0   0   0   0   0   0   0   0   0   0   0   0   0   0   0   0]\n",
            " [  0   0   0   0   0   0   0   0   0   0   0   0   0   0   0   0   0   0   0   0   0   0   0   0   0   0   0   0]\n",
            " [  0   0   0   0   0   0   0   0   0   0   0   0   0  72 191  96   0   0   0   0   0   0   0   0   0   0   0   0]\n",
            " [  0   0   0   0   0   0   0   0   0   0   0   0  72 239 255 247   0   0   0   0   0   0   0   0   0   0   0   0]\n",
            " [  0   0   0   0   0   0   0   0   0   0   0  72 239 255 255 255   0   0   0   0   0   0   0   0   0   0   0   0]\n",
            " [  0   0   0   0   0   0   0   0   0   0   0 231 255 255 255 151   0   0   0   0   0   0   0   0   0   0   0   0]\n",
            " [  0   0   0   0   0   0   0   0   0   0 104 255 255 255 151   0   0   0   0   0   0   0   0   0   0   0   0   0]\n",
            " [  0   0   0   0   0   0   0   0   0  72 239 255 255 167   0   0   0   0   0   0   0   0   0   0   0   0   0   0]\n",
            " [  0   0   0   0   0   0   0   0   0 231 255 255 255   8   0   0   0   0   0   0   0   0   0   0   0   0   0   0]\n",
            " [  0   0   0   0   0   0   0   0 104 255 255 255 151   0   0   0   0   0   0   0   0   0   0   0   0   0   0   0]\n",
            " [  0   0   0   0   0   0   0  72 239 255 255 191   0   0   0   0   0   0   0   0   0   0   0   0   0   0   0   0]\n",
            " [  0   0   0   0   0   0   0 231 255 255 255 255 223  96   0   0   0   0   0   0   0   0   0   0   0   0   0   0]\n",
            " [  0   0   0   0   0   0   0 255 255 255 255 255 255 247  96   0   0   0   0   0   0   0   0   0   0   0   0   0]\n",
            " [  0   0   0   0   0   0   0 255 255 255 255 255 255 255 247   0   0   0   0   0   0   0   0   0   0   0   0   0]\n",
            " [  0   0   0   0   0   0  88 255 255 255   0 120 255 255 255  96   0   0   0   0   0   0   0   0   0   0   0   0]\n",
            " [  0   0   0   0   0   0 223 255 255 255   0   0 247 255 255 247   0   0   0   0   0   0   0   0   0   0   0   0]\n",
            " [  0   0   0   0   0   0 143 255 255 247   0   0 120 255 255 255   0   0   0   0   0   0   0   0   0   0   0   0]\n",
            " [  0   0   0   0   0   0   8 255 255 255   0   0  72 255 255 255   0   0   0   0   0   0   0   0   0   0   0   0]\n",
            " [  0   0   0   0   0   0   0 255 255 255  96   0 231 255 255 255   0   0   0   0   0   0   0   0   0   0   0   0]\n",
            " [  0   0   0   0   0   0   0 247 255 255 255 255 255 255 255 151   0   0   0   0   0   0   0   0   0   0   0   0]\n",
            " [  0   0   0   0   0   0   0 120 255 255 255 255 255 255 255   0   0   0   0   0   0   0   0   0   0   0   0   0]\n",
            " [  0   0   0   0   0   0   0   0 120 255 255 255 255 255 151   0   0   0   0   0   0   0   0   0   0   0   0   0]\n",
            " [  0   0   0   0   0   0   0   0   0   0   0   0   0   0   0   0   0   0   0   0   0   0   0   0   0   0   0   0]\n",
            " [  0   0   0   0   0   0   0   0   0   0   0   0   0   0   0   0   0   0   0   0   0   0   0   0   0   0   0   0]\n",
            " [  0   0   0   0   0   0   0   0   0   0   0   0   0   0   0   0   0   0   0   0   0   0   0   0   0   0   0   0]\n",
            " [  0   0   0   0   0   0   0   0   0   0   0   0   0   0   0   0   0   0   0   0   0   0   0   0   0   0   0   0]\n",
            " [  0   0   0   0   0   0   0   0   0   0   0   0   0   0   0   0   0   0   0   0   0   0   0   0   0   0   0   0]]\n"
          ]
        },
        {
          "output_type": "execute_result",
          "data": {
            "text/plain": [
              "<matplotlib.image.AxesImage at 0x7f10859c1e50>"
            ]
          },
          "metadata": {},
          "execution_count": 77
        },
        {
          "output_type": "display_data",
          "data": {
            "image/png": "[encoded data removed]",
            "text/plain": [
              "<Figure size 432x288 with 1 Axes>"
            ]
          },
          "metadata": {
            "needs_background": "light"
          }
        }
      ]
    },
    {
      "cell_type": "code",
      "metadata": {
        "colab": {
          "base_uri": "https://localhost:8080/",
          "height": 841
        },
        "id": "FIYpQXoiefd7",
        "outputId": "4c35390b-3b59-43f9-a39b-ec7d962febbc"
      },
      "source": [
        "image_grey = cv2.imread(\"seven.png\", cv2.IMREAD_GRAYSCALE)\n",
        "\n",
        "img_vector = np.array(image_grey) \n",
        "print(\"Image Size(px) :\" , img_vector.shape)                #size\n",
        "print('\\n')\n",
        "\n",
        "np.set_printoptions(linewidth=np.nan)\n",
        "print(img_vector)\n",
        "\n",
        "plt.imshow(img_vector, cmap=\"Greys\")"
      ],
      "execution_count": 75,
      "outputs": [
        {
          "output_type": "stream",
          "name": "stdout",
          "text": [
            "Image Size(px) : (28, 28)\n",
            "\n",
            "\n",
            "[[  0   0   0   0   0   0   0   0   0   0   0   0   0   0   0   0   0   0   0   0   0   0   0   0   0   0   0   0]\n",
            " [  0   0   0   0   0   0   0   0   0   0   0   0   0   0   0   0   0   0   0   0   0   0   0   0   0   0   0   0]\n",
            " [  0   0   0   0   0   0   0   0   0   0   0   0   0   0   0   0   0   0   0   0   0   0   0   0   0   0   0   0]\n",
            " [  0   0   0   0   0   0   0   0   0   0   0   0   0   0   0   0   0   0   0   0   0   0   0   0   0   0   0   0]\n",
            " [  0   0   0   0   0   0   0   0   0  72 223 255 255 255 255 255 255 255 255 255 223  96   0   0   0   0   0   0]\n",
            " [  0   0   0   0   0   0  72 223 255 255 255 255 255 255 255 255 255 255 255 255 255 247   0   0   0   0   0   0]\n",
            " [  0   0   0   0   0   0 223 255 255 255 255 255 255 255 255 255 255 255 255 255 255 151   0   0   0   0   0   0]\n",
            " [  0   0   0   0   0   0 120 255 255 255 255 151   0   0   0   0 104 255 255 255 151   0   0   0   0   0   0   0]\n",
            " [  0   0   0   0   0   0   0   0   0   0   0   0   0   0   0  72 239 255 255 167   0   0   0   0   0   0   0   0]\n",
            " [  0   0   0   0   0   0   0   0   0   0   0   0   0   0   0 231 255 255 255   8   0   0   0   0   0   0   0   0]\n",
            " [  0   0   0   0   0   0   0   0   0   0   0   0   0   0   0 255 255 255 151   0   0   0   0   0   0   0   0   0]\n",
            " [  0   0   0   0   0   0   0   0   0   0   0   0   0   0  72 255 255 255   0   0   0   0   0   0   0   0   0   0]\n",
            " [  0   0   0   0   0   0   0   0   0   0   0   0   0   0 231 255 255 255   0   0   0   0   0   0   0   0   0   0]\n",
            " [  0   0   0   0   0   0   0   0   0   0   0   0   0   0 255 255 255 151   0   0   0   0   0   0   0   0   0   0]\n",
            " [  0   0   0   0   0   0   0   0   0   0   0   0   0   0 255 255 255   0   0   0   0   0   0   0   0   0   0   0]\n",
            " [  0   0   0   0   0   0   0   0   0   0   0   0   0   0 255 255 255   0   0   0   0   0   0   0   0   0   0   0]\n",
            " [  0   0   0   0   0   0   0   0   0   0   0   0   0   0 255 255 255   0   0   0   0   0   0   0   0   0   0   0]\n",
            " [  0   0   0   0   0   0   0   0   0   0   0   0   0   0 255 255 255   0   0   0   0   0   0   0   0   0   0   0]\n",
            " [  0   0   0   0   0   0   0   0   0   0   0   0   0   0 255 255 255  96   0   0   0   0   0   0   0   0   0   0]\n",
            " [  0   0   0   0   0   0   0   0   0   0   0   0   0   0 247 255 255 247   0   0   0   0   0   0   0   0   0   0]\n",
            " [  0   0   0   0   0   0   0   0   0   0   0   0   0   0 120 255 255 255   0   0   0   0   0   0   0   0   0   0]\n",
            " [  0   0   0   0   0   0   0   0   0   0   0   0   0   0   0 255 255 255   0   0   0   0   0   0   0   0   0   0]\n",
            " [  0   0   0   0   0   0   0   0   0   0   0   0   0   0   0 247 255 255   0   0   0   0   0   0   0   0   0   0]\n",
            " [  0   0   0   0   0   0   0   0   0   0   0   0   0   0   0 120 255 151   0   0   0   0   0   0   0   0   0   0]\n",
            " [  0   0   0   0   0   0   0   0   0   0   0   0   0   0   0   0   0   0   0   0   0   0   0   0   0   0   0   0]\n",
            " [  0   0   0   0   0   0   0   0   0   0   0   0   0   0   0   0   0   0   0   0   0   0   0   0   0   0   0   0]\n",
            " [  0   0   0   0   0   0   0   0   0   0   0   0   0   0   0   0   0   0   0   0   0   0   0   0   0   0   0   0]\n",
            " [  0   0   0   0   0   0   0   0   0   0   0   0   0   0   0   0   0   0   0   0   0   0   0   0   0   0   0   0]]\n"
          ]
        },
        {
          "output_type": "execute_result",
          "data": {
            "text/plain": [
              "<matplotlib.image.AxesImage at 0x7f1085afc290>"
            ]
          },
          "metadata": {},
          "execution_count": 75
        },
        {
          "output_type": "display_data",
          "data": {
            "image/png": "[encoded data removed]",
            "text/plain": [
              "<Figure size 432x288 with 1 Axes>"
            ]
          },
          "metadata": {
            "needs_background": "light"
          }
        }
      ]
    },
    {
      "cell_type": "code",
      "metadata": {
        "colab": {
          "base_uri": "https://localhost:8080/",
          "height": 841
        },
        "id": "mGpU-Oc2ehSY",
        "outputId": "2942ead1-a1da-4b0c-8210-0db44ee849ba"
      },
      "source": [
        "image_grey = cv2.imread(\"eight.png\", cv2.IMREAD_GRAYSCALE)\n",
        "\n",
        "img_vector = np.array(image_grey) \n",
        "print(\"Image Size(px) :\" , img_vector.shape)                #size\n",
        "print('\\n')\n",
        "\n",
        "np.set_printoptions(linewidth=np.nan)\n",
        "print(img_vector)\n",
        "\n",
        "plt.imshow(img_vector, cmap=\"Greys\")"
      ],
      "execution_count": 74,
      "outputs": [
        {
          "output_type": "stream",
          "name": "stdout",
          "text": [
            "Image Size(px) : (28, 28)\n",
            "\n",
            "\n",
            "[[  0   0   0   0   0   0   0   0   0   0   0   0   0   0   0   0   0   0   0   0   0   0   0   0   0   0   0   0]\n",
            " [  0   0   0   0   0   0   0   0   0   0   0   0   0   0   0   0   0   0   0   0   0   0   0   0   0   0   0   0]\n",
            " [  0   0   0   0   0   0   0   0   0   0   0   0   0   0   0   0   0   0   0   0   0   0   0   0   0   0   0   0]\n",
            " [  0   0   0   0   0   0   0   0   0  96 223 255 255 223  96   0   0   0   0   0   0   0   0   0   0   0   0   0]\n",
            " [  0   0   0   0   0   0   0  72 223 255 255 255 255 255 247 104   0   0   0   0   0   0   0   0   0   0   0   0]\n",
            " [  0   0   0   0   0   0   0 231 255 255 255 255 255 255 255 255 128   0   0   0   0   0   0   0   0   0   0   0]\n",
            " [  0   0   0   0   0   0   0 255 255 255 167   8 120 255 255 255 255 120   0   0   0   0   0   0   0   0   0   0]\n",
            " [  0   0   0   0   0   0   0 255 255 255   0   0   0   8 199 255 255 247   0   0   0   0   0   0   0   0   0   0]\n",
            " [  0   0   0   0   0   0  87 255 255 255   0   0   0   0 231 255 255 255   0   0   0   0   0   0   0   0   0   0]\n",
            " [  0   0   0   0   0   0 122 255 255 255   0   0   0  72 255 255 255 151   0   0   0   0   0   0   0   0   0   0]\n",
            " [  0   0   0   0   0   0   0 255 255 255 223 135 223 255 255 255 255   0   0   0   0   0   0   0   0   0   0   0]\n",
            " [  0   0   0   0   0   0   0 247 255 255 255 255 255 255 255 255 151   0   0   0   0   0   0   0   0   0   0   0]\n",
            " [  0   0   0   0   0   0   0 120 255 255 255 255 255 255 255 229  96   0   0   0   0   0   0   0   0   0   0   0]\n",
            " [  0   0   0   0   0   0   0   0  72 221 255 255 255 151 231 255 247   0   0   0   0   0   0   0   0   0   0   0]\n",
            " [  0   0   0   0   0   0   0  72 239 255 247   0   0   0 247 255 255 120   0   0   0   0   0   0   0   0   0   0]\n",
            " [  0   0   0   0   0   0   0 231 255 255 255   0   0   0 143 255 255 247  96   0   0   0   0   0   0   0   0   0]\n",
            " [  0   0   0   0   0   0   0 255 255 255 191   0   0   0   8 247 255 255 247   0   0   0   0   0   0   0   0   0]\n",
            " [  0   0   0   0   0   0   0 247 255 255 247   0   0   0   0 120 255 255 255   0   0   0   0   0   0   0   0   0]\n",
            " [  0   0   0   0   0   0   0 120 255 255 255   0   0   0   0  72 255 255 255   0   0   0   0   0   0   0   0   0]\n",
            " [  0   0   0   0   0   0   0   0 255 255 255 255 223  96  72 239 255 255 255   0   0   0   0   0   0   0   0   0]\n",
            " [  0   0   0   0   0   0   0   0 247 255 255 255 255 255 255 255 255 255 151   0   0   0   0   0   0   0   0   0]\n",
            " [  0   0   0   0   0   0   0   0 120 255 255 255 255 255 255 255 255 151   0   0   0   0   0   0   0   0   0   0]\n",
            " [  0   0   0   0   0   0   0   0   0   0   0 120 255 255 255 255 151   0   0   0   0   0   0   0   0   0   0   0]\n",
            " [  0   0   0   0   0   0   0   0   0   0   0   0   0   0   0   0   0   0   0   0   0   0   0   0   0   0   0   0]\n",
            " [  0   0   0   0   0   0   0   0   0   0   0   0   0   0   0   0   0   0   0   0   0   0   0   0   0   0   0   0]\n",
            " [  0   0   0   0   0   0   0   0   0   0   0   0   0   0   0   0   0   0   0   0   0   0   0   0   0   0   0   0]\n",
            " [  0   0   0   0   0   0   0   0   0   0   0   0   0   0   0   0   0   0   0   0   0   0   0   0   0   0   0   0]\n",
            " [  0   0   0   0   0   0   0   0   0   0   0   0   0   0   0   0   0   0   0   0   0   0   0   0   0   0   0   0]]\n"
          ]
        },
        {
          "output_type": "execute_result",
          "data": {
            "text/plain": [
              "<matplotlib.image.AxesImage at 0x7f108fc5cad0>"
            ]
          },
          "metadata": {},
          "execution_count": 74
        },
        {
          "output_type": "display_data",
          "data": {
            "image/png": "[encoded data removed]",
            "text/plain": [
              "<Figure size 432x288 with 1 Axes>"
            ]
          },
          "metadata": {
            "needs_background": "light"
          }
        }
      ]
    },
    {
      "cell_type": "code",
      "metadata": {
        "colab": {
          "base_uri": "https://localhost:8080/",
          "height": 841
        },
        "id": "c9JgH93dejIB",
        "outputId": "49112049-b417-4cad-8df9-b4602b1b21ee"
      },
      "source": [
        "image_grey = cv2.imread(\"nine.png\", cv2.IMREAD_GRAYSCALE)\n",
        "\n",
        "img_vector = np.array(image_grey) \n",
        "print(\"Image Size(px) :\" , img_vector.shape)                #size\n",
        "print('\\n')\n",
        "\n",
        "np.set_printoptions(linewidth=np.nan)\n",
        "print(img_vector)\n",
        "\n",
        "plt.imshow(img_vector, cmap=\"Greys\")"
      ],
      "execution_count": 73,
      "outputs": [
        {
          "output_type": "stream",
          "name": "stdout",
          "text": [
            "Image Size(px) : (28, 28)\n",
            "\n",
            "\n",
            "[[  0   0   0   0   0   0   0   0   0   0   0   0   0   0   0   0   0   0   0   0   0   0   0   0   0   0   0   0]\n",
            " [  0   0   0   0   0   0   0   0   0   0   0   0   0   0   0   0   0   0   0   0   0   0   0   0   0   0   0   0]\n",
            " [  0   0   0   0   0   0   0   0   0   0   0   0   0   0   0  72 223 223  96   0   0   0   0   0   0   0   0   0]\n",
            " [  0   0   0   0   0   0   0   0   0   0   0   0  72 223 255 255 255 255 247  96   0   0   0   0   0   0   0   0]\n",
            " [  0   0   0   0   0   0   0   0   0   0  72 223 255 255 255 255 255 255 255 247   0   0   0   0   0   0   0   0]\n",
            " [  0   0   0   0   0   0   0   0   0  72 239 255 255 255 255 255 255 255 255 255   0   0   0   0   0   0   0   0]\n",
            " [  0   0   0   0   0   0   0   0   0 231 255 255 255 255 151   0 231 255 255 255   0   0   0   0   0   0   0   0]\n",
            " [  0   0   0   0   0   0   0   0   0 255 255 255 151   0   0  72 255 255 255 255   0   0   0   0   0   0   0   0]\n",
            " [  0   0   0   0   0   0   0   0   0 255 255 255   0   0  72 239 255 255 255 167   0   0   0   0   0   0   0   0]\n",
            " [  0   0   0   0   0   0   0   0   0 255 255 255  96  72 239 255 255 255 255   8   0   0   0   0   0   0   0   0]\n",
            " [  0   0   0   0   0   0   0   0   0 247 255 255 255 255 255 255 255 255 255   0   0   0   0   0   0   0   0   0]\n",
            " [  0   0   0   0   0   0   0   0   0 120 255 255 255 255 255 255 255 255 255   0   0   0   0   0   0   0   0   0]\n",
            " [  0   0   0   0   0   0   0   0   0   0 120 255 255 255 255 255 255 255 151   0   0   0   0   0   0   0   0   0]\n",
            " [  0   0   0   0   0   0   0   0   0   0   0   0   0   0   0 255 255 255   0   0   0   0   0   0   0   0   0   0]\n",
            " [  0   0   0   0   0   0   0   0   0   0   0   0   0   0 104 255 255 255   0   0   0   0   0   0   0   0   0   0]\n",
            " [  0   0   0   0   0   0   0   0   0   0   0   0   0   0 231 255 255 167   0   0   0   0   0   0   0   0   0   0]\n",
            " [  0   0   0   0   0   0   0   0   0   0   0   0   0   0 255 255 255   8   0   0   0   0   0   0   0   0   0   0]\n",
            " [  0   0   0   0   0   0   0   0   0   0   0   0   0   0 255 255 255   0   0   0   0   0   0   0   0   0   0   0]\n",
            " [  0   0   0   0   0   0   0   0   0   0   0   0   0  72 255 255 255   0   0   0   0   0   0   0   0   0   0   0]\n",
            " [  0   0   0   0   0   0   0   0   0   0   0   0   0 231 255 255 255   0   0   0   0   0   0   0   0   0   0   0]\n",
            " [  0   0   0   0   0   0   0   0   0   0   0   0   0 255 255 255 151   0   0   0   0   0   0   0   0   0   0   0]\n",
            " [  0   0   0   0   0   0   0   0   0   0   0   0 104 255 255 255   0   0   0   0   0   0   0   0   0   0   0   0]\n",
            " [  0   0   0   0   0   0   0   0   0   0   0   0 231 255 255 167   0   0   0   0   0   0   0   0   0   0   0   0]\n",
            " [  0   0   0   0   0   0   0   0   0   0   0   0 247 255 255   8   0   0   0   0   0   0   0   0   0   0   0   0]\n",
            " [  0   0   0   0   0   0   0   0   0   0   0   0 120 255 151   0   0   0   0   0   0   0   0   0   0   0   0   0]\n",
            " [  0   0   0   0   0   0   0   0   0   0   0   0   0   0   0   0   0   0   0   0   0   0   0   0   0   0   0   0]\n",
            " [  0   0   0   0   0   0   0   0   0   0   0   0   0   0   0   0   0   0   0   0   0   0   0   0   0   0   0   0]\n",
            " [  0   0   0   0   0   0   0   0   0   0   0   0   0   0   0   0   0   0   0   0   0   0   0   0   0   0   0   0]]\n"
          ]
        },
        {
          "output_type": "execute_result",
          "data": {
            "text/plain": [
              "<matplotlib.image.AxesImage at 0x7f1085e1d450>"
            ]
          },
          "metadata": {},
          "execution_count": 73
        },
        {
          "output_type": "display_data",
          "data": {
            "image/png": "[encoded data removed]",
            "text/plain": [
              "<Figure size 432x288 with 1 Axes>"
            ]
          },
          "metadata": {
            "needs_background": "light"
          }
        }
      ]
    }
  ]
}